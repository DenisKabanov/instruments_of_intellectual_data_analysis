{
  "cells": [
    {
      "cell_type": "markdown",
      "metadata": {
        "id": "S6z3gmL4WFDi"
      },
      "source": [
        "# Задание"
      ]
    },
    {
      "cell_type": "markdown",
      "metadata": {
        "id": "4n4ecHgsWFDu"
      },
      "source": [
        "1) Натренировать нейронную сеть, отличающую классы bicycle, motorcycle, background (всё, что не велосипед и не мотоцикл). (6 баллов)\n",
        "    * Можно использовать претренированную модель, но нужно ее дообучить.\n",
        "    * Не должно быть багов (обратите внимание на дисбаланс классов).\n",
        "2) Провести анализ результатов (confusion матрица, зависимость точности от внешних условий, сравнение моделей, анализ метрик, ...). (1-2 балла в зависимости от полноты анализа)\n",
        "3) Сравнить производительность в разных рантаймах: onnxruntime, tensorrt, tvm, tflite, pytorch-keras, openvino... (0.5 балла за каждый фреймворк)\n",
        "4) Продемонстрировать манипуляцию весами: трансформировать первый слой, чтобы количество входных каналов в первой свертке было не 3, а 1 с минимальной потерей точности. То есть, сетка должна работать на грейскейле. (1 балл)"
      ]
    },
    {
      "cell_type": "markdown",
      "metadata": {
        "id": "ijIh2RK-WFDv"
      },
      "source": [
        "## Настройки/Гиперпараметры/Импорты"
      ]
    },
    {
      "cell_type": "code",
      "execution_count": 1,
      "metadata": {
        "id": "XOA2ozl6WFDv"
      },
      "outputs": [],
      "source": [
        "import torchvision # для работы (скачивания, преобразования...) с картинками (датасетом)\n",
        "import torch # для работы с тензорами и моделями\n",
        "from transformers import ViTForImageClassification, ViTImageProcessor # для предобученной модели и трансформера данных\n",
        "# transformers version 4.35.2\n",
        "\n",
        "import numpy as np # для работы с матрицами\n",
        "\n",
        "import pickle # для сохранения файлов\n",
        "import random # для изменения пропорции данных в обучающем датасете (классы \"background\" будут случайно заменяться на классы \"bicycle\" и \"motorcycle\")\n",
        "from tqdm import tqdm # для отслеживания прогресса выполнения\n",
        "\n",
        "import matplotlib.pyplot as plt # для вывода графиков/картинок\n",
        "from sklearn.metrics import confusion_matrix, ConfusionMatrixDisplay # для оценивания качества предсказаний модели"
      ]
    },
    {
      "cell_type": "code",
      "execution_count": 2,
      "metadata": {
        "id": "jkCo_7eFWFDw"
      },
      "outputs": [],
      "source": [
        "dtype = torch.float64 # используемый тип данных\n",
        "device = torch.device(\"cuda\") # устройство, на котором будет работать модель\n",
        "\n",
        "models_path = \"./models/\" # путь, куда будут сохраняться модели (из state_dict)\n",
        "# models_path = \"/content/drive/MyDrive/tmp/lab3/models/\"\n",
        "data_path = \"./data/\"\n",
        "# data_path = \"/content/drive/MyDrive/tmp/lab3/data/\"\n",
        "loss_path = \"./losses/\"\n",
        "# loss_path = \"/content/drive/MyDrive/tmp/lab3/losses/\"\n",
        "\n",
        "num_classes = 3 # число классов (в задании: bicycle, motorcycle, background)\n",
        "epochs = 5 # число эпох обучения\n",
        "learning_rate = 0.0001 # скорость обучения модели"
      ]
    },
    {
      "cell_type": "code",
      "execution_count": 3,
      "metadata": {
        "colab": {
          "base_uri": "https://localhost:8080/"
        },
        "id": "OrG2vxzFWYo4",
        "outputId": "49f14a95-feb1-4004-ffb5-b155eae825ec"
      },
      "outputs": [
        {
          "name": "stdout",
          "output_type": "stream",
          "text": [
            "Drive already mounted at /content/drive; to attempt to forcibly remount, call drive.mount(\"/content/drive\", force_remount=True).\n"
          ]
        }
      ],
      "source": [
        "# from google.colab import drive\n",
        "# drive.mount('/content/drive')"
      ]
    },
    {
      "cell_type": "markdown",
      "metadata": {
        "id": "HKAkx0QCWFDx"
      },
      "source": [
        "# Подготовка датасета и модели"
      ]
    },
    {
      "cell_type": "markdown",
      "metadata": {
        "id": "IRbqiPLqWFDx"
      },
      "source": [
        "## Датасет"
      ]
    },
    {
      "cell_type": "markdown",
      "metadata": {
        "id": "uQxCl_WhWFDx"
      },
      "source": [
        "CIFAR-100 — датасет, состоящий из 60 000 изображений, поделенных на 100 классов. В обучающей выборке присутствуют 50 000 изображений, по 500 сэмплов для каждого класса. Тогда как в тестовой — 10 000 по 100 сэмплов.\n",
        "\n",
        "Каждое изображение имеет размерность (3, 32, 32) ~ (Channels, Height, Width)."
      ]
    },
    {
      "cell_type": "markdown",
      "metadata": {
        "id": "UkW4Hyq1WFDy"
      },
      "source": [
        "Классы (labels) датасета:\n"
      ]
    },
    {
      "cell_type": "code",
      "execution_count": null,
      "metadata": {
        "colab": {
          "base_uri": "https://localhost:8080/"
        },
        "id": "-SssVhaNWFDy",
        "outputId": "68141e8e-2fe5-4d38-d3b8-f098a827498a"
      },
      "outputs": [
        {
          "name": "stdout",
          "output_type": "stream",
          "text": [
            "Класс 0: apple\n",
            "Класс 1: aquarium_fish\n",
            "Класс 2: baby\n",
            "Класс 3: bear\n",
            "Класс 4: beaver\n",
            "Класс 5: bed\n",
            "Класс 6: bee\n",
            "Класс 7: beetle\n",
            "Класс 8: bicycle\n",
            "Класс 9: bottle\n",
            "Класс 10: bowl\n",
            "Класс 11: boy\n",
            "Класс 12: bridge\n",
            "Класс 13: bus\n",
            "Класс 14: butterfly\n",
            "Класс 15: camel\n",
            "Класс 16: can\n",
            "Класс 17: castle\n",
            "Класс 18: caterpillar\n",
            "Класс 19: cattle\n",
            "Класс 20: chair\n",
            "Класс 21: chimpanzee\n",
            "Класс 22: clock\n",
            "Класс 23: cloud\n",
            "Класс 24: cockroach\n",
            "Класс 25: couch\n",
            "Класс 26: crab\n",
            "Класс 27: crocodile\n",
            "Класс 28: cup\n",
            "Класс 29: dinosaur\n",
            "Класс 30: dolphin\n",
            "Класс 31: elephant\n",
            "Класс 32: flatfish\n",
            "Класс 33: forest\n",
            "Класс 34: fox\n",
            "Класс 35: girl\n",
            "Класс 36: hamster\n",
            "Класс 37: house\n",
            "Класс 38: kangaroo\n",
            "Класс 39: keyboard\n",
            "Класс 40: lamp\n",
            "Класс 41: lawn_mower\n",
            "Класс 42: leopard\n",
            "Класс 43: lion\n",
            "Класс 44: lizard\n",
            "Класс 45: lobster\n",
            "Класс 46: man\n",
            "Класс 47: maple_tree\n",
            "Класс 48: motorcycle\n",
            "Класс 49: mountain\n",
            "Класс 50: mouse\n",
            "Класс 51: mushroom\n",
            "Класс 52: oak_tree\n",
            "Класс 53: orange\n",
            "Класс 54: orchid\n",
            "Класс 55: otter\n",
            "Класс 56: palm_tree\n",
            "Класс 57: pear\n",
            "Класс 58: pickup_truck\n",
            "Класс 59: pine_tree\n",
            "Класс 60: plain\n",
            "Класс 61: plate\n",
            "Класс 62: poppy\n",
            "Класс 63: porcupine\n",
            "Класс 64: possum\n",
            "Класс 65: rabbit\n",
            "Класс 66: raccoon\n",
            "Класс 67: ray\n",
            "Класс 68: road\n",
            "Класс 69: rocket\n",
            "Класс 70: rose\n",
            "Класс 71: sea\n",
            "Класс 72: seal\n",
            "Класс 73: shark\n",
            "Класс 74: shrew\n",
            "Класс 75: skunk\n",
            "Класс 76: skyscraper\n",
            "Класс 77: snail\n",
            "Класс 78: snake\n",
            "Класс 79: spider\n",
            "Класс 80: squirrel\n",
            "Класс 81: streetcar\n",
            "Класс 82: sunflower\n",
            "Класс 83: sweet_pepper\n",
            "Класс 84: table\n",
            "Класс 85: tank\n",
            "Класс 86: telephone\n",
            "Класс 87: television\n",
            "Класс 88: tiger\n",
            "Класс 89: tractor\n",
            "Класс 90: train\n",
            "Класс 91: trout\n",
            "Класс 92: tulip\n",
            "Класс 93: turtle\n",
            "Класс 94: wardrobe\n",
            "Класс 95: whale\n",
            "Класс 96: willow_tree\n",
            "Класс 97: wolf\n",
            "Класс 98: woman\n",
            "Класс 99: worm\n"
          ]
        }
      ],
      "source": [
        "classes = [\"apple\",  \"aquarium_fish\", \"baby\", \"bear\", \"beaver\", \"bed\", \"bee\", \"beetle\", \"bicycle\", \"bottle\", \"bowl\", \"boy\", \"bridge\", \"bus\", \"butterfly\", \"camel\", \"can\", \"castle\", \"caterpillar\", \"cattle\", \"chair\", \"chimpanzee\", \"clock\", \"cloud\", \"cockroach\", \"couch\", \"crab\", \"crocodile\", \"cup\", \"dinosaur\", \"dolphin\", \"elephant\", \"flatfish\", \"forest\", \"fox\", \"girl\", \"hamster\", \"house\", \"kangaroo\", \"keyboard\", \"lamp\", \"lawn_mower\", \"leopard\", \"lion\", \"lizard\", \"lobster\", \"man\", \"maple_tree\", \"motorcycle\", \"mountain\", \"mouse\", \"mushroom\", \"oak_tree\", \"orange\", \"orchid\", \"otter\", \"palm_tree\", \"pear\", \"pickup_truck\", \"pine_tree\", \"plain\", \"plate\", \"poppy\", \"porcupine\", \"possum\", \"rabbit\", \"raccoon\", \"ray\", \"road\", \"rocket\", \"rose\", \"sea\", \"seal\", \"shark\", \"shrew\", \"skunk\", \"skyscraper\", \"snail\", \"snake\", \"spider\", \"squirrel\", \"streetcar\", \"sunflower\", \"sweet_pepper\", \"table\", \"tank\", \"telephone\", \"television\", \"tiger\", \"tractor\", \"train\", \"trout\", \"tulip\", \"turtle\", \"wardrobe\", \"whale\", \"willow_tree\", \"wolf\", \"woman\", \"worm\"]\n",
        "for i in range (len(classes)):\n",
        "    print(f\"Класс {i}: {classes[i]}\")"
      ]
    },
    {
      "cell_type": "markdown",
      "metadata": {
        "id": "44uxfjs-WFD0"
      },
      "source": [
        "**Нужные нам классы находятся под индексами 8 (bicycle) и 48 (motorcycle), всё остальное будем считать за \"background\".**"
      ]
    },
    {
      "cell_type": "code",
      "execution_count": null,
      "metadata": {
        "colab": {
          "base_uri": "https://localhost:8080/"
        },
        "id": "Kr8VBzmuWFD1",
        "outputId": "2e455788-d53d-427a-a599-d3d67c2814aa"
      },
      "outputs": [
        {
          "name": "stdout",
          "output_type": "stream",
          "text": [
            "Files already downloaded and verified\n",
            "Files already downloaded and verified\n"
          ]
        }
      ],
      "source": [
        "# преобразования над датасетом (не используется, так как у модели есть собственный препроцессор картинок)\n",
        "# transforms = torchvision.transforms.Compose([ # Compose объединяет несколько преобразований вместе, чтобы они выполнялись \"последовательно\"\n",
        "#                                              torchvision.transforms.ToTensor(), # преобразование PIL изображения (или ndarray формата (Height x Width x Channels)) в tensor (типа float со значениями в области [0.0, 1.0], если такая трансформация поддерживается (см описание ToTensor))\n",
        "#                                              torchvision.transforms.Normalize(mean=(0.5071, 0.4867, 0.4408), std=(0.2675, 0.2565, 0.2761)) # нормализация каналов (в датасете три канала) к указанным среднему значению и стандартному отклонению (цифры подобраны под датасет)\n",
        "#                                            ])\n",
        "\n",
        "# датасет для обучения\n",
        "data_train = torchvision.datasets.CIFAR100(root=data_path, # путь, откуда брать/куда сохранять датасет\n",
        "                                           train=True, # какую часть датасета использовать (обучающая)\n",
        "                                           download=True, # скачивать ли датасет, если его нет в root пути\n",
        "                                        #    transform=transforms # функция, принимающая на вход PIL Image и преобразовывающая его\n",
        "                                          )\n",
        "\n",
        "# датасет для тестирования\n",
        "data_test = torchvision.datasets.CIFAR100(root=data_path, # путь, откуда брать/куда сохранять датасет\n",
        "                                          train=False, # какую часть датасета использовать (тестовая)\n",
        "                                          download=True, # скачивать ли датасет, если его нет в root пути\n",
        "                                        #   transform=transforms # функция, принимающая на вход PIL Image и преобразовывающая его\n",
        "                                         )"
      ]
    },
    {
      "cell_type": "code",
      "execution_count": null,
      "metadata": {
        "colab": {
          "base_uri": "https://localhost:8080/",
          "height": 430
        },
        "id": "p3T2NpNmWFD1",
        "outputId": "16212189-ac71-4ea7-cd98-269b6c6b8f51"
      },
      "outputs": [
        {
          "data": {
            "image/png": "[encoded data removed]",
            "text/plain": [
              "<Figure size 640x480 with 1 Axes>"
            ]
          },
          "metadata": {},
          "output_type": "display_data"
        }
      ],
      "source": [
        "plt.imshow(data_train[16][0]) # вывод изображения (data_train[16][0] — PIL Image с label 8~bicycle)\n",
        "# plt.imshow(data_train[16][0].permute(1, 2, 0)) # построение изображения (если его трансформировать)\n",
        "# .permute(1, 2, 0) меняет местами размерности, на первое место выходит Height, второе — Width, третье — Channels, так как shape(3, 32, 32) ~ (Channels, Height, Width) не воспринимается\n",
        "# операция схожа с reshape, но permute просто меняет местами индексы, гарантируя, что обращение с соответствующей перестановкой индексов вернёт тот же элемент (что был бы без permute и перестановки индексов)\n",
        "\n",
        "plt.show() # вывод изображения"
      ]
    },
    {
      "cell_type": "markdown",
      "metadata": {
        "id": "wMev8wGGWFD2"
      },
      "source": [
        "## Модель"
      ]
    },
    {
      "cell_type": "markdown",
      "metadata": {
        "id": "Vxz_2yqkWFD2"
      },
      "source": [
        "Предобученная модель взята с: https://huggingface.co/edumunozsala/vit_base-224-in21k-ft-cifar100"
      ]
    },
    {
      "cell_type": "code",
      "execution_count": null,
      "metadata": {
        "id": "cW07SFcxWFD2"
      },
      "outputs": [],
      "source": [
        "model = ViTForImageClassification.from_pretrained('edumunozsala/vit_base-224-in21k-ft-cifar100') # загружаем предобученную модель с huggingface\n",
        "torch.save(model.state_dict(), models_path+\"model_downloaded_state_dict.pth\") # сохраняем её изначальный state_dict в файл model_downloaded.pth, что лежит по пути models_path\n",
        "torch.save(model, models_path+\"model_downloaded.pth\") # сохраняем саму модель, потому что ViTForImageClassification требует config для создания"
      ]
    },
    {
      "cell_type": "code",
      "execution_count": null,
      "metadata": {
        "colab": {
          "base_uri": "https://localhost:8080/"
        },
        "id": "zwulA7qwWFD3",
        "outputId": "b7bf6ec0-50a8-454d-bf3d-77934f7010c6"
      },
      "outputs": [
        {
          "data": {
            "text/plain": [
              "ViTForImageClassification(\n",
              "  (vit): ViTModel(\n",
              "    (embeddings): ViTEmbeddings(\n",
              "      (patch_embeddings): ViTPatchEmbeddings(\n",
              "        (projection): Conv2d(3, 768, kernel_size=(16, 16), stride=(16, 16))\n",
              "      )\n",
              "      (dropout): Dropout(p=0.0, inplace=False)\n",
              "    )\n",
              "    (encoder): ViTEncoder(\n",
              "      (layer): ModuleList(\n",
              "        (0): ViTLayer(\n",
              "          (attention): ViTAttention(\n",
              "            (attention): ViTSelfAttention(\n",
              "              (query): Linear(in_features=768, out_features=768, bias=True)\n",
              "              (key): Linear(in_features=768, out_features=768, bias=True)\n",
              "              (value): Linear(in_features=768, out_features=768, bias=True)\n",
              "              (dropout): Dropout(p=0.0, inplace=False)\n",
              "            )\n",
              "            (output): ViTSelfOutput(\n",
              "              (dense): Linear(in_features=768, out_features=768, bias=True)\n",
              "              (dropout): Dropout(p=0.0, inplace=False)\n",
              "            )\n",
              "          )\n",
              "          (intermediate): ViTIntermediate(\n",
              "            (dense): Linear(in_features=768, out_features=3072, bias=True)\n",
              "            (intermediate_act_fn): GELUActivation()\n",
              "          )\n",
              "          (output): ViTOutput(\n",
              "            (dense): Linear(in_features=3072, out_features=768, bias=True)\n",
              "            (dropout): Dropout(p=0.0, inplace=False)\n",
              "          )\n",
              "          (layernorm_before): LayerNorm((768,), eps=1e-12, elementwise_affine=True)\n",
              "          (layernorm_after): LayerNorm((768,), eps=1e-12, elementwise_affine=True)\n",
              "        )\n",
              "        (1): ViTLayer(\n",
              "          (attention): ViTAttention(\n",
              "            (attention): ViTSelfAttention(\n",
              "              (query): Linear(in_features=768, out_features=768, bias=True)\n",
              "              (key): Linear(in_features=768, out_features=768, bias=True)\n",
              "              (value): Linear(in_features=768, out_features=768, bias=True)\n",
              "              (dropout): Dropout(p=0.0, inplace=False)\n",
              "            )\n",
              "            (output): ViTSelfOutput(\n",
              "              (dense): Linear(in_features=768, out_features=768, bias=True)\n",
              "              (dropout): Dropout(p=0.0, inplace=False)\n",
              "            )\n",
              "          )\n",
              "          (intermediate): ViTIntermediate(\n",
              "            (dense): Linear(in_features=768, out_features=3072, bias=True)\n",
              "            (intermediate_act_fn): GELUActivation()\n",
              "          )\n",
              "          (output): ViTOutput(\n",
              "            (dense): Linear(in_features=3072, out_features=768, bias=True)\n",
              "            (dropout): Dropout(p=0.0, inplace=False)\n",
              "          )\n",
              "          (layernorm_before): LayerNorm((768,), eps=1e-12, elementwise_affine=True)\n",
              "          (layernorm_after): LayerNorm((768,), eps=1e-12, elementwise_affine=True)\n",
              "        )\n",
              "        (2): ViTLayer(\n",
              "          (attention): ViTAttention(\n",
              "            (attention): ViTSelfAttention(\n",
              "              (query): Linear(in_features=768, out_features=768, bias=True)\n",
              "              (key): Linear(in_features=768, out_features=768, bias=True)\n",
              "              (value): Linear(in_features=768, out_features=768, bias=True)\n",
              "              (dropout): Dropout(p=0.0, inplace=False)\n",
              "            )\n",
              "            (output): ViTSelfOutput(\n",
              "              (dense): Linear(in_features=768, out_features=768, bias=True)\n",
              "              (dropout): Dropout(p=0.0, inplace=False)\n",
              "            )\n",
              "          )\n",
              "          (intermediate): ViTIntermediate(\n",
              "            (dense): Linear(in_features=768, out_features=3072, bias=True)\n",
              "            (intermediate_act_fn): GELUActivation()\n",
              "          )\n",
              "          (output): ViTOutput(\n",
              "            (dense): Linear(in_features=3072, out_features=768, bias=True)\n",
              "            (dropout): Dropout(p=0.0, inplace=False)\n",
              "          )\n",
              "          (layernorm_before): LayerNorm((768,), eps=1e-12, elementwise_affine=True)\n",
              "          (layernorm_after): LayerNorm((768,), eps=1e-12, elementwise_affine=True)\n",
              "        )\n",
              "        (3): ViTLayer(\n",
              "          (attention): ViTAttention(\n",
              "            (attention): ViTSelfAttention(\n",
              "              (query): Linear(in_features=768, out_features=768, bias=True)\n",
              "              (key): Linear(in_features=768, out_features=768, bias=True)\n",
              "              (value): Linear(in_features=768, out_features=768, bias=True)\n",
              "              (dropout): Dropout(p=0.0, inplace=False)\n",
              "            )\n",
              "            (output): ViTSelfOutput(\n",
              "              (dense): Linear(in_features=768, out_features=768, bias=True)\n",
              "              (dropout): Dropout(p=0.0, inplace=False)\n",
              "            )\n",
              "          )\n",
              "          (intermediate): ViTIntermediate(\n",
              "            (dense): Linear(in_features=768, out_features=3072, bias=True)\n",
              "            (intermediate_act_fn): GELUActivation()\n",
              "          )\n",
              "          (output): ViTOutput(\n",
              "            (dense): Linear(in_features=3072, out_features=768, bias=True)\n",
              "            (dropout): Dropout(p=0.0, inplace=False)\n",
              "          )\n",
              "          (layernorm_before): LayerNorm((768,), eps=1e-12, elementwise_affine=True)\n",
              "          (layernorm_after): LayerNorm((768,), eps=1e-12, elementwise_affine=True)\n",
              "        )\n",
              "        (4): ViTLayer(\n",
              "          (attention): ViTAttention(\n",
              "            (attention): ViTSelfAttention(\n",
              "              (query): Linear(in_features=768, out_features=768, bias=True)\n",
              "              (key): Linear(in_features=768, out_features=768, bias=True)\n",
              "              (value): Linear(in_features=768, out_features=768, bias=True)\n",
              "              (dropout): Dropout(p=0.0, inplace=False)\n",
              "            )\n",
              "            (output): ViTSelfOutput(\n",
              "              (dense): Linear(in_features=768, out_features=768, bias=True)\n",
              "              (dropout): Dropout(p=0.0, inplace=False)\n",
              "            )\n",
              "          )\n",
              "          (intermediate): ViTIntermediate(\n",
              "            (dense): Linear(in_features=768, out_features=3072, bias=True)\n",
              "            (intermediate_act_fn): GELUActivation()\n",
              "          )\n",
              "          (output): ViTOutput(\n",
              "            (dense): Linear(in_features=3072, out_features=768, bias=True)\n",
              "            (dropout): Dropout(p=0.0, inplace=False)\n",
              "          )\n",
              "          (layernorm_before): LayerNorm((768,), eps=1e-12, elementwise_affine=True)\n",
              "          (layernorm_after): LayerNorm((768,), eps=1e-12, elementwise_affine=True)\n",
              "        )\n",
              "        (5): ViTLayer(\n",
              "          (attention): ViTAttention(\n",
              "            (attention): ViTSelfAttention(\n",
              "              (query): Linear(in_features=768, out_features=768, bias=True)\n",
              "              (key): Linear(in_features=768, out_features=768, bias=True)\n",
              "              (value): Linear(in_features=768, out_features=768, bias=True)\n",
              "              (dropout): Dropout(p=0.0, inplace=False)\n",
              "            )\n",
              "            (output): ViTSelfOutput(\n",
              "              (dense): Linear(in_features=768, out_features=768, bias=True)\n",
              "              (dropout): Dropout(p=0.0, inplace=False)\n",
              "            )\n",
              "          )\n",
              "          (intermediate): ViTIntermediate(\n",
              "            (dense): Linear(in_features=768, out_features=3072, bias=True)\n",
              "            (intermediate_act_fn): GELUActivation()\n",
              "          )\n",
              "          (output): ViTOutput(\n",
              "            (dense): Linear(in_features=3072, out_features=768, bias=True)\n",
              "            (dropout): Dropout(p=0.0, inplace=False)\n",
              "          )\n",
              "          (layernorm_before): LayerNorm((768,), eps=1e-12, elementwise_affine=True)\n",
              "          (layernorm_after): LayerNorm((768,), eps=1e-12, elementwise_affine=True)\n",
              "        )\n",
              "        (6): ViTLayer(\n",
              "          (attention): ViTAttention(\n",
              "            (attention): ViTSelfAttention(\n",
              "              (query): Linear(in_features=768, out_features=768, bias=True)\n",
              "              (key): Linear(in_features=768, out_features=768, bias=True)\n",
              "              (value): Linear(in_features=768, out_features=768, bias=True)\n",
              "              (dropout): Dropout(p=0.0, inplace=False)\n",
              "            )\n",
              "            (output): ViTSelfOutput(\n",
              "              (dense): Linear(in_features=768, out_features=768, bias=True)\n",
              "              (dropout): Dropout(p=0.0, inplace=False)\n",
              "            )\n",
              "          )\n",
              "          (intermediate): ViTIntermediate(\n",
              "            (dense): Linear(in_features=768, out_features=3072, bias=True)\n",
              "            (intermediate_act_fn): GELUActivation()\n",
              "          )\n",
              "          (output): ViTOutput(\n",
              "            (dense): Linear(in_features=3072, out_features=768, bias=True)\n",
              "            (dropout): Dropout(p=0.0, inplace=False)\n",
              "          )\n",
              "          (layernorm_before): LayerNorm((768,), eps=1e-12, elementwise_affine=True)\n",
              "          (layernorm_after): LayerNorm((768,), eps=1e-12, elementwise_affine=True)\n",
              "        )\n",
              "        (7): ViTLayer(\n",
              "          (attention): ViTAttention(\n",
              "            (attention): ViTSelfAttention(\n",
              "              (query): Linear(in_features=768, out_features=768, bias=True)\n",
              "              (key): Linear(in_features=768, out_features=768, bias=True)\n",
              "              (value): Linear(in_features=768, out_features=768, bias=True)\n",
              "              (dropout): Dropout(p=0.0, inplace=False)\n",
              "            )\n",
              "            (output): ViTSelfOutput(\n",
              "              (dense): Linear(in_features=768, out_features=768, bias=True)\n",
              "              (dropout): Dropout(p=0.0, inplace=False)\n",
              "            )\n",
              "          )\n",
              "          (intermediate): ViTIntermediate(\n",
              "            (dense): Linear(in_features=768, out_features=3072, bias=True)\n",
              "            (intermediate_act_fn): GELUActivation()\n",
              "          )\n",
              "          (output): ViTOutput(\n",
              "            (dense): Linear(in_features=3072, out_features=768, bias=True)\n",
              "            (dropout): Dropout(p=0.0, inplace=False)\n",
              "          )\n",
              "          (layernorm_before): LayerNorm((768,), eps=1e-12, elementwise_affine=True)\n",
              "          (layernorm_after): LayerNorm((768,), eps=1e-12, elementwise_affine=True)\n",
              "        )\n",
              "        (8): ViTLayer(\n",
              "          (attention): ViTAttention(\n",
              "            (attention): ViTSelfAttention(\n",
              "              (query): Linear(in_features=768, out_features=768, bias=True)\n",
              "              (key): Linear(in_features=768, out_features=768, bias=True)\n",
              "              (value): Linear(in_features=768, out_features=768, bias=True)\n",
              "              (dropout): Dropout(p=0.0, inplace=False)\n",
              "            )\n",
              "            (output): ViTSelfOutput(\n",
              "              (dense): Linear(in_features=768, out_features=768, bias=True)\n",
              "              (dropout): Dropout(p=0.0, inplace=False)\n",
              "            )\n",
              "          )\n",
              "          (intermediate): ViTIntermediate(\n",
              "            (dense): Linear(in_features=768, out_features=3072, bias=True)\n",
              "            (intermediate_act_fn): GELUActivation()\n",
              "          )\n",
              "          (output): ViTOutput(\n",
              "            (dense): Linear(in_features=3072, out_features=768, bias=True)\n",
              "            (dropout): Dropout(p=0.0, inplace=False)\n",
              "          )\n",
              "          (layernorm_before): LayerNorm((768,), eps=1e-12, elementwise_affine=True)\n",
              "          (layernorm_after): LayerNorm((768,), eps=1e-12, elementwise_affine=True)\n",
              "        )\n",
              "        (9): ViTLayer(\n",
              "          (attention): ViTAttention(\n",
              "            (attention): ViTSelfAttention(\n",
              "              (query): Linear(in_features=768, out_features=768, bias=True)\n",
              "              (key): Linear(in_features=768, out_features=768, bias=True)\n",
              "              (value): Linear(in_features=768, out_features=768, bias=True)\n",
              "              (dropout): Dropout(p=0.0, inplace=False)\n",
              "            )\n",
              "            (output): ViTSelfOutput(\n",
              "              (dense): Linear(in_features=768, out_features=768, bias=True)\n",
              "              (dropout): Dropout(p=0.0, inplace=False)\n",
              "            )\n",
              "          )\n",
              "          (intermediate): ViTIntermediate(\n",
              "            (dense): Linear(in_features=768, out_features=3072, bias=True)\n",
              "            (intermediate_act_fn): GELUActivation()\n",
              "          )\n",
              "          (output): ViTOutput(\n",
              "            (dense): Linear(in_features=3072, out_features=768, bias=True)\n",
              "            (dropout): Dropout(p=0.0, inplace=False)\n",
              "          )\n",
              "          (layernorm_before): LayerNorm((768,), eps=1e-12, elementwise_affine=True)\n",
              "          (layernorm_after): LayerNorm((768,), eps=1e-12, elementwise_affine=True)\n",
              "        )\n",
              "        (10): ViTLayer(\n",
              "          (attention): ViTAttention(\n",
              "            (attention): ViTSelfAttention(\n",
              "              (query): Linear(in_features=768, out_features=768, bias=True)\n",
              "              (key): Linear(in_features=768, out_features=768, bias=True)\n",
              "              (value): Linear(in_features=768, out_features=768, bias=True)\n",
              "              (dropout): Dropout(p=0.0, inplace=False)\n",
              "            )\n",
              "            (output): ViTSelfOutput(\n",
              "              (dense): Linear(in_features=768, out_features=768, bias=True)\n",
              "              (dropout): Dropout(p=0.0, inplace=False)\n",
              "            )\n",
              "          )\n",
              "          (intermediate): ViTIntermediate(\n",
              "            (dense): Linear(in_features=768, out_features=3072, bias=True)\n",
              "            (intermediate_act_fn): GELUActivation()\n",
              "          )\n",
              "          (output): ViTOutput(\n",
              "            (dense): Linear(in_features=3072, out_features=768, bias=True)\n",
              "            (dropout): Dropout(p=0.0, inplace=False)\n",
              "          )\n",
              "          (layernorm_before): LayerNorm((768,), eps=1e-12, elementwise_affine=True)\n",
              "          (layernorm_after): LayerNorm((768,), eps=1e-12, elementwise_affine=True)\n",
              "        )\n",
              "        (11): ViTLayer(\n",
              "          (attention): ViTAttention(\n",
              "            (attention): ViTSelfAttention(\n",
              "              (query): Linear(in_features=768, out_features=768, bias=True)\n",
              "              (key): Linear(in_features=768, out_features=768, bias=True)\n",
              "              (value): Linear(in_features=768, out_features=768, bias=True)\n",
              "              (dropout): Dropout(p=0.0, inplace=False)\n",
              "            )\n",
              "            (output): ViTSelfOutput(\n",
              "              (dense): Linear(in_features=768, out_features=768, bias=True)\n",
              "              (dropout): Dropout(p=0.0, inplace=False)\n",
              "            )\n",
              "          )\n",
              "          (intermediate): ViTIntermediate(\n",
              "            (dense): Linear(in_features=768, out_features=3072, bias=True)\n",
              "            (intermediate_act_fn): GELUActivation()\n",
              "          )\n",
              "          (output): ViTOutput(\n",
              "            (dense): Linear(in_features=3072, out_features=768, bias=True)\n",
              "            (dropout): Dropout(p=0.0, inplace=False)\n",
              "          )\n",
              "          (layernorm_before): LayerNorm((768,), eps=1e-12, elementwise_affine=True)\n",
              "          (layernorm_after): LayerNorm((768,), eps=1e-12, elementwise_affine=True)\n",
              "        )\n",
              "      )\n",
              "    )\n",
              "    (layernorm): LayerNorm((768,), eps=1e-12, elementwise_affine=True)\n",
              "  )\n",
              "  (classifier): Linear(in_features=768, out_features=100, bias=True)\n",
              ")"
            ]
          },
          "execution_count": 3,
          "metadata": {},
          "output_type": "execute_result"
        }
      ],
      "source": [
        "model = torch.load(models_path+\"model_downloaded.pth\") # загружаем сохранённую модель\n",
        "model # вывод строения модели"
      ]
    },
    {
      "cell_type": "markdown",
      "metadata": {
        "id": "NOyL4eFoWFD3"
      },
      "source": [
        "## Обработчик картинок"
      ]
    },
    {
      "cell_type": "code",
      "execution_count": 3,
      "metadata": {
        "colab": {
          "base_uri": "https://localhost:8080/"
        },
        "id": "R4HeSVwwWFD3",
        "outputId": "f3416d34-f0ab-41bf-9f0e-f6f7538b05e7"
      },
      "outputs": [
        {
          "data": {
            "text/plain": [
              "(None,\n",
              " None,\n",
              " None,\n",
              " None,\n",
              " None,\n",
              " None,\n",
              " None,\n",
              " None,\n",
              " None,\n",
              " <ChannelDimension.FIRST: 'channels_first'>,\n",
              " None)"
            ]
          },
          "execution_count": 3,
          "metadata": {},
          "output_type": "execute_result"
        }
      ],
      "source": [
        "ViTImageProcessor.preprocess.__defaults__ # стандартные параметры __call__ (preproces) метода у ViTImageProcessor"
      ]
    },
    {
      "cell_type": "code",
      "execution_count": 4,
      "metadata": {
        "colab": {
          "base_uri": "https://localhost:8080/"
        },
        "id": "olFAhqJVWFD4",
        "outputId": "4c13d52d-89e8-4466-d91b-d5dedbefb838"
      },
      "outputs": [
        {
          "data": {
            "text/plain": [
              "(None,\n",
              " None,\n",
              " None,\n",
              " None,\n",
              " None,\n",
              " None,\n",
              " None,\n",
              " None,\n",
              " 'pt',\n",
              " <ChannelDimension.FIRST: 'channels_first'>,\n",
              " None)"
            ]
          },
          "execution_count": 4,
          "metadata": {},
          "output_type": "execute_result"
        }
      ],
      "source": [
        "ViTImageProcessor.preprocess.__defaults__ = (None, None, None, None, None, None, None, None, \"pt\", ViTImageProcessor.preprocess.__defaults__[9], None) # ставим \"pt\" на месте параметра return_tensors, чтобы обработчик возвращал pytorch тензоры\n",
        "ViTImageProcessor.preprocess.__defaults__ # последний None в зависимости от версии transformers"
      ]
    },
    {
      "cell_type": "code",
      "execution_count": 5,
      "metadata": {
        "id": "AnfQxV72WFD6"
      },
      "outputs": [],
      "source": [
        "feature_extractor = ViTImageProcessor.from_pretrained('google/vit-base-patch16-224-in21k') # объект для препроцессинга картинок, с которым обучалась изначальная модель\n",
        "# torch.save(feature_extractor, models_path+\"model_downloaded_feature_extractor.pth\") # сохраняем его в файл \"model_downloaded_feature_extractor.pth\""
      ]
    },
    {
      "cell_type": "code",
      "execution_count": 6,
      "metadata": {
        "colab": {
          "base_uri": "https://localhost:8080/"
        },
        "id": "8oOeR5unWFD7",
        "outputId": "f4ce4792-1a94-4162-c82b-a8e4b53e8b35"
      },
      "outputs": [
        {
          "data": {
            "text/plain": [
              "ViTImageProcessor {\n",
              "  \"do_normalize\": true,\n",
              "  \"do_rescale\": true,\n",
              "  \"do_resize\": true,\n",
              "  \"image_mean\": [\n",
              "    0.5,\n",
              "    0.5,\n",
              "    0.5\n",
              "  ],\n",
              "  \"image_processor_type\": \"ViTImageProcessor\",\n",
              "  \"image_std\": [\n",
              "    0.5,\n",
              "    0.5,\n",
              "    0.5\n",
              "  ],\n",
              "  \"resample\": 2,\n",
              "  \"rescale_factor\": 0.00392156862745098,\n",
              "  \"size\": {\n",
              "    \"height\": 224,\n",
              "    \"width\": 224\n",
              "  }\n",
              "}"
            ]
          },
          "execution_count": 6,
          "metadata": {},
          "output_type": "execute_result"
        }
      ],
      "source": [
        "feature_extractor = torch.load(models_path+\"model_downloaded_feature_extractor.pth\") # загружаем препроцессор для картинок\n",
        "feature_extractor # вывод того, что делает препроцессор"
      ]
    },
    {
      "cell_type": "markdown",
      "metadata": {
        "id": "Zzwp0x79WFD7"
      },
      "source": [
        "## Пример работы модели"
      ]
    },
    {
      "cell_type": "code",
      "execution_count": null,
      "metadata": {
        "id": "GUXQ5bYGWFD8"
      },
      "outputs": [],
      "source": [
        "input_example = feature_extractor(images=data_train[16][0], return_tensors=\"pt\") # предобрабатываем картинку с велосипедом (return_tensors=\"pt\" — возвращаем pytorch тензор)"
      ]
    },
    {
      "cell_type": "code",
      "execution_count": null,
      "metadata": {
        "colab": {
          "base_uri": "https://localhost:8080/"
        },
        "id": "HFwMKkLJWFD8",
        "outputId": "879c5067-249f-4692-8bf8-61ca5b7f16bf"
      },
      "outputs": [
        {
          "data": {
            "text/plain": [
              "{'pixel_values': tensor([[[[-0.7255, -0.7255, -0.7255,  ..., -0.1294, -0.1294, -0.1294],\n",
              "          [-0.7255, -0.7255, -0.7255,  ..., -0.1294, -0.1294, -0.1294],\n",
              "          [-0.7255, -0.7255, -0.7255,  ..., -0.1294, -0.1294, -0.1294],\n",
              "          ...,\n",
              "          [ 0.5922,  0.5922,  0.5922,  ...,  0.4196,  0.4196,  0.4196],\n",
              "          [ 0.5922,  0.5922,  0.5922,  ...,  0.4196,  0.4196,  0.4196],\n",
              "          [ 0.5922,  0.5922,  0.5922,  ...,  0.4196,  0.4196,  0.4196]],\n",
              "\n",
              "         [[-0.7020, -0.7020, -0.7020,  ..., -0.0039, -0.0039, -0.0039],\n",
              "          [-0.7020, -0.7020, -0.7020,  ..., -0.0039, -0.0039, -0.0039],\n",
              "          [-0.7020, -0.7020, -0.7020,  ..., -0.0039, -0.0039, -0.0039],\n",
              "          ...,\n",
              "          [ 0.6784,  0.6784,  0.6784,  ...,  0.5529,  0.5529,  0.5529],\n",
              "          [ 0.6784,  0.6784,  0.6784,  ...,  0.5529,  0.5529,  0.5529],\n",
              "          [ 0.6784,  0.6784,  0.6784,  ...,  0.5529,  0.5529,  0.5529]],\n",
              "\n",
              "         [[-0.7490, -0.7490, -0.7490,  ..., -0.3490, -0.3490, -0.3490],\n",
              "          [-0.7490, -0.7490, -0.7490,  ..., -0.3490, -0.3490, -0.3490],\n",
              "          [-0.7490, -0.7490, -0.7490,  ..., -0.3490, -0.3490, -0.3490],\n",
              "          ...,\n",
              "          [ 0.1373,  0.1373,  0.1373,  ..., -0.0745, -0.0745, -0.0745],\n",
              "          [ 0.1373,  0.1373,  0.1373,  ..., -0.0745, -0.0745, -0.0745],\n",
              "          [ 0.1373,  0.1373,  0.1373,  ..., -0.0745, -0.0745, -0.0745]]]])}"
            ]
          },
          "execution_count": 14,
          "metadata": {},
          "output_type": "execute_result"
        }
      ],
      "source": [
        "input_example # вывод того, во что сконвертировался PIL Image"
      ]
    },
    {
      "cell_type": "code",
      "execution_count": null,
      "metadata": {
        "colab": {
          "base_uri": "https://localhost:8080/"
        },
        "id": "GEodQrskWFD8",
        "outputId": "afce8ffe-d36d-45e6-c2e4-042e7432f025"
      },
      "outputs": [
        {
          "data": {
            "text/plain": [
              "torch.Size([1, 3, 224, 224])"
            ]
          },
          "execution_count": 15,
          "metadata": {},
          "output_type": "execute_result"
        }
      ],
      "source": [
        "input_example[\"pixel_values\"].shape # размерность входа (batch_size, Channels, Height, Width)"
      ]
    },
    {
      "cell_type": "code",
      "execution_count": null,
      "metadata": {
        "colab": {
          "base_uri": "https://localhost:8080/"
        },
        "id": "0yT4US2pWFD9",
        "outputId": "db9f84f1-2cff-46fe-f6c4-7ab94f9293c6"
      },
      "outputs": [
        {
          "data": {
            "text/plain": [
              "8"
            ]
          },
          "execution_count": 16,
          "metadata": {},
          "output_type": "execute_result"
        }
      ],
      "source": [
        "data_train[16][1] # настоящий таргет этого сэмпла"
      ]
    },
    {
      "cell_type": "code",
      "execution_count": null,
      "metadata": {
        "colab": {
          "base_uri": "https://localhost:8080/"
        },
        "id": "-XY7HmO0WFD9",
        "outputId": "89ef6906-185d-4794-a415-52b87b9e2e56"
      },
      "outputs": [
        {
          "data": {
            "text/plain": [
              "ImageClassifierOutput(loss=None, logits=tensor([[-2.2100e-01,  3.6664e-01, -1.7498e-02, -1.9066e-01,  2.5630e-01,\n",
              "         -1.8679e-01,  4.1031e-02, -1.6793e-01,  9.8878e+00, -2.1973e-01,\n",
              "          5.4470e-01, -9.1136e-03, -5.4320e-01,  1.1484e-01, -2.8465e-01,\n",
              "         -3.9441e-01, -2.6831e-01, -9.0195e-02, -6.6151e-03, -7.8942e-02,\n",
              "         -3.9036e-01, -1.9537e-01,  5.9087e-02,  3.5102e-01, -2.1579e-01,\n",
              "          4.8623e-02,  1.5578e-01, -1.8561e-01, -7.9289e-02,  3.1258e-01,\n",
              "         -8.5446e-01,  6.6529e-01, -2.9746e-01, -9.2083e-02,  5.8025e-02,\n",
              "          1.6811e-01, -3.5605e-01, -2.0179e-01, -6.9506e-02,  6.4792e-01,\n",
              "         -4.4716e-01, -6.2601e-01, -7.7631e-01, -2.7773e-01, -5.7246e-02,\n",
              "          4.1897e-01,  3.7924e-01, -6.7312e-01,  1.0508e+00, -7.9381e-02,\n",
              "         -1.5226e-01, -1.6402e-01,  4.7819e-01, -5.7159e-02, -5.2572e-01,\n",
              "          1.6712e-01,  8.9945e-02, -3.9202e-01, -2.1837e-01,  1.9421e-01,\n",
              "          1.4466e-01, -2.1497e-01,  2.5911e-01,  2.7446e-01, -4.5678e-02,\n",
              "          5.8036e-02, -1.8336e-01, -3.8895e-01, -1.1212e-02, -1.6365e-01,\n",
              "         -5.7708e-01,  1.3901e-01,  2.7916e-01, -2.3631e-01, -3.0809e-02,\n",
              "         -7.0127e-01, -5.5463e-02, -4.3263e-01, -2.4429e-02, -8.9216e-02,\n",
              "         -6.9952e-01,  3.6794e-01,  4.8950e-01, -6.1389e-01, -7.9761e-02,\n",
              "         -5.9769e-01,  3.5549e-02,  4.1512e-02, -2.3749e-01, -2.4586e-01,\n",
              "          2.7551e-02, -3.0243e-01, -2.6909e-01,  7.1281e-02, -5.0661e-02,\n",
              "          2.0394e-01, -4.3209e-01,  3.2877e-01, -8.7056e-02,  1.0641e+00]],\n",
              "       grad_fn=<AddmmBackward0>), hidden_states=None, attentions=None)"
            ]
          },
          "execution_count": 17,
          "metadata": {},
          "output_type": "execute_result"
        }
      ],
      "source": [
        "model.eval() # перевод модель в режим оценивания (dropout перестаёт работать, а BatchNorm собирать статистику)\n",
        "output_example = model(**input_example) # передаём в модель входные данные\n",
        "output_example # вывод выхода модели (logits - вероятности классов, полученные с помощью logit функции)"
      ]
    },
    {
      "cell_type": "code",
      "execution_count": null,
      "metadata": {
        "colab": {
          "base_uri": "https://localhost:8080/"
        },
        "id": "FkPiRPzdWFD9",
        "outputId": "0fdfca89-7399-4738-fa98-dd79bed2c385"
      },
      "outputs": [
        {
          "data": {
            "text/plain": [
              "tensor([8])"
            ]
          },
          "execution_count": 18,
          "metadata": {},
          "output_type": "execute_result"
        }
      ],
      "source": [
        "torch.argmax(output_example.logits, axis=-1) # ищём индекс с максимальным значением для каждого батча с помощью axis=-1 (номер самого вероятного класса)\n",
        "# ответ совпал с таргетом"
      ]
    },
    {
      "cell_type": "markdown",
      "metadata": {
        "id": "T8vnszrsWFD-"
      },
      "source": [
        "## Оценивание текущего качества модели"
      ]
    },
    {
      "cell_type": "markdown",
      "metadata": {
        "id": "CnvTpxvpWFD-"
      },
      "source": [
        "### Создадим loader для данных с использованием feature_extractor, что совместим с моделью"
      ]
    },
    {
      "cell_type": "code",
      "execution_count": 96,
      "metadata": {
        "colab": {
          "base_uri": "https://localhost:8080/"
        },
        "id": "a4Q5GOGwWFD-",
        "outputId": "808d0a44-2138-4a88-ca0d-e00096ae4f23"
      },
      "outputs": [
        {
          "name": "stdout",
          "output_type": "stream",
          "text": [
            "Files already downloaded and verified\n"
          ]
        }
      ],
      "source": [
        "# датасет для тестирования\n",
        "data_test = torchvision.datasets.CIFAR100(root=data_path, # путь, откуда брать/куда сохранять датасет\n",
        "                                          train=False, # какую часть датасета использовать (тестовая)\n",
        "                                          download=True, # скачивать ли датасет, если его нет в root пути\n",
        "                                          transform=feature_extractor # функция, принимающая на вход PIL Image и преобразовывающая его\n",
        "                                         )\n",
        "\n",
        "# загрузчик данных для тестирования\n",
        "loader_test = torch.utils.data.DataLoader(dataset=data_test, # указание датасета для DataLoader\n",
        "                                          batch_size=20, # размер батчка (число сэмплов, что будет возвращать DataLoader за раз) (градиент усредняется по батчу, ускоряется обработка датасета, но слегка замедляется обработка сэмпла)\n",
        "                                          shuffle=True, # перемешивать ли датасет\n",
        "                                          num_workers=2, # число используемых ядер процессора для ускорения обработки данных\n",
        "                                          pin_memory=True # нужно ли заранее аллоцировать память под объект на GPU (лучше так, чем возвращать CUDA tensors при multi-process loading)\n",
        "                                         )"
      ]
    },
    {
      "cell_type": "code",
      "execution_count": 23,
      "metadata": {
        "id": "-8xqiJRhWFD_"
      },
      "outputs": [],
      "source": [
        "def evaluate_model(model, loader, device, finetuned=False) -> np.ndarray:\n",
        "    \"\"\"\n",
        "    Функция для подсчёта матрицы ошибок (confusion matrix).\\n\n",
        "    Parameters:\n",
        "        * model: оцениваемая модель\n",
        "        * loader: загрузчик данных для оценивания\n",
        "        * device: устройство, на котором будет запуск\n",
        "        * finetuned: ключ, что нужен, если датасет был преобразован из CIFAR-100 формата\\n\n",
        "    Returns:\n",
        "        * np.ndarray: матрица ошибок (confusion matrix) для классов (строки - true labels, столбцы — predicted labels)\n",
        "    \"\"\"\n",
        "    labels_true = [] # список под настоящие классы\n",
        "    labels_pred = [] # список под предсказаные классы\n",
        "\n",
        "    model.to(device) # отправляем модель на девайс\n",
        "    model.eval() # перевод модели в режим оценивания (dropout перестаёт работать, а BatchNorm собирать статистику)\n",
        "    with torch.no_grad(): # отключаем подсчёт градиентов\n",
        "        for batch_idx, (data, target) in enumerate(loader): # идём по батчам, что возвращает loader\n",
        "            for t in target: # идём по таргетам (их сразу несколько == размер батча в loader)\n",
        "                labels_true.append(t) # добавляем target в список с настоящими классами (таргеты остаются на cpu)\n",
        "\n",
        "#======== data preprocessor and model specific code\n",
        "            if finetuned: # если в loader передан датасет не в виде объекта CIFAR-100\n",
        "                data[\"pixel_values\"] = data[\"pixel_values\"][:,0].to(device) # dataloader засовывает тензоры в словаре ещё в один список (получая shape [batch_size, 1, Channels, Height, Width]), поэтому просто достаём их из этого списка — пропуская размерность 1 с помощью [:,0] (и отправляем на девайс)\n",
        "            else: # если в loader передан датасет в виде объекта CIFAR-100\n",
        "                data[\"pixel_values\"] = data[\"pixel_values\"][0].to(device) # dataloader засовывает тензоры в словаре ещё в один список, поэтому просто достаём их из этого списка (и отправляем на девайс)\n",
        "            preds = model(**data) # вызываем forward pass модели (предсказываем - preds это список с вероятностями классов)\n",
        "            preds = torch.argmax(preds.logits, axis=-1) # ищём индекс с максимальным значением для каждого батча с помощью axis=-1 (номер самого вероятного класса)\n",
        "            preds = preds.to(\"cpu\") # отправляем полученный tensor обратно на cpu, так как confusion_matrix может считаться только на нём\n",
        "#========\n",
        "            for pred in preds: # идём по предсказаниям (их сразу несколько == размер батча в loader)\n",
        "                labels_pred.append(pred) # добавляем предсказанный класс в список с предсказаниями\n",
        "\n",
        "    confus_matrix = confusion_matrix(y_true=labels_true, y_pred=labels_pred) # считаем матрицу ошибок\n",
        "\n",
        "    return confus_matrix # возвращаем матрицу ошибок"
      ]
    },
    {
      "cell_type": "code",
      "execution_count": 9,
      "metadata": {
        "id": "vvQzVpmTWFD_"
      },
      "outputs": [],
      "source": [
        "def print_confusion_matrix(confusion_matrix_full: np.ndarray) -> None:\n",
        "    \"\"\"\n",
        "    Функция для построения матрицы ошибок (confusion matrix) только для интересующих классов. Номера классов: bicycle - 8, motorcycle - 48, background - всё остальное.\n",
        "    Parameters:\n",
        "        * confusion_matrix_full: полная матрица ошибок\\n\n",
        "    Returns:\n",
        "        * None: выводит матрицу ошибок (confusion matrix) для классов (строки - true labels, столбцы — predicted labels)\n",
        "    \"\"\"\n",
        "    confusion_matrix_ = np.zeros(shape=(3,3)) # заготовка под интересующий confusion matrix c классами bicycle, motorcycle, background\n",
        "    # для bicycle\n",
        "    confusion_matrix_[0][0] = confusion_matrix_full[8][8] # ячейка [true:bicycle, pred:bicycle]\n",
        "    confusion_matrix_[0][1] = confusion_matrix_full[8][48] # ячейка [true:bicycle, pred:motorcycle]\n",
        "    confusion_matrix_[0][2] = confusion_matrix_full[8].sum() - confusion_matrix_[0][0] - confusion_matrix_[0][1] # ячейка [true:bicycle, pred:background] = все (в строке) - уже записанные\n",
        "\n",
        "    # для motorcycle\n",
        "    confusion_matrix_[1][0] = confusion_matrix_full[48][8] # ячейка [true:motorcycle, pred:bicycle]\n",
        "    confusion_matrix_[1][1] = confusion_matrix_full[48][48] # ячейка [true:motorcycle, pred:motorcycle]\n",
        "    confusion_matrix_[1][2] = confusion_matrix_full[48].sum() - confusion_matrix_[1][0] - confusion_matrix_[1][1] # ячейка [true:motorcycle, pred:background] = все (в строке) - уже записанные\n",
        "\n",
        "    # для background\n",
        "\n",
        "    confusion_matrix_[2][0] = confusion_matrix_full.sum(axis=0)[8] - confusion_matrix_[0][0] - confusion_matrix_[1][0] # ячейка [true:background, pred:bicycle] (axis=0 — сумма по столбцам; из всех предсказанных bicycle вычитаем те, что уже в таблице)\n",
        "    confusion_matrix_[2][1] = confusion_matrix_full.sum(axis=0)[48] - confusion_matrix_[0][1] - confusion_matrix_[1][1] # ячейка [true:background, pred:motorcycle] (axis=0 — сумма по столбцам; из всех предсказанных motorcycle вычитаем те, что уже в таблице)\n",
        "    confusion_matrix_[2][2] = confusion_matrix_full.sum() - confusion_matrix_.sum() # ячейка [true:background, pred:background] = все (в матрице) - уже записанные\n",
        "\n",
        "    ConfusionMatrixDisplay(confusion_matrix = confusion_matrix_, display_labels = [\"Bicycle\", \"Motorcycle\", \"Background\"]).plot() # вывод Confusion Matrix"
      ]
    },
    {
      "cell_type": "code",
      "execution_count": null,
      "metadata": {
        "id": "uHF5vYLQWFD_"
      },
      "outputs": [],
      "source": [
        "confusion_matrix_downloaded_full = evaluate_model(model=model, loader=loader_test, device=device) # считаем confusion matrix для всех классов"
      ]
    },
    {
      "cell_type": "code",
      "execution_count": null,
      "metadata": {
        "id": "H3PmvXrjWFEA",
        "outputId": "62016a1c-2b63-4cbe-8077-cded30cb515e"
      },
      "outputs": [
        {
          "data": {
            "image/png": "[encoded data removed]",
            "text/plain": [
              "<Figure size 432x288 with 2 Axes>"
            ]
          },
          "metadata": {
            "needs_background": "light"
          },
          "output_type": "display_data"
        }
      ],
      "source": [
        "print_confusion_matrix(confusion_matrix_full=confusion_matrix_downloaded_full) # результаты скаченной модели"
      ]
    },
    {
      "cell_type": "markdown",
      "metadata": {
        "id": "Jdj6gsWsWFEA"
      },
      "source": [
        "* Для класса Bicycle 94 элемента были выявлены правильно, 5 были предсказаны как Motorcycle и 1 как Background.\n",
        "* Для класса Motorcycle 98 элементов были предсказаны правильно, 1 был предсказан как Bicycle и 1 как Background.\n",
        "* Для класса Background почти все элементы~10000 были предсказаны \"правильно\", только 2 были помечены как Bicycle и 1 как Motorcycle."
      ]
    },
    {
      "cell_type": "markdown",
      "metadata": {
        "id": "cE7fm7dNWFEA"
      },
      "source": [
        "# 1) Fine-tuning нейронной сети под задачу"
      ]
    },
    {
      "cell_type": "code",
      "execution_count": 99,
      "metadata": {
        "id": "QaEZaALBWFEA"
      },
      "outputs": [],
      "source": [
        "def train(model, epochs: np.int64, loader, loss_func, optimizer, num_classes: np.int64, device) -> list: # функция обучения\n",
        "    \"\"\"\n",
        "    Функция обучения модели.\\n\n",
        "    Parameters:\n",
        "        * model: модель для обучения\n",
        "        * epochs: число эпох обучения\n",
        "        * loader: загрузчик данных для обучения\n",
        "        * loss_func: функция для подсчёта потерь\n",
        "        * optimizer: оптимайзер для обучения\n",
        "        * num_classes: число классов в задаче multi-class classification\n",
        "        * device: устройство, на котором будет запуск\\n\n",
        "    Returns:\n",
        "        * list: список с получившимися значениями loss функции\n",
        "    \"\"\"\n",
        "    model.to(device) # отправляем модель на девайс\n",
        "    model.train() # перевод модели в режим обучения (dropout работает, а BatchNorm собирает статистику)\n",
        "\n",
        "    losses = [0.0] * epochs # заготавливаем массив под значения loss функции\n",
        "    for epoch in range(epochs): # обучаемся по эпохам\n",
        "        for batch_idx, (data, target) in enumerate(loader): # идём по батчам, что возвращает loader\n",
        "            # переводим target в вероятностное пространство (везде нули, кроме нужного таргета - там единица)\n",
        "            p_true = torch.zeros(size=(loader.batch_size, num_classes), device=device) # заготовка под вероятности (пока заполнена нулями)\n",
        "            for batch, t in enumerate(target): # идём по батчу (нескольким сэмплам), t - id правильного таргета\n",
        "                p_true[batch][t] = 1.0 # ставим вероятность 1 у нужных таргетов (для всех элементов в батче)\n",
        "#================= data preprocessor and model specific code\n",
        "            data[\"pixel_values\"] = data[\"pixel_values\"][:,0].to(device) # dataloader засовывает тензоры в словаре ещё в один список (получая shape [batch_size, 1, Channels, Height, Width]), поэтому просто достаём их из этого списка — пропуская размерность 1 с помощью [:,0] (и отправляем на девайс)\n",
        "            p_pred = model(**data) # вызываем forward pass модели (предсказываем - preds это список с вероятностями классов)\n",
        "            p_pred = p_pred.logits # logits — тензор с вероятностями классов в рассматриваемой модели\n",
        "#=================\n",
        "\n",
        "            loss = loss_func(p_pred, p_true) # считаем loss модели\n",
        "            losses[epoch] += loss/len(loader) # добавляем посчитанный на батче loss (делённый на len(loader) - число батчей, для усреднения)\n",
        "\n",
        "            optimizer.zero_grad() # обнуляем градиенты во всех обучаемых torch.Tensor (ставит w.grad = 0 в torch.Tensor с requires_grad=True) (вызывается перед loss.backward(), чтобы не аккумулировать градиенты за несколько итераций обучения)\n",
        "            loss.backward() # считаем dloss/dw для каждого веса модели w, у которого requires_grad=True (сохраняется в w.grad следующим образом w.grad += dloss/dw)\n",
        "            optimizer.step() # обновляет веса модели (тензоры, у которых стоит флаг requires_grad=True, используя значение из w.grad следующим образом w += -lr * w.grad)\n",
        "        print(f\"loss on epoch {epoch+1}:\\t {losses[epoch]}\")\n",
        "    return losses"
      ]
    },
    {
      "cell_type": "markdown",
      "metadata": {
        "id": "BjLZmKy2yDer"
      },
      "source": [
        "Для решения проблемы дисбаланса классов — урежим число элементов в датасете с классом \"background\" (**Undersampling the majority class**)."
      ]
    },
    {
      "cell_type": "markdown",
      "metadata": {
        "id": "Y9ne0_XU0pIJ"
      },
      "source": [
        "### Данные"
      ]
    },
    {
      "cell_type": "code",
      "execution_count": 14,
      "metadata": {
        "colab": {
          "base_uri": "https://localhost:8080/"
        },
        "id": "-aB6akOZyDes",
        "outputId": "e0a0a287-f5ba-4cfc-856a-a5432ea414b8"
      },
      "outputs": [
        {
          "name": "stdout",
          "output_type": "stream",
          "text": [
            "Files already downloaded and verified\n"
          ]
        }
      ],
      "source": [
        "# датасет для обучения\n",
        "data_train = torchvision.datasets.CIFAR100(root=data_path, # путь, откуда брать/куда сохранять датасет\n",
        "                                           train=True, # какую часть датасета использовать (обучающая)\n",
        "                                           download=True, # скачивать ли датасет, если его нет в root пути\n",
        "                                           transform=feature_extractor # функция, принимающая на вход PIL Image и преобразовывающая его\n",
        "                                          )"
      ]
    },
    {
      "cell_type": "code",
      "execution_count": 15,
      "metadata": {
        "colab": {
          "base_uri": "https://localhost:8080/"
        },
        "id": "Ak3PScPJyDes",
        "outputId": "cc643489-688f-4f64-eebb-12383b7365dc"
      },
      "outputs": [
        {
          "name": "stderr",
          "output_type": "stream",
          "text": [
            "50000it [08:00, 104.04it/s]\n"
          ]
        }
      ],
      "source": [
        "samples_with_background = [] # индексы элементов с классом background () (их будет ~ 40000)\n",
        "samples_with_bicycle_and_motorcycle = [] # индексы элементов с классом bicycle или motorcycle (их будет равное количество ~ 500 каждого)\n",
        "for i, sample in tqdm(enumerate(data_train)): # идём по всем сэмплам\n",
        "    if sample[1] == 8 or sample[1] == 48: # если они из интересующих нас классов\n",
        "        samples_with_bicycle_and_motorcycle.append(i) # записываем номер сэмпла в список с классами bicycle и motorcycle\n",
        "    else: # если же их класс нас не сильно интересует\n",
        "        samples_with_background.append(i) # записываем в список с background"
      ]
    },
    {
      "cell_type": "code",
      "execution_count": 20,
      "metadata": {
        "id": "pL25S6pUy5rQ"
      },
      "outputs": [],
      "source": [
        "data_train_ = [] # заготавливаем пустой список под датасет (будет по 500 сэмплов для каждого из трёх классов - bicycle, motorcycle, background)\n",
        "\n",
        "for i in samples_with_bicycle_and_motorcycle: # идём по индексам данных с интересующими классами\n",
        "    data_train_.append(data_train[i]) # копируем их (все) в \"новый\" датасет\n",
        "\n",
        "for i in random.sample(samples_with_background, 500): # случайным образом выбираем индексы элементов класса \"background\", что будут использованы для обучения (выбираем 500, чтобы в итоге пропорции классов были одинаковыми)\n",
        "    data_train_.append(data_train[i]) # добавляем элементы класса \"background\" в обучающий датасет\n",
        "\n",
        "data_train = data_train_ # заменяем полный датасет на урезанный, но сбалансированный"
      ]
    },
    {
      "cell_type": "code",
      "execution_count": 24,
      "metadata": {
        "id": "wRky58-E44PQ"
      },
      "outputs": [],
      "source": [
        "# конвертация таргетов\n",
        "for i, (data, target) in enumerate(data_train): # идём по элементам в датасете\n",
        "    if target == 8: # bicycle из 8-го таргета становится 0-м\n",
        "        data_train[i] = (data_train[i][0], 0)\n",
        "    elif target == 48: # motorcycle из 48-го таргета становится 1-м\n",
        "        data_train[i] = (data_train[i][0], 1)\n",
        "    else: # всё остальное становится 2-м\n",
        "        data_train[i] = (data_train[i][0], 2)"
      ]
    },
    {
      "cell_type": "code",
      "execution_count": 28,
      "metadata": {
        "id": "jrJNy8yJ2q1k"
      },
      "outputs": [],
      "source": [
        "# with open(data_path+\"data_train_processed.pkl\", 'wb') as f: # открытие файла для записи (b - бинарной)\n",
        "#     pickle.dump(data_train, f) # сохранение обработанного обучающего датасета"
      ]
    },
    {
      "cell_type": "code",
      "execution_count": 100,
      "metadata": {
        "id": "317AkIPX3rzl"
      },
      "outputs": [],
      "source": [
        "with open(data_path+\"data_train_processed.pkl\", 'rb') as f:\n",
        "    data_train = pickle.load(f)"
      ]
    },
    {
      "cell_type": "code",
      "execution_count": 101,
      "metadata": {
        "id": "fG62Bi6oyDet"
      },
      "outputs": [],
      "source": [
        "# загрузчик данных для обучения\n",
        "loader_train = torch.utils.data.DataLoader(dataset=data_train, # указание датасета для DataLoader\n",
        "                                           batch_size=20, # размер батчка (число сэмплов, что будет возвращать DataLoader за раз) (градиент усредняется по батчу, ускоряется обработка датасета, но слегка замедляется обработка сэмпла)\n",
        "                                           shuffle=True, # перемешивать ли датасет\n",
        "                                           num_workers=2, # число используемых ядер процессора для ускорения обработки данных\n",
        "                                           pin_memory=True # нужно ли заранее аллоцировать память под объект на GPU (лучше так, чем возвращать CUDA tensors при multi-process loading)\n",
        "                                           )"
      ]
    },
    {
      "cell_type": "markdown",
      "metadata": {
        "id": "BGrJuj9m0q6e"
      },
      "source": [
        "### Модель"
      ]
    },
    {
      "cell_type": "code",
      "execution_count": 102,
      "metadata": {
        "id": "IyVY-vPtWFEC"
      },
      "outputs": [],
      "source": [
        "model = torch.load(models_path+\"model_downloaded.pth\") # загружаем сохранённую модель"
      ]
    },
    {
      "cell_type": "code",
      "execution_count": 103,
      "metadata": {
        "id": "uUcVhBXZWFEC"
      },
      "outputs": [],
      "source": [
        "model.classifier = torch.nn.Linear(in_features=768, out_features=3, bias=True) # меняем голову модели под задачу"
      ]
    },
    {
      "cell_type": "code",
      "execution_count": 104,
      "metadata": {
        "colab": {
          "base_uri": "https://localhost:8080/"
        },
        "id": "Se9EMPSvWFEC",
        "outputId": "46235db5-da31-41f7-e9b3-b2ffaeaabd24"
      },
      "outputs": [
        {
          "data": {
            "text/plain": [
              "ViTForImageClassification(\n",
              "  (vit): ViTModel(\n",
              "    (embeddings): ViTEmbeddings(\n",
              "      (patch_embeddings): ViTPatchEmbeddings(\n",
              "        (projection): Conv2d(3, 768, kernel_size=(16, 16), stride=(16, 16))\n",
              "      )\n",
              "      (dropout): Dropout(p=0.0, inplace=False)\n",
              "    )\n",
              "    (encoder): ViTEncoder(\n",
              "      (layer): ModuleList(\n",
              "        (0-11): 12 x ViTLayer(\n",
              "          (attention): ViTAttention(\n",
              "            (attention): ViTSelfAttention(\n",
              "              (query): Linear(in_features=768, out_features=768, bias=True)\n",
              "              (key): Linear(in_features=768, out_features=768, bias=True)\n",
              "              (value): Linear(in_features=768, out_features=768, bias=True)\n",
              "              (dropout): Dropout(p=0.0, inplace=False)\n",
              "            )\n",
              "            (output): ViTSelfOutput(\n",
              "              (dense): Linear(in_features=768, out_features=768, bias=True)\n",
              "              (dropout): Dropout(p=0.0, inplace=False)\n",
              "            )\n",
              "          )\n",
              "          (intermediate): ViTIntermediate(\n",
              "            (dense): Linear(in_features=768, out_features=3072, bias=True)\n",
              "            (intermediate_act_fn): GELUActivation()\n",
              "          )\n",
              "          (output): ViTOutput(\n",
              "            (dense): Linear(in_features=3072, out_features=768, bias=True)\n",
              "            (dropout): Dropout(p=0.0, inplace=False)\n",
              "          )\n",
              "          (layernorm_before): LayerNorm((768,), eps=1e-12, elementwise_affine=True)\n",
              "          (layernorm_after): LayerNorm((768,), eps=1e-12, elementwise_affine=True)\n",
              "        )\n",
              "      )\n",
              "    )\n",
              "    (layernorm): LayerNorm((768,), eps=1e-12, elementwise_affine=True)\n",
              "  )\n",
              "  (classifier): Linear(in_features=768, out_features=3, bias=True)\n",
              ")"
            ]
          },
          "execution_count": 104,
          "metadata": {},
          "output_type": "execute_result"
        }
      ],
      "source": [
        "model # вывод нового строения модели"
      ]
    },
    {
      "cell_type": "markdown",
      "metadata": {
        "id": "T3mB3a9rWFED"
      },
      "source": [
        "### Loss function"
      ]
    },
    {
      "cell_type": "code",
      "execution_count": 17,
      "metadata": {
        "id": "6zglDvmNWFEE"
      },
      "outputs": [],
      "source": [
        "# Как вариант (неудачный) решения проблемы дисбаланса классов — увеличим вес нужных классов при подсчёте loss функции, чтобы ошибка в них сильнее отзывалась в модели. Например — увеличим их вес в 5 раз по отношению к классу \"Background\".\n",
        "# loss_weights = torch.ones(size=(3,), device=device, dtype=dtype) # вектор с весами для\n",
        "# loss_weights[0] = 20.0\n",
        "# loss_weights[1] = 20.0\n",
        "# loss_weights"
      ]
    },
    {
      "cell_type": "code",
      "execution_count": 105,
      "metadata": {
        "id": "ILs_KLlCWFEE"
      },
      "outputs": [],
      "source": [
        "# loss_function = torch.nn.CrossEntropyLoss(weight=loss_weights, reduction='sum') # создаём функцию для подсчёта loss с указанием \"особых\" весов классов (reduction='mean' — усреднение loss по классам с учётом весов)\n",
        "loss_function = torch.nn.CrossEntropyLoss(reduction='mean') # создаём функцию для подсчёта loss с указанием \"особых\" весов классов (reduction='mean' — усреднение loss по классам с учётом весов)\n",
        "# loss - кросс-энтропия (перекрёстная энтропия)\n",
        "# CrossEntropyLoss на вход ожидает вероятность класса для всех k классов\n",
        "# то есть массив с вероятностями для каждой из четырёх категорий новостей"
      ]
    },
    {
      "cell_type": "markdown",
      "metadata": {
        "id": "nLUjnN1AWFEE"
      },
      "source": [
        "### Optimizer"
      ]
    },
    {
      "cell_type": "code",
      "execution_count": 106,
      "metadata": {
        "id": "vo2Bdu4NWFEE"
      },
      "outputs": [],
      "source": [
        "optimizer = torch.optim.Adam(model.parameters(), lr=learning_rate) # оптимизатор для обучения"
      ]
    },
    {
      "cell_type": "markdown",
      "metadata": {
        "id": "6b69uTii4hqj"
      },
      "source": [
        "### Training"
      ]
    },
    {
      "cell_type": "code",
      "execution_count": 107,
      "metadata": {
        "colab": {
          "base_uri": "https://localhost:8080/"
        },
        "id": "3EBTd1IhWFEF",
        "outputId": "20670cbc-1d89-4f93-af77-95af1f224a90"
      },
      "outputs": [
        {
          "name": "stdout",
          "output_type": "stream",
          "text": [
            "loss on epoch 1:\t 0.22003088891506195\n",
            "loss on epoch 2:\t 0.060158055275678635\n",
            "loss on epoch 3:\t 0.0562443807721138\n",
            "loss on epoch 4:\t 0.017192140221595764\n",
            "loss on epoch 5:\t 0.012705035507678986\n"
          ]
        }
      ],
      "source": [
        "losses = train(model=model, # передаём модель в обучение\n",
        "               epochs=epochs, # передаём число эпох обучения\n",
        "               loader=loader_train, # передаём загрузчик данных\n",
        "               loss_func=loss_function, # передаём функция для подсчёта ошибки\n",
        "               optimizer=optimizer, # передаём оптимизатор обучения\n",
        "               num_classes=num_classes, # передаём число классов\n",
        "               device=device # передаём, на каком устройстве будет выполнение\n",
        "              )"
      ]
    },
    {
      "cell_type": "code",
      "execution_count": 109,
      "metadata": {
        "id": "9NFP-wkwWFEF"
      },
      "outputs": [],
      "source": [
        "for i in range(epochs): # идём по числу эпох\n",
        "    losses[i] = losses[i].detach().to(\"cpu\") # возвращаем loss на cpu и убираем requires grad\n",
        "\n",
        "# сохранение посчитанного loss\n",
        "with open(loss_path+\"loss_finetuned.pkl\", 'wb') as f: # открытие файла для записи (b - бинарной)\n",
        "    pickle.dump(losses, f) # сохранение значения loss"
      ]
    },
    {
      "cell_type": "code",
      "execution_count": 110,
      "metadata": {
        "colab": {
          "base_uri": "https://localhost:8080/",
          "height": 872
        },
        "id": "y7UvU-V6WFEF",
        "outputId": "5eff4aac-4594-42bb-c5ed-c07725f82ceb"
      },
      "outputs": [
        {
          "data": {
            "image/png": "[encoded data removed]",
            "text/plain": [
              "<Figure size 1000x1000 with 1 Axes>"
            ]
          },
          "metadata": {},
          "output_type": "display_data"
        }
      ],
      "source": [
        "plt.figure(figsize=(10,10)) # размер графика\n",
        "plt.title(\"Изменение Cross-Entropy Loss в зависимости от эпохи обучения\") # название графика\n",
        "plt.plot(range(1, epochs+1), losses, label=\"Cross-Entropy Loss\") # построение графика, где range(1, epochs+1) — рассматриваемые значения x, losses — отображаемые значения, label — названия графика\n",
        "plt.xlabel(\"Эпоха\") # подпись по оси x\n",
        "plt.ylabel(\"Значение loss функции\") # подпись по оси y\n",
        "plt.legend() # вывод названий графиков\n",
        "plt.show() # вывод графика"
      ]
    },
    {
      "cell_type": "markdown",
      "metadata": {
        "id": "ssrDa5b8WFEG"
      },
      "source": [
        "**Модель обучилась, сохраним!**"
      ]
    },
    {
      "cell_type": "code",
      "execution_count": 111,
      "metadata": {
        "id": "wPKq2-UkWFEG"
      },
      "outputs": [],
      "source": [
        "model.to(\"cpu\") # возвращаем модель на cpu\n",
        "# torch.save(model.state_dict(), models_path+\"model_finetuned_state_dict.pth\") # сохраняем state_dict обученной модели в файл model_finetuned_state_dict.pth, что лежит по пути models_path\n",
        "# torch.save(model, models_path+\"model_finetuned.pth\") # сохраняем саму модель, потому что ViTForImageClassification требует config для создания"
      ]
    },
    {
      "cell_type": "markdown",
      "metadata": {
        "id": "jYlT4pVNWFEG"
      },
      "source": [
        "# 2) Анализ результатов"
      ]
    },
    {
      "cell_type": "markdown",
      "metadata": {
        "id": "p-kXSvXzB1kq"
      },
      "source": [
        "### Пересоздадим датасет и loader для теста с использованием только трёх таргетов"
      ]
    },
    {
      "cell_type": "code",
      "execution_count": 7,
      "metadata": {
        "colab": {
          "base_uri": "https://localhost:8080/"
        },
        "id": "4P7ucTg7FARX",
        "outputId": "84d236a5-8fb0-4b5d-9ad5-e8421895ae46"
      },
      "outputs": [
        {
          "name": "stdout",
          "output_type": "stream",
          "text": [
            "Files already downloaded and verified\n"
          ]
        }
      ],
      "source": [
        "# датасет для тестирования\n",
        "data_test = torchvision.datasets.CIFAR100(root=data_path, # путь, откуда брать/куда сохранять датасет\n",
        "                                          train=False, # какую часть датасета использовать (тестовая)\n",
        "                                          download=True, # скачивать ли датасет, если его нет в root пути\n",
        "                                          transform=feature_extractor # функция, принимающая на вход PIL Image и преобразовывающая его\n",
        "                                         )"
      ]
    },
    {
      "cell_type": "code",
      "execution_count": 8,
      "metadata": {
        "colab": {
          "base_uri": "https://localhost:8080/"
        },
        "id": "H6mhwCRbBxvq",
        "outputId": "c0b844b9-53c5-4cb7-f0c5-da7b1d9c969a"
      },
      "outputs": [
        {
          "name": "stderr",
          "output_type": "stream",
          "text": [
            "10000it [05:31, 30.20it/s]\n"
          ]
        }
      ],
      "source": [
        "data_test_ = [] # заготавливаем пустой список под датасет\n",
        "\n",
        "for i, (data, target) in tqdm(enumerate(data_test)):\n",
        "    if target == 8: # bicycle из 8-го таргета становится 0-м\n",
        "        data_test_.append((data_test[i][0], 0))\n",
        "    elif target == 48: # motorcycle из 48-го таргета становится 1-м\n",
        "        data_test_.append((data_test[i][0], 1))\n",
        "    else: # всё остальное становится 2-м\n",
        "        data_test_.append((data_test[i][0], 2))\n",
        "\n",
        "data_test = data_test_ # заменяем полный датасет на урезанный, но сбалансированный"
      ]
    },
    {
      "cell_type": "code",
      "execution_count": 9,
      "metadata": {
        "id": "iKALLj67DdDS"
      },
      "outputs": [],
      "source": [
        "# with open(data_path+\"data_test_processed.pkl\", 'wb') as f: # открытие файла для записи (b - бинарной)\n",
        "#     pickle.dump(data_test, f) # сохранение обработанного обучающего датасета"
      ]
    },
    {
      "cell_type": "code",
      "execution_count": 10,
      "metadata": {
        "id": "8ObVIH9qDi-4"
      },
      "outputs": [],
      "source": [
        "with open(data_path+\"data_test_processed.pkl\", 'rb') as f:\n",
        "    data_test = pickle.load(f)"
      ]
    },
    {
      "cell_type": "code",
      "execution_count": 11,
      "metadata": {
        "id": "abCKMIrWDrAS"
      },
      "outputs": [],
      "source": [
        "# загрузчик данных для тестирования\n",
        "loader_test = torch.utils.data.DataLoader(dataset=data_test, # указание датасета для DataLoader\n",
        "                                          batch_size=20, # размер батчка (число сэмплов, что будет возвращать DataLoader за раз) (градиент усредняется по батчу, ускоряется обработка датасета, но слегка замедляется обработка сэмпла)\n",
        "                                          shuffle=True, # перемешивать ли датасет\n",
        "                                          num_workers=2, # число используемых ядер процессора для ускорения обработки данных\n",
        "                                          pin_memory=True # нужно ли заранее аллоцировать память под объект на GPU (лучше так, чем возвращать CUDA tensors при multi-process loading)\n",
        "                                         )"
      ]
    },
    {
      "cell_type": "markdown",
      "metadata": {
        "id": "gtrzrwTDFwio"
      },
      "source": [
        "### Оцениваем дообученную модель"
      ]
    },
    {
      "cell_type": "code",
      "execution_count": 13,
      "metadata": {
        "id": "HL0pSj7yFjvb"
      },
      "outputs": [],
      "source": [
        "model = torch.load(models_path+\"model_finetuned.pth\") # загружаем сохранённую модель"
      ]
    },
    {
      "cell_type": "code",
      "execution_count": 24,
      "metadata": {
        "colab": {
          "base_uri": "https://localhost:8080/",
          "height": 338
        },
        "id": "OIOTutOHWFEG",
        "outputId": "b7fc3cba-762d-4032-d818-7e8ee12d15da"
      },
      "outputs": [],
      "source": [
        "confusion_matrix_finetuned = evaluate_model(model=model, loader=loader_test, device=device, finetuned=True) # считаем confusion matrix для трёх классов на fine-tuned модели"
      ]
    },
    {
      "cell_type": "code",
      "execution_count": 25,
      "metadata": {
        "id": "Q3ORQ8IOWFEH"
      },
      "outputs": [
        {
          "data": {
            "text/plain": [
              "<sklearn.metrics._plot.confusion_matrix.ConfusionMatrixDisplay at 0x11b011207c0>"
            ]
          },
          "execution_count": 25,
          "metadata": {},
          "output_type": "execute_result"
        },
        {
          "data": {
            "image/png": "[encoded data removed]",
            "text/plain": [
              "<Figure size 432x288 with 2 Axes>"
            ]
          },
          "metadata": {
            "needs_background": "light"
          },
          "output_type": "display_data"
        }
      ],
      "source": [
        "ConfusionMatrixDisplay(confusion_matrix=confusion_matrix_finetuned, display_labels=[\"Bicycle\", \"Motorcycle\", \"Background\"]).plot() # вывод Confusion Matrix"
      ]
    },
    {
      "cell_type": "markdown",
      "metadata": {},
      "source": [
        "* Модель угадала все Bicycle!\n",
        "* Motorcycle был спутан лишь трижды с классом Bicycle.\n",
        "* Background в основной своей массе был предсказан правильно, на совпадение с классами Bicycle и Motorcycle может свидетельствовать малое количество объектов в обучающей выборке (не покрывающее все возможные классы изначального датасета) и небольшое переобучение, из-за которого модель старалась угадать Bicycle или Motorcycle."
      ]
    },
    {
      "cell_type": "markdown",
      "metadata": {
        "id": "VH9AGD5qWFEH"
      },
      "source": [
        "# 3) Сравнение производительности"
      ]
    },
    {
      "cell_type": "code",
      "execution_count": null,
      "metadata": {
        "id": "ZW4UnQVQWFEH"
      },
      "outputs": [],
      "source": []
    },
    {
      "cell_type": "markdown",
      "metadata": {
        "id": "MxtpDFKoWFEH"
      },
      "source": [
        "# 4) Манипуляция с весами"
      ]
    },
    {
      "cell_type": "code",
      "execution_count": null,
      "metadata": {
        "id": "_l3u-ceOWFEI"
      },
      "outputs": [],
      "source": []
    }
  ],
  "metadata": {
    "accelerator": "GPU",
    "colab": {
      "gpuType": "T4",
      "provenance": []
    },
    "kernelspec": {
      "display_name": "gpu",
      "language": "python",
      "name": "gpu"
    },
    "language_info": {
      "codemirror_mode": {
        "name": "ipython",
        "version": 3
      },
      "file_extension": ".py",
      "mimetype": "text/x-python",
      "name": "python",
      "nbconvert_exporter": "python",
      "pygments_lexer": "ipython3",
      "version": "3.9.12"
    }
  },
  "nbformat": 4,
  "nbformat_minor": 0
}
