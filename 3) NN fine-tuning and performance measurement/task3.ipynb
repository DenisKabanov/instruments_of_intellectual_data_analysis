{
  "cells": [
    {
      "cell_type": "markdown",
      "metadata": {
        "id": "S6z3gmL4WFDi"
      },
      "source": [
        "# Задание"
      ]
    },
    {
      "cell_type": "markdown",
      "metadata": {
        "id": "4n4ecHgsWFDu"
      },
      "source": [
        "1) Натренировать нейронную сеть, отличающую классы bicycle, motorcycle, background (всё, что не велосипед и не мотоцикл). (6 баллов)\n",
        "    * Можно использовать претренированную модель, но нужно ее дообучить.\n",
        "    * Не должно быть багов (обратите внимание на дисбаланс классов).\n",
        "2) Провести анализ результатов (confusion матрица, зависимость точности от внешних условий, сравнение моделей, анализ метрик, ...). (1-2 балла в зависимости от полноты анализа)\n",
        "3) Сравнить производительность в разных рантаймах: onnxruntime, tensorrt, tvm, tflite, pytorch-keras, openvino... (0.5 балла за каждый фреймворк)\n",
        "4) Продемонстрировать манипуляцию весами: трансформировать первый слой, чтобы количество входных каналов в первой свертке было не 3, а 1 с минимальной потерей точности. То есть, сетка должна работать на грейскейле. (1 балл)"
      ]
    },
    {
      "cell_type": "markdown",
      "metadata": {
        "id": "ijIh2RK-WFDv"
      },
      "source": [
        "## Настройки/Гиперпараметры/Импорты"
      ]
    },
    {
      "cell_type": "code",
      "execution_count": 125,
      "metadata": {},
      "outputs": [
        {
          "name": "stdout",
          "output_type": "stream",
          "text": [
            "Looking in indexes: https://pypi.org/simple, https://pypi.ngc.nvidia.com\n",
            "Requirement already satisfied: pip in c:\\users\\user\\anaconda3\\envs\\gpu\\lib\\site-packages (22.2.2)\n",
            "Collecting install\n",
            "  Downloading install-1.3.5-py3-none-any.whl (3.2 kB)\n",
            "Requirement already satisfied: openvino==2023.2.0 in c:\\users\\user\\appdata\\roaming\\python\\python39\\site-packages (2023.2.0)\n",
            "Requirement already satisfied: numpy>=1.16.6 in c:\\users\\user\\appdata\\roaming\\python\\python39\\site-packages (from openvino==2023.2.0) (1.26.2)\n",
            "Requirement already satisfied: openvino-telemetry>=2023.2.1 in c:\\users\\user\\appdata\\roaming\\python\\python39\\site-packages (from openvino==2023.2.0) (2023.2.1)\n",
            "Installing collected packages: install\n",
            "Successfully installed install-1.3.5\n"
          ]
        }
      ],
      "source": [
        "# !pip install onnxruntime\n",
        "# !pip install openvino-dev"
      ]
    },
    {
      "cell_type": "code",
      "execution_count": 129,
      "metadata": {
        "id": "XOA2ozl6WFDv"
      },
      "outputs": [],
      "source": [
        "import numpy as np # для работы с матрицами\n",
        "import random # для изменения пропорции данных в обучающем датасете (классы \"background\" будут случайно заменяться на классы \"bicycle\" и \"motorcycle\")\n",
        "import pickle # для сохранения файлов\n",
        "from tqdm import tqdm # для отслеживания прогресса выполнения\n",
        "\n",
        "import torchvision # для работы (скачивания, преобразования...) с картинками (датасетом)\n",
        "import torch # для работы с тензорами и моделями\n",
        "from transformers import ViTForImageClassification, ViTImageProcessor # для предобученной модели и трансформера данных\n",
        "# transformers version 4.35.2\n",
        "\n",
        "import matplotlib.pyplot as plt # для вывода графиков/картинок\n",
        "from sklearn.metrics import confusion_matrix, ConfusionMatrixDisplay # для оценивания качества предсказаний модели (матрица ошибок)\n",
        "from sklearn.metrics import precision_score, recall_score, f1_score, accuracy_score # ещё некоторые метрики для оценки предсказаний модели\n",
        "\n",
        "import time # для сравнения времени\n",
        "\n",
        "# рантаймы (фреймворки), в которых ещё будет тестироваться модель\n",
        "import onnxruntime # ONNX Runtime\n",
        "import openvino as ov # OpenVINO"
      ]
    },
    {
      "cell_type": "code",
      "execution_count": 38,
      "metadata": {
        "id": "jkCo_7eFWFDw"
      },
      "outputs": [],
      "source": [
        "dtype = torch.float32 # используемый тип данных\n",
        "device = torch.device(\"cuda\") # устройство, на котором будет работать модель\n",
        "\n",
        "models_path = \"./models/\" # путь, куда будут сохраняться модели (из state_dict)\n",
        "# models_path = \"/content/drive/MyDrive/tmp/lab3/models/\"\n",
        "data_path = \"./data/\"\n",
        "# data_path = \"/content/drive/MyDrive/tmp/lab3/data/\"\n",
        "loss_path = \"./losses/\"\n",
        "# loss_path = \"/content/drive/MyDrive/tmp/lab3/losses/\"\n",
        "\n",
        "num_classes = 3 # число классов (в задании: bicycle, motorcycle, background)\n",
        "epochs = 5 # число эпох обучения\n",
        "learning_rate = 0.0001 # скорость обучения модели\n",
        "\n",
        "runs = 100 # чсло запусков инференса для усреднения времени"
      ]
    },
    {
      "cell_type": "code",
      "execution_count": null,
      "metadata": {
        "colab": {
          "base_uri": "https://localhost:8080/"
        },
        "id": "OrG2vxzFWYo4",
        "outputId": "49f14a95-feb1-4004-ffb5-b155eae825ec"
      },
      "outputs": [],
      "source": [
        "# from google.colab import drive\n",
        "# drive.mount('/content/drive')"
      ]
    },
    {
      "cell_type": "markdown",
      "metadata": {
        "id": "HKAkx0QCWFDx"
      },
      "source": [
        "# Подготовка датасета и модели"
      ]
    },
    {
      "cell_type": "markdown",
      "metadata": {
        "id": "IRbqiPLqWFDx"
      },
      "source": [
        "## Датасет"
      ]
    },
    {
      "cell_type": "markdown",
      "metadata": {
        "id": "uQxCl_WhWFDx"
      },
      "source": [
        "CIFAR-100 — датасет, состоящий из 60 000 изображений, поделенных на 100 классов. В обучающей выборке присутствуют 50 000 изображений, по 500 сэмплов для каждого класса. Тогда как в тестовой — 10 000 по 100 сэмплов.\n",
        "\n",
        "Каждое изображение имеет размерность (3, 32, 32) ~ (Channels, Height, Width)."
      ]
    },
    {
      "cell_type": "markdown",
      "metadata": {
        "id": "UkW4Hyq1WFDy"
      },
      "source": [
        "Классы (labels) датасета:\n"
      ]
    },
    {
      "cell_type": "code",
      "execution_count": null,
      "metadata": {
        "colab": {
          "base_uri": "https://localhost:8080/"
        },
        "id": "-SssVhaNWFDy",
        "outputId": "68141e8e-2fe5-4d38-d3b8-f098a827498a"
      },
      "outputs": [
        {
          "name": "stdout",
          "output_type": "stream",
          "text": [
            "Класс 0: apple\n",
            "Класс 1: aquarium_fish\n",
            "Класс 2: baby\n",
            "Класс 3: bear\n",
            "Класс 4: beaver\n",
            "Класс 5: bed\n",
            "Класс 6: bee\n",
            "Класс 7: beetle\n",
            "Класс 8: bicycle\n",
            "Класс 9: bottle\n",
            "Класс 10: bowl\n",
            "Класс 11: boy\n",
            "Класс 12: bridge\n",
            "Класс 13: bus\n",
            "Класс 14: butterfly\n",
            "Класс 15: camel\n",
            "Класс 16: can\n",
            "Класс 17: castle\n",
            "Класс 18: caterpillar\n",
            "Класс 19: cattle\n",
            "Класс 20: chair\n",
            "Класс 21: chimpanzee\n",
            "Класс 22: clock\n",
            "Класс 23: cloud\n",
            "Класс 24: cockroach\n",
            "Класс 25: couch\n",
            "Класс 26: crab\n",
            "Класс 27: crocodile\n",
            "Класс 28: cup\n",
            "Класс 29: dinosaur\n",
            "Класс 30: dolphin\n",
            "Класс 31: elephant\n",
            "Класс 32: flatfish\n",
            "Класс 33: forest\n",
            "Класс 34: fox\n",
            "Класс 35: girl\n",
            "Класс 36: hamster\n",
            "Класс 37: house\n",
            "Класс 38: kangaroo\n",
            "Класс 39: keyboard\n",
            "Класс 40: lamp\n",
            "Класс 41: lawn_mower\n",
            "Класс 42: leopard\n",
            "Класс 43: lion\n",
            "Класс 44: lizard\n",
            "Класс 45: lobster\n",
            "Класс 46: man\n",
            "Класс 47: maple_tree\n",
            "Класс 48: motorcycle\n",
            "Класс 49: mountain\n",
            "Класс 50: mouse\n",
            "Класс 51: mushroom\n",
            "Класс 52: oak_tree\n",
            "Класс 53: orange\n",
            "Класс 54: orchid\n",
            "Класс 55: otter\n",
            "Класс 56: palm_tree\n",
            "Класс 57: pear\n",
            "Класс 58: pickup_truck\n",
            "Класс 59: pine_tree\n",
            "Класс 60: plain\n",
            "Класс 61: plate\n",
            "Класс 62: poppy\n",
            "Класс 63: porcupine\n",
            "Класс 64: possum\n",
            "Класс 65: rabbit\n",
            "Класс 66: raccoon\n",
            "Класс 67: ray\n",
            "Класс 68: road\n",
            "Класс 69: rocket\n",
            "Класс 70: rose\n",
            "Класс 71: sea\n",
            "Класс 72: seal\n",
            "Класс 73: shark\n",
            "Класс 74: shrew\n",
            "Класс 75: skunk\n",
            "Класс 76: skyscraper\n",
            "Класс 77: snail\n",
            "Класс 78: snake\n",
            "Класс 79: spider\n",
            "Класс 80: squirrel\n",
            "Класс 81: streetcar\n",
            "Класс 82: sunflower\n",
            "Класс 83: sweet_pepper\n",
            "Класс 84: table\n",
            "Класс 85: tank\n",
            "Класс 86: telephone\n",
            "Класс 87: television\n",
            "Класс 88: tiger\n",
            "Класс 89: tractor\n",
            "Класс 90: train\n",
            "Класс 91: trout\n",
            "Класс 92: tulip\n",
            "Класс 93: turtle\n",
            "Класс 94: wardrobe\n",
            "Класс 95: whale\n",
            "Класс 96: willow_tree\n",
            "Класс 97: wolf\n",
            "Класс 98: woman\n",
            "Класс 99: worm\n"
          ]
        }
      ],
      "source": [
        "classes = [\"apple\",  \"aquarium_fish\", \"baby\", \"bear\", \"beaver\", \"bed\", \"bee\", \"beetle\", \"bicycle\", \"bottle\", \"bowl\", \"boy\", \"bridge\", \"bus\", \"butterfly\", \"camel\", \"can\", \"castle\", \"caterpillar\", \"cattle\", \"chair\", \"chimpanzee\", \"clock\", \"cloud\", \"cockroach\", \"couch\", \"crab\", \"crocodile\", \"cup\", \"dinosaur\", \"dolphin\", \"elephant\", \"flatfish\", \"forest\", \"fox\", \"girl\", \"hamster\", \"house\", \"kangaroo\", \"keyboard\", \"lamp\", \"lawn_mower\", \"leopard\", \"lion\", \"lizard\", \"lobster\", \"man\", \"maple_tree\", \"motorcycle\", \"mountain\", \"mouse\", \"mushroom\", \"oak_tree\", \"orange\", \"orchid\", \"otter\", \"palm_tree\", \"pear\", \"pickup_truck\", \"pine_tree\", \"plain\", \"plate\", \"poppy\", \"porcupine\", \"possum\", \"rabbit\", \"raccoon\", \"ray\", \"road\", \"rocket\", \"rose\", \"sea\", \"seal\", \"shark\", \"shrew\", \"skunk\", \"skyscraper\", \"snail\", \"snake\", \"spider\", \"squirrel\", \"streetcar\", \"sunflower\", \"sweet_pepper\", \"table\", \"tank\", \"telephone\", \"television\", \"tiger\", \"tractor\", \"train\", \"trout\", \"tulip\", \"turtle\", \"wardrobe\", \"whale\", \"willow_tree\", \"wolf\", \"woman\", \"worm\"]\n",
        "for i in range (len(classes)):\n",
        "    print(f\"Класс {i}: {classes[i]}\")"
      ]
    },
    {
      "cell_type": "markdown",
      "metadata": {
        "id": "44uxfjs-WFD0"
      },
      "source": [
        "**Нужные нам классы находятся под индексами 8 (bicycle) и 48 (motorcycle), всё остальное будем считать за \"background\".**"
      ]
    },
    {
      "cell_type": "code",
      "execution_count": null,
      "metadata": {
        "colab": {
          "base_uri": "https://localhost:8080/"
        },
        "id": "Kr8VBzmuWFD1",
        "outputId": "2e455788-d53d-427a-a599-d3d67c2814aa"
      },
      "outputs": [
        {
          "name": "stdout",
          "output_type": "stream",
          "text": [
            "Files already downloaded and verified\n",
            "Files already downloaded and verified\n"
          ]
        }
      ],
      "source": [
        "# преобразования над датасетом (не используется, так как у модели есть собственный препроцессор картинок)\n",
        "# transforms = torchvision.transforms.Compose([ # Compose объединяет несколько преобразований вместе, чтобы они выполнялись \"последовательно\"\n",
        "#                                              torchvision.transforms.ToTensor(), # преобразование PIL изображения (или ndarray формата (Height x Width x Channels)) в tensor (типа float со значениями в области [0.0, 1.0], если такая трансформация поддерживается (см описание ToTensor))\n",
        "#                                              torchvision.transforms.Normalize(mean=(0.5071, 0.4867, 0.4408), std=(0.2675, 0.2565, 0.2761)) # нормализация каналов (в датасете три канала) к указанным среднему значению и стандартному отклонению (цифры подобраны под датасет)\n",
        "#                                            ])\n",
        "\n",
        "# датасет для обучения\n",
        "data_train = torchvision.datasets.CIFAR100(root=data_path, # путь, откуда брать/куда сохранять датасет\n",
        "                                           train=True, # какую часть датасета использовать (обучающая)\n",
        "                                           download=True, # скачивать ли датасет, если его нет в root пути\n",
        "                                        #    transform=transforms # функция, принимающая на вход PIL Image и преобразовывающая его\n",
        "                                          )\n",
        "\n",
        "# датасет для тестирования\n",
        "data_test = torchvision.datasets.CIFAR100(root=data_path, # путь, откуда брать/куда сохранять датасет\n",
        "                                          train=False, # какую часть датасета использовать (тестовая)\n",
        "                                          download=True, # скачивать ли датасет, если его нет в root пути\n",
        "                                        #   transform=transforms # функция, принимающая на вход PIL Image и преобразовывающая его\n",
        "                                         )"
      ]
    },
    {
      "cell_type": "code",
      "execution_count": null,
      "metadata": {
        "colab": {
          "base_uri": "https://localhost:8080/",
          "height": 430
        },
        "id": "p3T2NpNmWFD1",
        "outputId": "16212189-ac71-4ea7-cd98-269b6c6b8f51"
      },
      "outputs": [
        {
          "data": {
            "image/png": "[encoded data removed]",
            "text/plain": [
              "<Figure size 640x480 with 1 Axes>"
            ]
          },
          "metadata": {},
          "output_type": "display_data"
        }
      ],
      "source": [
        "plt.imshow(data_train[16][0]) # вывод изображения (data_train[16][0] — PIL Image с label 8~bicycle)\n",
        "# plt.imshow(data_train[16][0].permute(1, 2, 0)) # построение изображения (если его трансформировать)\n",
        "# .permute(1, 2, 0) меняет местами размерности, на первое место выходит Height, второе — Width, третье — Channels, так как shape(3, 32, 32) ~ (Channels, Height, Width) не воспринимается\n",
        "# операция схожа с reshape, но permute просто меняет местами индексы, гарантируя, что обращение с соответствующей перестановкой индексов вернёт тот же элемент (что был бы без permute и перестановки индексов)\n",
        "\n",
        "plt.show() # вывод изображения"
      ]
    },
    {
      "cell_type": "markdown",
      "metadata": {
        "id": "wMev8wGGWFD2"
      },
      "source": [
        "## Модель"
      ]
    },
    {
      "cell_type": "markdown",
      "metadata": {
        "id": "Vxz_2yqkWFD2"
      },
      "source": [
        "Предобученная модель взята с: https://huggingface.co/edumunozsala/vit_base-224-in21k-ft-cifar100"
      ]
    },
    {
      "cell_type": "code",
      "execution_count": null,
      "metadata": {
        "id": "cW07SFcxWFD2"
      },
      "outputs": [],
      "source": [
        "model = ViTForImageClassification.from_pretrained('edumunozsala/vit_base-224-in21k-ft-cifar100') # загружаем предобученную модель с huggingface\n",
        "# torch.save(model.state_dict(), models_path+\"model_downloaded_state_dict.pth\") # сохраняем её изначальный state_dict в файл model_downloaded.pth, что лежит по пути models_path\n",
        "# torch.save(model, models_path+\"model_downloaded.pth\") # сохраняем саму модель, потому что ViTForImageClassification требует config для создания"
      ]
    },
    {
      "cell_type": "code",
      "execution_count": 30,
      "metadata": {
        "colab": {
          "base_uri": "https://localhost:8080/"
        },
        "id": "zwulA7qwWFD3",
        "outputId": "b7bf6ec0-50a8-454d-bf3d-77934f7010c6"
      },
      "outputs": [
        {
          "data": {
            "text/plain": [
              "ViTForImageClassification(\n",
              "  (vit): ViTModel(\n",
              "    (embeddings): ViTEmbeddings(\n",
              "      (patch_embeddings): ViTPatchEmbeddings(\n",
              "        (projection): Conv2d(3, 768, kernel_size=(16, 16), stride=(16, 16))\n",
              "      )\n",
              "      (dropout): Dropout(p=0.0, inplace=False)\n",
              "    )\n",
              "    (encoder): ViTEncoder(\n",
              "      (layer): ModuleList(\n",
              "        (0): ViTLayer(\n",
              "          (attention): ViTAttention(\n",
              "            (attention): ViTSelfAttention(\n",
              "              (query): Linear(in_features=768, out_features=768, bias=True)\n",
              "              (key): Linear(in_features=768, out_features=768, bias=True)\n",
              "              (value): Linear(in_features=768, out_features=768, bias=True)\n",
              "              (dropout): Dropout(p=0.0, inplace=False)\n",
              "            )\n",
              "            (output): ViTSelfOutput(\n",
              "              (dense): Linear(in_features=768, out_features=768, bias=True)\n",
              "              (dropout): Dropout(p=0.0, inplace=False)\n",
              "            )\n",
              "          )\n",
              "          (intermediate): ViTIntermediate(\n",
              "            (dense): Linear(in_features=768, out_features=3072, bias=True)\n",
              "            (intermediate_act_fn): GELUActivation()\n",
              "          )\n",
              "          (output): ViTOutput(\n",
              "            (dense): Linear(in_features=3072, out_features=768, bias=True)\n",
              "            (dropout): Dropout(p=0.0, inplace=False)\n",
              "          )\n",
              "          (layernorm_before): LayerNorm((768,), eps=1e-12, elementwise_affine=True)\n",
              "          (layernorm_after): LayerNorm((768,), eps=1e-12, elementwise_affine=True)\n",
              "        )\n",
              "        (1): ViTLayer(\n",
              "          (attention): ViTAttention(\n",
              "            (attention): ViTSelfAttention(\n",
              "              (query): Linear(in_features=768, out_features=768, bias=True)\n",
              "              (key): Linear(in_features=768, out_features=768, bias=True)\n",
              "              (value): Linear(in_features=768, out_features=768, bias=True)\n",
              "              (dropout): Dropout(p=0.0, inplace=False)\n",
              "            )\n",
              "            (output): ViTSelfOutput(\n",
              "              (dense): Linear(in_features=768, out_features=768, bias=True)\n",
              "              (dropout): Dropout(p=0.0, inplace=False)\n",
              "            )\n",
              "          )\n",
              "          (intermediate): ViTIntermediate(\n",
              "            (dense): Linear(in_features=768, out_features=3072, bias=True)\n",
              "            (intermediate_act_fn): GELUActivation()\n",
              "          )\n",
              "          (output): ViTOutput(\n",
              "            (dense): Linear(in_features=3072, out_features=768, bias=True)\n",
              "            (dropout): Dropout(p=0.0, inplace=False)\n",
              "          )\n",
              "          (layernorm_before): LayerNorm((768,), eps=1e-12, elementwise_affine=True)\n",
              "          (layernorm_after): LayerNorm((768,), eps=1e-12, elementwise_affine=True)\n",
              "        )\n",
              "        (2): ViTLayer(\n",
              "          (attention): ViTAttention(\n",
              "            (attention): ViTSelfAttention(\n",
              "              (query): Linear(in_features=768, out_features=768, bias=True)\n",
              "              (key): Linear(in_features=768, out_features=768, bias=True)\n",
              "              (value): Linear(in_features=768, out_features=768, bias=True)\n",
              "              (dropout): Dropout(p=0.0, inplace=False)\n",
              "            )\n",
              "            (output): ViTSelfOutput(\n",
              "              (dense): Linear(in_features=768, out_features=768, bias=True)\n",
              "              (dropout): Dropout(p=0.0, inplace=False)\n",
              "            )\n",
              "          )\n",
              "          (intermediate): ViTIntermediate(\n",
              "            (dense): Linear(in_features=768, out_features=3072, bias=True)\n",
              "            (intermediate_act_fn): GELUActivation()\n",
              "          )\n",
              "          (output): ViTOutput(\n",
              "            (dense): Linear(in_features=3072, out_features=768, bias=True)\n",
              "            (dropout): Dropout(p=0.0, inplace=False)\n",
              "          )\n",
              "          (layernorm_before): LayerNorm((768,), eps=1e-12, elementwise_affine=True)\n",
              "          (layernorm_after): LayerNorm((768,), eps=1e-12, elementwise_affine=True)\n",
              "        )\n",
              "        (3): ViTLayer(\n",
              "          (attention): ViTAttention(\n",
              "            (attention): ViTSelfAttention(\n",
              "              (query): Linear(in_features=768, out_features=768, bias=True)\n",
              "              (key): Linear(in_features=768, out_features=768, bias=True)\n",
              "              (value): Linear(in_features=768, out_features=768, bias=True)\n",
              "              (dropout): Dropout(p=0.0, inplace=False)\n",
              "            )\n",
              "            (output): ViTSelfOutput(\n",
              "              (dense): Linear(in_features=768, out_features=768, bias=True)\n",
              "              (dropout): Dropout(p=0.0, inplace=False)\n",
              "            )\n",
              "          )\n",
              "          (intermediate): ViTIntermediate(\n",
              "            (dense): Linear(in_features=768, out_features=3072, bias=True)\n",
              "            (intermediate_act_fn): GELUActivation()\n",
              "          )\n",
              "          (output): ViTOutput(\n",
              "            (dense): Linear(in_features=3072, out_features=768, bias=True)\n",
              "            (dropout): Dropout(p=0.0, inplace=False)\n",
              "          )\n",
              "          (layernorm_before): LayerNorm((768,), eps=1e-12, elementwise_affine=True)\n",
              "          (layernorm_after): LayerNorm((768,), eps=1e-12, elementwise_affine=True)\n",
              "        )\n",
              "        (4): ViTLayer(\n",
              "          (attention): ViTAttention(\n",
              "            (attention): ViTSelfAttention(\n",
              "              (query): Linear(in_features=768, out_features=768, bias=True)\n",
              "              (key): Linear(in_features=768, out_features=768, bias=True)\n",
              "              (value): Linear(in_features=768, out_features=768, bias=True)\n",
              "              (dropout): Dropout(p=0.0, inplace=False)\n",
              "            )\n",
              "            (output): ViTSelfOutput(\n",
              "              (dense): Linear(in_features=768, out_features=768, bias=True)\n",
              "              (dropout): Dropout(p=0.0, inplace=False)\n",
              "            )\n",
              "          )\n",
              "          (intermediate): ViTIntermediate(\n",
              "            (dense): Linear(in_features=768, out_features=3072, bias=True)\n",
              "            (intermediate_act_fn): GELUActivation()\n",
              "          )\n",
              "          (output): ViTOutput(\n",
              "            (dense): Linear(in_features=3072, out_features=768, bias=True)\n",
              "            (dropout): Dropout(p=0.0, inplace=False)\n",
              "          )\n",
              "          (layernorm_before): LayerNorm((768,), eps=1e-12, elementwise_affine=True)\n",
              "          (layernorm_after): LayerNorm((768,), eps=1e-12, elementwise_affine=True)\n",
              "        )\n",
              "        (5): ViTLayer(\n",
              "          (attention): ViTAttention(\n",
              "            (attention): ViTSelfAttention(\n",
              "              (query): Linear(in_features=768, out_features=768, bias=True)\n",
              "              (key): Linear(in_features=768, out_features=768, bias=True)\n",
              "              (value): Linear(in_features=768, out_features=768, bias=True)\n",
              "              (dropout): Dropout(p=0.0, inplace=False)\n",
              "            )\n",
              "            (output): ViTSelfOutput(\n",
              "              (dense): Linear(in_features=768, out_features=768, bias=True)\n",
              "              (dropout): Dropout(p=0.0, inplace=False)\n",
              "            )\n",
              "          )\n",
              "          (intermediate): ViTIntermediate(\n",
              "            (dense): Linear(in_features=768, out_features=3072, bias=True)\n",
              "            (intermediate_act_fn): GELUActivation()\n",
              "          )\n",
              "          (output): ViTOutput(\n",
              "            (dense): Linear(in_features=3072, out_features=768, bias=True)\n",
              "            (dropout): Dropout(p=0.0, inplace=False)\n",
              "          )\n",
              "          (layernorm_before): LayerNorm((768,), eps=1e-12, elementwise_affine=True)\n",
              "          (layernorm_after): LayerNorm((768,), eps=1e-12, elementwise_affine=True)\n",
              "        )\n",
              "        (6): ViTLayer(\n",
              "          (attention): ViTAttention(\n",
              "            (attention): ViTSelfAttention(\n",
              "              (query): Linear(in_features=768, out_features=768, bias=True)\n",
              "              (key): Linear(in_features=768, out_features=768, bias=True)\n",
              "              (value): Linear(in_features=768, out_features=768, bias=True)\n",
              "              (dropout): Dropout(p=0.0, inplace=False)\n",
              "            )\n",
              "            (output): ViTSelfOutput(\n",
              "              (dense): Linear(in_features=768, out_features=768, bias=True)\n",
              "              (dropout): Dropout(p=0.0, inplace=False)\n",
              "            )\n",
              "          )\n",
              "          (intermediate): ViTIntermediate(\n",
              "            (dense): Linear(in_features=768, out_features=3072, bias=True)\n",
              "            (intermediate_act_fn): GELUActivation()\n",
              "          )\n",
              "          (output): ViTOutput(\n",
              "            (dense): Linear(in_features=3072, out_features=768, bias=True)\n",
              "            (dropout): Dropout(p=0.0, inplace=False)\n",
              "          )\n",
              "          (layernorm_before): LayerNorm((768,), eps=1e-12, elementwise_affine=True)\n",
              "          (layernorm_after): LayerNorm((768,), eps=1e-12, elementwise_affine=True)\n",
              "        )\n",
              "        (7): ViTLayer(\n",
              "          (attention): ViTAttention(\n",
              "            (attention): ViTSelfAttention(\n",
              "              (query): Linear(in_features=768, out_features=768, bias=True)\n",
              "              (key): Linear(in_features=768, out_features=768, bias=True)\n",
              "              (value): Linear(in_features=768, out_features=768, bias=True)\n",
              "              (dropout): Dropout(p=0.0, inplace=False)\n",
              "            )\n",
              "            (output): ViTSelfOutput(\n",
              "              (dense): Linear(in_features=768, out_features=768, bias=True)\n",
              "              (dropout): Dropout(p=0.0, inplace=False)\n",
              "            )\n",
              "          )\n",
              "          (intermediate): ViTIntermediate(\n",
              "            (dense): Linear(in_features=768, out_features=3072, bias=True)\n",
              "            (intermediate_act_fn): GELUActivation()\n",
              "          )\n",
              "          (output): ViTOutput(\n",
              "            (dense): Linear(in_features=3072, out_features=768, bias=True)\n",
              "            (dropout): Dropout(p=0.0, inplace=False)\n",
              "          )\n",
              "          (layernorm_before): LayerNorm((768,), eps=1e-12, elementwise_affine=True)\n",
              "          (layernorm_after): LayerNorm((768,), eps=1e-12, elementwise_affine=True)\n",
              "        )\n",
              "        (8): ViTLayer(\n",
              "          (attention): ViTAttention(\n",
              "            (attention): ViTSelfAttention(\n",
              "              (query): Linear(in_features=768, out_features=768, bias=True)\n",
              "              (key): Linear(in_features=768, out_features=768, bias=True)\n",
              "              (value): Linear(in_features=768, out_features=768, bias=True)\n",
              "              (dropout): Dropout(p=0.0, inplace=False)\n",
              "            )\n",
              "            (output): ViTSelfOutput(\n",
              "              (dense): Linear(in_features=768, out_features=768, bias=True)\n",
              "              (dropout): Dropout(p=0.0, inplace=False)\n",
              "            )\n",
              "          )\n",
              "          (intermediate): ViTIntermediate(\n",
              "            (dense): Linear(in_features=768, out_features=3072, bias=True)\n",
              "            (intermediate_act_fn): GELUActivation()\n",
              "          )\n",
              "          (output): ViTOutput(\n",
              "            (dense): Linear(in_features=3072, out_features=768, bias=True)\n",
              "            (dropout): Dropout(p=0.0, inplace=False)\n",
              "          )\n",
              "          (layernorm_before): LayerNorm((768,), eps=1e-12, elementwise_affine=True)\n",
              "          (layernorm_after): LayerNorm((768,), eps=1e-12, elementwise_affine=True)\n",
              "        )\n",
              "        (9): ViTLayer(\n",
              "          (attention): ViTAttention(\n",
              "            (attention): ViTSelfAttention(\n",
              "              (query): Linear(in_features=768, out_features=768, bias=True)\n",
              "              (key): Linear(in_features=768, out_features=768, bias=True)\n",
              "              (value): Linear(in_features=768, out_features=768, bias=True)\n",
              "              (dropout): Dropout(p=0.0, inplace=False)\n",
              "            )\n",
              "            (output): ViTSelfOutput(\n",
              "              (dense): Linear(in_features=768, out_features=768, bias=True)\n",
              "              (dropout): Dropout(p=0.0, inplace=False)\n",
              "            )\n",
              "          )\n",
              "          (intermediate): ViTIntermediate(\n",
              "            (dense): Linear(in_features=768, out_features=3072, bias=True)\n",
              "            (intermediate_act_fn): GELUActivation()\n",
              "          )\n",
              "          (output): ViTOutput(\n",
              "            (dense): Linear(in_features=3072, out_features=768, bias=True)\n",
              "            (dropout): Dropout(p=0.0, inplace=False)\n",
              "          )\n",
              "          (layernorm_before): LayerNorm((768,), eps=1e-12, elementwise_affine=True)\n",
              "          (layernorm_after): LayerNorm((768,), eps=1e-12, elementwise_affine=True)\n",
              "        )\n",
              "        (10): ViTLayer(\n",
              "          (attention): ViTAttention(\n",
              "            (attention): ViTSelfAttention(\n",
              "              (query): Linear(in_features=768, out_features=768, bias=True)\n",
              "              (key): Linear(in_features=768, out_features=768, bias=True)\n",
              "              (value): Linear(in_features=768, out_features=768, bias=True)\n",
              "              (dropout): Dropout(p=0.0, inplace=False)\n",
              "            )\n",
              "            (output): ViTSelfOutput(\n",
              "              (dense): Linear(in_features=768, out_features=768, bias=True)\n",
              "              (dropout): Dropout(p=0.0, inplace=False)\n",
              "            )\n",
              "          )\n",
              "          (intermediate): ViTIntermediate(\n",
              "            (dense): Linear(in_features=768, out_features=3072, bias=True)\n",
              "            (intermediate_act_fn): GELUActivation()\n",
              "          )\n",
              "          (output): ViTOutput(\n",
              "            (dense): Linear(in_features=3072, out_features=768, bias=True)\n",
              "            (dropout): Dropout(p=0.0, inplace=False)\n",
              "          )\n",
              "          (layernorm_before): LayerNorm((768,), eps=1e-12, elementwise_affine=True)\n",
              "          (layernorm_after): LayerNorm((768,), eps=1e-12, elementwise_affine=True)\n",
              "        )\n",
              "        (11): ViTLayer(\n",
              "          (attention): ViTAttention(\n",
              "            (attention): ViTSelfAttention(\n",
              "              (query): Linear(in_features=768, out_features=768, bias=True)\n",
              "              (key): Linear(in_features=768, out_features=768, bias=True)\n",
              "              (value): Linear(in_features=768, out_features=768, bias=True)\n",
              "              (dropout): Dropout(p=0.0, inplace=False)\n",
              "            )\n",
              "            (output): ViTSelfOutput(\n",
              "              (dense): Linear(in_features=768, out_features=768, bias=True)\n",
              "              (dropout): Dropout(p=0.0, inplace=False)\n",
              "            )\n",
              "          )\n",
              "          (intermediate): ViTIntermediate(\n",
              "            (dense): Linear(in_features=768, out_features=3072, bias=True)\n",
              "            (intermediate_act_fn): GELUActivation()\n",
              "          )\n",
              "          (output): ViTOutput(\n",
              "            (dense): Linear(in_features=3072, out_features=768, bias=True)\n",
              "            (dropout): Dropout(p=0.0, inplace=False)\n",
              "          )\n",
              "          (layernorm_before): LayerNorm((768,), eps=1e-12, elementwise_affine=True)\n",
              "          (layernorm_after): LayerNorm((768,), eps=1e-12, elementwise_affine=True)\n",
              "        )\n",
              "      )\n",
              "    )\n",
              "    (layernorm): LayerNorm((768,), eps=1e-12, elementwise_affine=True)\n",
              "  )\n",
              "  (classifier): Linear(in_features=768, out_features=100, bias=True)\n",
              ")"
            ]
          },
          "execution_count": 30,
          "metadata": {},
          "output_type": "execute_result"
        }
      ],
      "source": [
        "model = torch.load(models_path+\"model_downloaded.pth\") # загружаем сохранённую модель\n",
        "model # вывод строения модели"
      ]
    },
    {
      "cell_type": "markdown",
      "metadata": {
        "id": "NOyL4eFoWFD3"
      },
      "source": [
        "## Обработчик картинок"
      ]
    },
    {
      "cell_type": "code",
      "execution_count": 3,
      "metadata": {
        "colab": {
          "base_uri": "https://localhost:8080/"
        },
        "id": "R4HeSVwwWFD3",
        "outputId": "f3416d34-f0ab-41bf-9f0e-f6f7538b05e7"
      },
      "outputs": [
        {
          "data": {
            "text/plain": [
              "(None,\n",
              " None,\n",
              " None,\n",
              " None,\n",
              " None,\n",
              " None,\n",
              " None,\n",
              " None,\n",
              " None,\n",
              " <ChannelDimension.FIRST: 'channels_first'>,\n",
              " None)"
            ]
          },
          "execution_count": 3,
          "metadata": {},
          "output_type": "execute_result"
        }
      ],
      "source": [
        "ViTImageProcessor.preprocess.__defaults__ # стандартные параметры __call__ (preproces) метода у ViTImageProcessor"
      ]
    },
    {
      "cell_type": "code",
      "execution_count": 4,
      "metadata": {
        "colab": {
          "base_uri": "https://localhost:8080/"
        },
        "id": "olFAhqJVWFD4",
        "outputId": "4c13d52d-89e8-4466-d91b-d5dedbefb838"
      },
      "outputs": [
        {
          "data": {
            "text/plain": [
              "(None,\n",
              " None,\n",
              " None,\n",
              " None,\n",
              " None,\n",
              " None,\n",
              " None,\n",
              " None,\n",
              " 'pt',\n",
              " <ChannelDimension.FIRST: 'channels_first'>,\n",
              " None)"
            ]
          },
          "execution_count": 4,
          "metadata": {},
          "output_type": "execute_result"
        }
      ],
      "source": [
        "ViTImageProcessor.preprocess.__defaults__ = (None, None, None, None, None, None, None, None, \"pt\", ViTImageProcessor.preprocess.__defaults__[9], None) # ставим \"pt\" на месте параметра return_tensors, чтобы обработчик возвращал pytorch тензоры\n",
        "ViTImageProcessor.preprocess.__defaults__ # последний None в зависимости от версии transformers"
      ]
    },
    {
      "cell_type": "code",
      "execution_count": 5,
      "metadata": {
        "id": "AnfQxV72WFD6"
      },
      "outputs": [],
      "source": [
        "feature_extractor = ViTImageProcessor.from_pretrained('google/vit-base-patch16-224-in21k') # объект для препроцессинга картинок, с которым обучалась изначальная модель\n",
        "# torch.save(feature_extractor, models_path+\"model_downloaded_feature_extractor.pth\") # сохраняем его в файл \"model_downloaded_feature_extractor.pth\""
      ]
    },
    {
      "cell_type": "code",
      "execution_count": 6,
      "metadata": {
        "colab": {
          "base_uri": "https://localhost:8080/"
        },
        "id": "8oOeR5unWFD7",
        "outputId": "f4ce4792-1a94-4162-c82b-a8e4b53e8b35"
      },
      "outputs": [
        {
          "data": {
            "text/plain": [
              "ViTImageProcessor {\n",
              "  \"do_normalize\": true,\n",
              "  \"do_rescale\": true,\n",
              "  \"do_resize\": true,\n",
              "  \"image_mean\": [\n",
              "    0.5,\n",
              "    0.5,\n",
              "    0.5\n",
              "  ],\n",
              "  \"image_processor_type\": \"ViTImageProcessor\",\n",
              "  \"image_std\": [\n",
              "    0.5,\n",
              "    0.5,\n",
              "    0.5\n",
              "  ],\n",
              "  \"resample\": 2,\n",
              "  \"rescale_factor\": 0.00392156862745098,\n",
              "  \"size\": {\n",
              "    \"height\": 224,\n",
              "    \"width\": 224\n",
              "  }\n",
              "}"
            ]
          },
          "execution_count": 6,
          "metadata": {},
          "output_type": "execute_result"
        }
      ],
      "source": [
        "feature_extractor = torch.load(models_path+\"model_downloaded_feature_extractor.pth\") # загружаем препроцессор для картинок\n",
        "feature_extractor # вывод того, что делает препроцессор"
      ]
    },
    {
      "cell_type": "markdown",
      "metadata": {
        "id": "Zzwp0x79WFD7"
      },
      "source": [
        "## Пример работы модели"
      ]
    },
    {
      "cell_type": "code",
      "execution_count": null,
      "metadata": {
        "id": "GUXQ5bYGWFD8"
      },
      "outputs": [],
      "source": [
        "input_example = feature_extractor(images=data_train[16][0], return_tensors=\"pt\") # предобрабатываем картинку с велосипедом (return_tensors=\"pt\" — возвращаем pytorch тензор)"
      ]
    },
    {
      "cell_type": "code",
      "execution_count": null,
      "metadata": {
        "colab": {
          "base_uri": "https://localhost:8080/"
        },
        "id": "HFwMKkLJWFD8",
        "outputId": "879c5067-249f-4692-8bf8-61ca5b7f16bf"
      },
      "outputs": [
        {
          "data": {
            "text/plain": [
              "{'pixel_values': tensor([[[[-0.7255, -0.7255, -0.7255,  ..., -0.1294, -0.1294, -0.1294],\n",
              "          [-0.7255, -0.7255, -0.7255,  ..., -0.1294, -0.1294, -0.1294],\n",
              "          [-0.7255, -0.7255, -0.7255,  ..., -0.1294, -0.1294, -0.1294],\n",
              "          ...,\n",
              "          [ 0.5922,  0.5922,  0.5922,  ...,  0.4196,  0.4196,  0.4196],\n",
              "          [ 0.5922,  0.5922,  0.5922,  ...,  0.4196,  0.4196,  0.4196],\n",
              "          [ 0.5922,  0.5922,  0.5922,  ...,  0.4196,  0.4196,  0.4196]],\n",
              "\n",
              "         [[-0.7020, -0.7020, -0.7020,  ..., -0.0039, -0.0039, -0.0039],\n",
              "          [-0.7020, -0.7020, -0.7020,  ..., -0.0039, -0.0039, -0.0039],\n",
              "          [-0.7020, -0.7020, -0.7020,  ..., -0.0039, -0.0039, -0.0039],\n",
              "          ...,\n",
              "          [ 0.6784,  0.6784,  0.6784,  ...,  0.5529,  0.5529,  0.5529],\n",
              "          [ 0.6784,  0.6784,  0.6784,  ...,  0.5529,  0.5529,  0.5529],\n",
              "          [ 0.6784,  0.6784,  0.6784,  ...,  0.5529,  0.5529,  0.5529]],\n",
              "\n",
              "         [[-0.7490, -0.7490, -0.7490,  ..., -0.3490, -0.3490, -0.3490],\n",
              "          [-0.7490, -0.7490, -0.7490,  ..., -0.3490, -0.3490, -0.3490],\n",
              "          [-0.7490, -0.7490, -0.7490,  ..., -0.3490, -0.3490, -0.3490],\n",
              "          ...,\n",
              "          [ 0.1373,  0.1373,  0.1373,  ..., -0.0745, -0.0745, -0.0745],\n",
              "          [ 0.1373,  0.1373,  0.1373,  ..., -0.0745, -0.0745, -0.0745],\n",
              "          [ 0.1373,  0.1373,  0.1373,  ..., -0.0745, -0.0745, -0.0745]]]])}"
            ]
          },
          "execution_count": 14,
          "metadata": {},
          "output_type": "execute_result"
        }
      ],
      "source": [
        "input_example # вывод того, во что сконвертировался PIL Image"
      ]
    },
    {
      "cell_type": "code",
      "execution_count": null,
      "metadata": {
        "colab": {
          "base_uri": "https://localhost:8080/"
        },
        "id": "GEodQrskWFD8",
        "outputId": "afce8ffe-d36d-45e6-c2e4-042e7432f025"
      },
      "outputs": [
        {
          "data": {
            "text/plain": [
              "torch.Size([1, 3, 224, 224])"
            ]
          },
          "execution_count": 15,
          "metadata": {},
          "output_type": "execute_result"
        }
      ],
      "source": [
        "input_example[\"pixel_values\"].shape # размерность входа (batch_size, Channels, Height, Width)"
      ]
    },
    {
      "cell_type": "code",
      "execution_count": null,
      "metadata": {
        "colab": {
          "base_uri": "https://localhost:8080/"
        },
        "id": "0yT4US2pWFD9",
        "outputId": "db9f84f1-2cff-46fe-f6c4-7ab94f9293c6"
      },
      "outputs": [
        {
          "data": {
            "text/plain": [
              "8"
            ]
          },
          "execution_count": 16,
          "metadata": {},
          "output_type": "execute_result"
        }
      ],
      "source": [
        "data_train[16][1] # настоящий таргет этого сэмпла"
      ]
    },
    {
      "cell_type": "code",
      "execution_count": null,
      "metadata": {
        "colab": {
          "base_uri": "https://localhost:8080/"
        },
        "id": "-XY7HmO0WFD9",
        "outputId": "89ef6906-185d-4794-a415-52b87b9e2e56"
      },
      "outputs": [
        {
          "data": {
            "text/plain": [
              "ImageClassifierOutput(loss=None, logits=tensor([[-2.2100e-01,  3.6664e-01, -1.7498e-02, -1.9066e-01,  2.5630e-01,\n",
              "         -1.8679e-01,  4.1031e-02, -1.6793e-01,  9.8878e+00, -2.1973e-01,\n",
              "          5.4470e-01, -9.1136e-03, -5.4320e-01,  1.1484e-01, -2.8465e-01,\n",
              "         -3.9441e-01, -2.6831e-01, -9.0195e-02, -6.6151e-03, -7.8942e-02,\n",
              "         -3.9036e-01, -1.9537e-01,  5.9087e-02,  3.5102e-01, -2.1579e-01,\n",
              "          4.8623e-02,  1.5578e-01, -1.8561e-01, -7.9289e-02,  3.1258e-01,\n",
              "         -8.5446e-01,  6.6529e-01, -2.9746e-01, -9.2083e-02,  5.8025e-02,\n",
              "          1.6811e-01, -3.5605e-01, -2.0179e-01, -6.9506e-02,  6.4792e-01,\n",
              "         -4.4716e-01, -6.2601e-01, -7.7631e-01, -2.7773e-01, -5.7246e-02,\n",
              "          4.1897e-01,  3.7924e-01, -6.7312e-01,  1.0508e+00, -7.9381e-02,\n",
              "         -1.5226e-01, -1.6402e-01,  4.7819e-01, -5.7159e-02, -5.2572e-01,\n",
              "          1.6712e-01,  8.9945e-02, -3.9202e-01, -2.1837e-01,  1.9421e-01,\n",
              "          1.4466e-01, -2.1497e-01,  2.5911e-01,  2.7446e-01, -4.5678e-02,\n",
              "          5.8036e-02, -1.8336e-01, -3.8895e-01, -1.1212e-02, -1.6365e-01,\n",
              "         -5.7708e-01,  1.3901e-01,  2.7916e-01, -2.3631e-01, -3.0809e-02,\n",
              "         -7.0127e-01, -5.5463e-02, -4.3263e-01, -2.4429e-02, -8.9216e-02,\n",
              "         -6.9952e-01,  3.6794e-01,  4.8950e-01, -6.1389e-01, -7.9761e-02,\n",
              "         -5.9769e-01,  3.5549e-02,  4.1512e-02, -2.3749e-01, -2.4586e-01,\n",
              "          2.7551e-02, -3.0243e-01, -2.6909e-01,  7.1281e-02, -5.0661e-02,\n",
              "          2.0394e-01, -4.3209e-01,  3.2877e-01, -8.7056e-02,  1.0641e+00]],\n",
              "       grad_fn=<AddmmBackward0>), hidden_states=None, attentions=None)"
            ]
          },
          "execution_count": 17,
          "metadata": {},
          "output_type": "execute_result"
        }
      ],
      "source": [
        "model.eval() # перевод модель в режим оценивания (dropout перестаёт работать, а BatchNorm собирать статистику)\n",
        "output_example = model(**input_example) # передаём в модель входные данные\n",
        "output_example # вывод выхода модели (logits - вероятности классов, полученные с помощью logit функции)"
      ]
    },
    {
      "cell_type": "code",
      "execution_count": null,
      "metadata": {
        "colab": {
          "base_uri": "https://localhost:8080/"
        },
        "id": "FkPiRPzdWFD9",
        "outputId": "0fdfca89-7399-4738-fa98-dd79bed2c385"
      },
      "outputs": [
        {
          "data": {
            "text/plain": [
              "tensor([8])"
            ]
          },
          "execution_count": 18,
          "metadata": {},
          "output_type": "execute_result"
        }
      ],
      "source": [
        "torch.argmax(output_example.logits, axis=-1) # ищём индекс с максимальным значением для каждого батча с помощью axis=-1 (номер самого вероятного класса)\n",
        "# ответ совпал с таргетом"
      ]
    },
    {
      "cell_type": "markdown",
      "metadata": {
        "id": "T8vnszrsWFD-"
      },
      "source": [
        "## Оценивание текущего качества модели"
      ]
    },
    {
      "cell_type": "markdown",
      "metadata": {
        "id": "CnvTpxvpWFD-"
      },
      "source": [
        "### Создадим loader для данных с использованием feature_extractor, что совместим с моделью"
      ]
    },
    {
      "cell_type": "code",
      "execution_count": 35,
      "metadata": {
        "colab": {
          "base_uri": "https://localhost:8080/"
        },
        "id": "a4Q5GOGwWFD-",
        "outputId": "808d0a44-2138-4a88-ca0d-e00096ae4f23"
      },
      "outputs": [
        {
          "name": "stdout",
          "output_type": "stream",
          "text": [
            "Files already downloaded and verified\n"
          ]
        }
      ],
      "source": [
        "# датасет для тестирования\n",
        "data_test = torchvision.datasets.CIFAR100(root=data_path, # путь, откуда брать/куда сохранять датасет\n",
        "                                          train=False, # какую часть датасета использовать (тестовая)\n",
        "                                          download=True, # скачивать ли датасет, если его нет в root пути\n",
        "                                          transform=feature_extractor # функция, принимающая на вход PIL Image и преобразовывающая его\n",
        "                                         )\n",
        "\n",
        "# загрузчик данных для тестирования\n",
        "loader_test = torch.utils.data.DataLoader(dataset=data_test, # указание датасета для DataLoader\n",
        "                                          batch_size=20, # размер батчка (число сэмплов, что будет возвращать DataLoader за раз) (градиент усредняется по батчу, ускоряется обработка датасета, но слегка замедляется обработка сэмпла)\n",
        "                                          shuffle=True, # перемешивать ли датасет\n",
        "                                          num_workers=2, # число используемых ядер процессора для ускорения обработки данных\n",
        "                                          pin_memory=True # нужно ли заранее аллоцировать память под объект на GPU (лучше так, чем возвращать CUDA tensors при multi-process loading)\n",
        "                                         )"
      ]
    },
    {
      "cell_type": "code",
      "execution_count": 3,
      "metadata": {
        "id": "-8xqiJRhWFD_"
      },
      "outputs": [],
      "source": [
        "def model_predict(model, loader, device, finetuned=False) -> tuple:\n",
        "    \"\"\"\n",
        "    Функция для получения предсказаний от модели на датасете из loader.\\n\n",
        "    Parameters:\n",
        "        * model: оцениваемая модель\n",
        "        * loader: загрузчик данных для оценивания\n",
        "        * device: устройство, на котором будет запуск\n",
        "        * finetuned: ключ, что нужен, если датасет был преобразован из CIFAR-100 формата\\n\n",
        "    Returns:\n",
        "        * tuple: пара списков в формате (labels_true, labels_pred), где labels_true и labels_pred — настоящие и предсказанные таргеты\n",
        "    \"\"\"\n",
        "    labels_true = [] # список под настоящие классы\n",
        "    labels_pred = [] # список под предсказаные классы\n",
        "\n",
        "    model.to(device) # отправляем модель на девайс\n",
        "    model.eval() # перевод модели в режим оценивания (dropout перестаёт работать, а BatchNorm собирать статистику)\n",
        "    with torch.no_grad(): # отключаем подсчёт градиентов\n",
        "        for batch_idx, (data, target) in enumerate(loader): # идём по батчам, что возвращает loader\n",
        "            for t in target: # идём по таргетам (их сразу несколько == размер батча в loader)\n",
        "                labels_true.append(t) # добавляем target в список с настоящими классами (таргеты остаются на cpu)\n",
        "\n",
        "#======== data preprocessor and model specific code\n",
        "            if finetuned: # если в loader передан датасет не в виде объекта CIFAR-100\n",
        "                data[\"pixel_values\"] = data[\"pixel_values\"][:,0].to(device) # dataloader засовывает тензоры в словаре ещё в один список (получая shape [batch_size, 1, Channels, Height, Width]), поэтому просто достаём их из этого списка — пропуская размерность 1 с помощью [:,0] (и отправляем на девайс)\n",
        "            else: # если в loader передан датасет в виде объекта CIFAR-100\n",
        "                data[\"pixel_values\"] = data[\"pixel_values\"][0].to(device) # dataloader засовывает тензоры в словаре ещё в один список, поэтому просто достаём их из этого списка (и отправляем на девайс)\n",
        "            preds = model(**data) # вызываем forward pass модели (предсказываем - preds это список с вероятностями классов)\n",
        "            preds = torch.argmax(preds.logits, axis=-1) # ищём индекс с максимальным значением для каждого батча с помощью axis=-1 (номер самого вероятного класса)\n",
        "            preds = preds.to(\"cpu\") # отправляем полученный tensor обратно на cpu, так как confusion_matrix может считаться только на нём\n",
        "#========\n",
        "            for pred in preds: # идём по предсказаниям (их сразу несколько == размер батча в loader)\n",
        "                labels_pred.append(pred) # добавляем предсказанный класс в список с предсказаниями\n",
        "\n",
        "    return labels_true, labels_pred # возвращаем настоящие и предсказанные классы"
      ]
    },
    {
      "cell_type": "code",
      "execution_count": 37,
      "metadata": {
        "id": "vvQzVpmTWFD_"
      },
      "outputs": [],
      "source": [
        "def print_confusion_matrix(confusion_matrix_full: np.ndarray) -> None:\n",
        "    \"\"\"\n",
        "    Функция для построения матрицы ошибок (confusion matrix) только для интересующих классов. Номера классов: bicycle - 8, motorcycle - 48, background - всё остальное.\n",
        "    Parameters:\n",
        "        * confusion_matrix_full: полная матрица ошибок\\n\n",
        "    Returns:\n",
        "        * None: выводит матрицу ошибок (confusion matrix) для классов (строки - true labels, столбцы — predicted labels)\n",
        "    \"\"\"\n",
        "    confusion_matrix_ = np.zeros(shape=(3,3)) # заготовка под интересующий confusion matrix c классами bicycle, motorcycle, background\n",
        "    # для bicycle\n",
        "    confusion_matrix_[0][0] = confusion_matrix_full[8][8] # ячейка [true:bicycle, pred:bicycle]\n",
        "    confusion_matrix_[0][1] = confusion_matrix_full[8][48] # ячейка [true:bicycle, pred:motorcycle]\n",
        "    confusion_matrix_[0][2] = confusion_matrix_full[8].sum() - confusion_matrix_[0][0] - confusion_matrix_[0][1] # ячейка [true:bicycle, pred:background] = все (в строке) - уже записанные\n",
        "\n",
        "    # для motorcycle\n",
        "    confusion_matrix_[1][0] = confusion_matrix_full[48][8] # ячейка [true:motorcycle, pred:bicycle]\n",
        "    confusion_matrix_[1][1] = confusion_matrix_full[48][48] # ячейка [true:motorcycle, pred:motorcycle]\n",
        "    confusion_matrix_[1][2] = confusion_matrix_full[48].sum() - confusion_matrix_[1][0] - confusion_matrix_[1][1] # ячейка [true:motorcycle, pred:background] = все (в строке) - уже записанные\n",
        "\n",
        "    # для background\n",
        "\n",
        "    confusion_matrix_[2][0] = confusion_matrix_full.sum(axis=0)[8] - confusion_matrix_[0][0] - confusion_matrix_[1][0] # ячейка [true:background, pred:bicycle] (axis=0 — сумма по столбцам; из всех предсказанных bicycle вычитаем те, что уже в таблице)\n",
        "    confusion_matrix_[2][1] = confusion_matrix_full.sum(axis=0)[48] - confusion_matrix_[0][1] - confusion_matrix_[1][1] # ячейка [true:background, pred:motorcycle] (axis=0 — сумма по столбцам; из всех предсказанных motorcycle вычитаем те, что уже в таблице)\n",
        "    confusion_matrix_[2][2] = confusion_matrix_full.sum() - confusion_matrix_.sum() # ячейка [true:background, pred:background] = все (в матрице) - уже записанные\n",
        "\n",
        "    ConfusionMatrixDisplay(confusion_matrix = confusion_matrix_, display_labels = [\"Bicycle\", \"Motorcycle\", \"Background\"]).plot() # вывод Confusion Matrix"
      ]
    },
    {
      "cell_type": "code",
      "execution_count": 38,
      "metadata": {
        "id": "uHF5vYLQWFD_"
      },
      "outputs": [],
      "source": [
        "confusion_matrix_downloaded_full = confusion_matrix(*model_predict(model=model, loader=loader_test, device=device)) # считаем матрицу ошибок\n",
        "# *model_predict(model=model, loader=loader_test, device=device) - возвращаяет предсказанные таргеты и настоящие\n",
        "# матрица ошибок (confusion matrix) для классов (строки - true labels, столбцы — predicted labels)"
      ]
    },
    {
      "cell_type": "code",
      "execution_count": 39,
      "metadata": {
        "id": "H3PmvXrjWFEA",
        "outputId": "62016a1c-2b63-4cbe-8077-cded30cb515e"
      },
      "outputs": [
        {
          "data": {
            "image/png": "[encoded data removed]",
            "text/plain": [
              "<Figure size 432x288 with 2 Axes>"
            ]
          },
          "metadata": {
            "needs_background": "light"
          },
          "output_type": "display_data"
        }
      ],
      "source": [
        "print_confusion_matrix(confusion_matrix_full=confusion_matrix_downloaded_full) # результаты скаченной модели"
      ]
    },
    {
      "cell_type": "markdown",
      "metadata": {
        "id": "Jdj6gsWsWFEA"
      },
      "source": [
        "* Для класса Bicycle 94 элемента были выявлены правильно, 5 были предсказаны как Motorcycle и 1 как Background.\n",
        "* Для класса Motorcycle 98 элементов были предсказаны правильно, 1 был предсказан как Bicycle и 1 как Background.\n",
        "* Для класса Background почти все элементы~10000 были предсказаны \"правильно\", только 2 были помечены как Bicycle и 1 как Motorcycle."
      ]
    },
    {
      "cell_type": "markdown",
      "metadata": {
        "id": "cE7fm7dNWFEA"
      },
      "source": [
        "# 1) Fine-tuning нейронной сети под задачу"
      ]
    },
    {
      "cell_type": "code",
      "execution_count": 99,
      "metadata": {
        "id": "QaEZaALBWFEA"
      },
      "outputs": [],
      "source": [
        "def model_train(model, epochs: np.int64, loader, loss_func, optimizer, num_classes: np.int64, device) -> list: # функция обучения\n",
        "    \"\"\"\n",
        "    Функция обучения модели.\\n\n",
        "    Parameters:\n",
        "        * model: модель для обучения\n",
        "        * epochs: число эпох обучения\n",
        "        * loader: загрузчик данных для обучения\n",
        "        * loss_func: функция для подсчёта потерь\n",
        "        * optimizer: оптимайзер для обучения\n",
        "        * num_classes: число классов в задаче multi-class classification\n",
        "        * device: устройство, на котором будет запуск\\n\n",
        "    Returns:\n",
        "        * list: список с получившимися значениями loss функции\n",
        "    \"\"\"\n",
        "    model.to(device) # отправляем модель на девайс\n",
        "    model.train() # перевод модели в режим обучения (dropout работает, а BatchNorm собирает статистику)\n",
        "\n",
        "    losses = [0.0] * epochs # заготавливаем массив под значения loss функции\n",
        "    for epoch in range(epochs): # обучаемся по эпохам\n",
        "        for batch_idx, (data, target) in enumerate(loader): # идём по батчам, что возвращает loader\n",
        "            # переводим target в вероятностное пространство (везде нули, кроме нужного таргета - там единица)\n",
        "            p_true = torch.zeros(size=(loader.batch_size, num_classes), device=device) # заготовка под вероятности (пока заполнена нулями)\n",
        "            for batch, t in enumerate(target): # идём по батчу (нескольким сэмплам), t - id правильного таргета\n",
        "                p_true[batch][t] = 1.0 # ставим вероятность 1 у нужных таргетов (для всех элементов в батче)\n",
        "#================= data preprocessor and model specific code\n",
        "            data[\"pixel_values\"] = data[\"pixel_values\"][:,0].to(device) # dataloader засовывает тензоры в словаре ещё в один список (получая shape [batch_size, 1, Channels, Height, Width]), поэтому просто достаём их из этого списка — пропуская размерность 1 с помощью [:,0] (и отправляем на девайс)\n",
        "            p_pred = model(**data) # вызываем forward pass модели (предсказываем - preds это список с вероятностями классов)\n",
        "            p_pred = p_pred.logits # logits — тензор с вероятностями классов в рассматриваемой модели\n",
        "#=================\n",
        "\n",
        "            loss = loss_func(p_pred, p_true) # считаем loss модели\n",
        "            losses[epoch] += loss/len(loader) # добавляем посчитанный на батче loss (делённый на len(loader) - число батчей, для усреднения)\n",
        "\n",
        "            optimizer.zero_grad() # обнуляем градиенты во всех обучаемых torch.Tensor (ставит w.grad = 0 в torch.Tensor с requires_grad=True) (вызывается перед loss.backward(), чтобы не аккумулировать градиенты за несколько итераций обучения)\n",
        "            loss.backward() # считаем dloss/dw для каждого веса модели w, у которого requires_grad=True (сохраняется в w.grad следующим образом w.grad += dloss/dw)\n",
        "            optimizer.step() # обновляет веса модели (тензоры, у которых стоит флаг requires_grad=True, используя значение из w.grad следующим образом w += -lr * w.grad)\n",
        "        print(f\"loss on epoch {epoch+1}:\\t {losses[epoch]}\")\n",
        "    return losses"
      ]
    },
    {
      "cell_type": "markdown",
      "metadata": {
        "id": "BjLZmKy2yDer"
      },
      "source": [
        "Для решения проблемы дисбаланса классов — урежим число элементов в датасете с классом \"background\" (**Undersampling the majority class**)."
      ]
    },
    {
      "cell_type": "markdown",
      "metadata": {
        "id": "Y9ne0_XU0pIJ"
      },
      "source": [
        "### Данные"
      ]
    },
    {
      "cell_type": "code",
      "execution_count": 14,
      "metadata": {
        "colab": {
          "base_uri": "https://localhost:8080/"
        },
        "id": "-aB6akOZyDes",
        "outputId": "e0a0a287-f5ba-4cfc-856a-a5432ea414b8"
      },
      "outputs": [
        {
          "name": "stdout",
          "output_type": "stream",
          "text": [
            "Files already downloaded and verified\n"
          ]
        }
      ],
      "source": [
        "# датасет для обучения\n",
        "data_train = torchvision.datasets.CIFAR100(root=data_path, # путь, откуда брать/куда сохранять датасет\n",
        "                                           train=True, # какую часть датасета использовать (обучающая)\n",
        "                                           download=True, # скачивать ли датасет, если его нет в root пути\n",
        "                                           transform=feature_extractor # функция, принимающая на вход PIL Image и преобразовывающая его\n",
        "                                          )"
      ]
    },
    {
      "cell_type": "code",
      "execution_count": 15,
      "metadata": {
        "colab": {
          "base_uri": "https://localhost:8080/"
        },
        "id": "Ak3PScPJyDes",
        "outputId": "cc643489-688f-4f64-eebb-12383b7365dc"
      },
      "outputs": [
        {
          "name": "stderr",
          "output_type": "stream",
          "text": [
            "50000it [08:00, 104.04it/s]\n"
          ]
        }
      ],
      "source": [
        "samples_with_background = [] # индексы элементов с классом background () (их будет ~ 40000)\n",
        "samples_with_bicycle_and_motorcycle = [] # индексы элементов с классом bicycle или motorcycle (их будет равное количество ~ 500 каждого)\n",
        "for i, sample in tqdm(enumerate(data_train)): # идём по всем сэмплам\n",
        "    if sample[1] == 8 or sample[1] == 48: # если они из интересующих нас классов\n",
        "        samples_with_bicycle_and_motorcycle.append(i) # записываем номер сэмпла в список с классами bicycle и motorcycle\n",
        "    else: # если же их класс нас не сильно интересует\n",
        "        samples_with_background.append(i) # записываем в список с background"
      ]
    },
    {
      "cell_type": "code",
      "execution_count": 20,
      "metadata": {
        "id": "pL25S6pUy5rQ"
      },
      "outputs": [],
      "source": [
        "data_train_ = [] # заготавливаем пустой список под датасет (будет по 500 сэмплов для каждого из трёх классов - bicycle, motorcycle, background)\n",
        "\n",
        "for i in samples_with_bicycle_and_motorcycle: # идём по индексам данных с интересующими классами\n",
        "    data_train_.append(data_train[i]) # копируем их (все) в \"новый\" датасет\n",
        "\n",
        "for i in random.sample(samples_with_background, 500): # случайным образом выбираем индексы элементов класса \"background\", что будут использованы для обучения (выбираем 500, чтобы в итоге пропорции классов были одинаковыми)\n",
        "    data_train_.append(data_train[i]) # добавляем элементы класса \"background\" в обучающий датасет\n",
        "\n",
        "data_train = data_train_ # заменяем полный датасет на урезанный, но сбалансированный"
      ]
    },
    {
      "cell_type": "code",
      "execution_count": 24,
      "metadata": {
        "id": "wRky58-E44PQ"
      },
      "outputs": [],
      "source": [
        "# конвертация таргетов\n",
        "for i, (data, target) in enumerate(data_train): # идём по элементам в датасете\n",
        "    if target == 8: # bicycle из 8-го таргета становится 0-м\n",
        "        data_train[i] = (data_train[i][0], 0)\n",
        "    elif target == 48: # motorcycle из 48-го таргета становится 1-м\n",
        "        data_train[i] = (data_train[i][0], 1)\n",
        "    else: # всё остальное становится 2-м\n",
        "        data_train[i] = (data_train[i][0], 2)"
      ]
    },
    {
      "cell_type": "code",
      "execution_count": 28,
      "metadata": {
        "id": "jrJNy8yJ2q1k"
      },
      "outputs": [],
      "source": [
        "# with open(data_path+\"data_train_processed.pkl\", 'wb') as f: # открытие файла для записи (b - бинарной)\n",
        "#     pickle.dump(data_train, f) # сохранение обработанного обучающего датасета"
      ]
    },
    {
      "cell_type": "code",
      "execution_count": 100,
      "metadata": {
        "id": "317AkIPX3rzl"
      },
      "outputs": [],
      "source": [
        "with open(data_path+\"data_train_processed.pkl\", 'rb') as f: # открываем файл для чтения (b - бинарной)\n",
        "    data_train = pickle.load(f) # загружаем данные из файла"
      ]
    },
    {
      "cell_type": "code",
      "execution_count": 101,
      "metadata": {
        "id": "fG62Bi6oyDet"
      },
      "outputs": [],
      "source": [
        "# загрузчик данных для обучения\n",
        "loader_train = torch.utils.data.DataLoader(dataset=data_train, # указание датасета для DataLoader\n",
        "                                           batch_size=20, # размер батчка (число сэмплов, что будет возвращать DataLoader за раз) (градиент усредняется по батчу, ускоряется обработка датасета, но слегка замедляется обработка сэмпла)\n",
        "                                           shuffle=True, # перемешивать ли датасет\n",
        "                                           num_workers=2, # число используемых ядер процессора для ускорения обработки данных\n",
        "                                           pin_memory=True # нужно ли заранее аллоцировать память под объект на GPU (лучше так, чем возвращать CUDA tensors при multi-process loading)\n",
        "                                          )"
      ]
    },
    {
      "cell_type": "markdown",
      "metadata": {
        "id": "BGrJuj9m0q6e"
      },
      "source": [
        "### Модель"
      ]
    },
    {
      "cell_type": "code",
      "execution_count": 102,
      "metadata": {
        "id": "IyVY-vPtWFEC"
      },
      "outputs": [],
      "source": [
        "model = torch.load(models_path+\"model_downloaded.pth\") # загружаем сохранённую модель"
      ]
    },
    {
      "cell_type": "code",
      "execution_count": 103,
      "metadata": {
        "id": "uUcVhBXZWFEC"
      },
      "outputs": [],
      "source": [
        "model.classifier = torch.nn.Linear(in_features=768, out_features=3, bias=True) # меняем голову модели под задачу"
      ]
    },
    {
      "cell_type": "code",
      "execution_count": 104,
      "metadata": {
        "colab": {
          "base_uri": "https://localhost:8080/"
        },
        "id": "Se9EMPSvWFEC",
        "outputId": "46235db5-da31-41f7-e9b3-b2ffaeaabd24"
      },
      "outputs": [
        {
          "data": {
            "text/plain": [
              "ViTForImageClassification(\n",
              "  (vit): ViTModel(\n",
              "    (embeddings): ViTEmbeddings(\n",
              "      (patch_embeddings): ViTPatchEmbeddings(\n",
              "        (projection): Conv2d(3, 768, kernel_size=(16, 16), stride=(16, 16))\n",
              "      )\n",
              "      (dropout): Dropout(p=0.0, inplace=False)\n",
              "    )\n",
              "    (encoder): ViTEncoder(\n",
              "      (layer): ModuleList(\n",
              "        (0-11): 12 x ViTLayer(\n",
              "          (attention): ViTAttention(\n",
              "            (attention): ViTSelfAttention(\n",
              "              (query): Linear(in_features=768, out_features=768, bias=True)\n",
              "              (key): Linear(in_features=768, out_features=768, bias=True)\n",
              "              (value): Linear(in_features=768, out_features=768, bias=True)\n",
              "              (dropout): Dropout(p=0.0, inplace=False)\n",
              "            )\n",
              "            (output): ViTSelfOutput(\n",
              "              (dense): Linear(in_features=768, out_features=768, bias=True)\n",
              "              (dropout): Dropout(p=0.0, inplace=False)\n",
              "            )\n",
              "          )\n",
              "          (intermediate): ViTIntermediate(\n",
              "            (dense): Linear(in_features=768, out_features=3072, bias=True)\n",
              "            (intermediate_act_fn): GELUActivation()\n",
              "          )\n",
              "          (output): ViTOutput(\n",
              "            (dense): Linear(in_features=3072, out_features=768, bias=True)\n",
              "            (dropout): Dropout(p=0.0, inplace=False)\n",
              "          )\n",
              "          (layernorm_before): LayerNorm((768,), eps=1e-12, elementwise_affine=True)\n",
              "          (layernorm_after): LayerNorm((768,), eps=1e-12, elementwise_affine=True)\n",
              "        )\n",
              "      )\n",
              "    )\n",
              "    (layernorm): LayerNorm((768,), eps=1e-12, elementwise_affine=True)\n",
              "  )\n",
              "  (classifier): Linear(in_features=768, out_features=3, bias=True)\n",
              ")"
            ]
          },
          "execution_count": 104,
          "metadata": {},
          "output_type": "execute_result"
        }
      ],
      "source": [
        "model # вывод нового строения модели"
      ]
    },
    {
      "cell_type": "markdown",
      "metadata": {
        "id": "T3mB3a9rWFED"
      },
      "source": [
        "### Loss function"
      ]
    },
    {
      "cell_type": "code",
      "execution_count": 17,
      "metadata": {
        "id": "6zglDvmNWFEE"
      },
      "outputs": [],
      "source": [
        "# Как вариант (неудачный) решения проблемы дисбаланса классов — увеличим вес нужных классов при подсчёте loss функции, чтобы ошибка в них сильнее отзывалась в модели. Например — увеличим их вес в 5 раз по отношению к классу \"Background\".\n",
        "# loss_weights = torch.ones(size=(3,), device=device, dtype=dtype) # вектор с весами для\n",
        "# loss_weights[0] = 20.0\n",
        "# loss_weights[1] = 20.0\n",
        "# loss_weights"
      ]
    },
    {
      "cell_type": "code",
      "execution_count": 105,
      "metadata": {
        "id": "ILs_KLlCWFEE"
      },
      "outputs": [],
      "source": [
        "# loss_function = torch.nn.CrossEntropyLoss(weight=loss_weights, reduction='sum') # создаём функцию для подсчёта loss с указанием \"особых\" весов классов (reduction='mean' — усреднение loss по классам с учётом весов)\n",
        "loss_function = torch.nn.CrossEntropyLoss(reduction='mean') # создаём функцию для подсчёта loss с указанием \"особых\" весов классов (reduction='mean' — усреднение loss по классам с учётом весов)\n",
        "# loss - кросс-энтропия (перекрёстная энтропия)\n",
        "# CrossEntropyLoss на вход ожидает вероятность класса для всех k классов\n",
        "# то есть массив с вероятностями для каждой из четырёх категорий новостей"
      ]
    },
    {
      "cell_type": "markdown",
      "metadata": {
        "id": "nLUjnN1AWFEE"
      },
      "source": [
        "### Optimizer"
      ]
    },
    {
      "cell_type": "code",
      "execution_count": 106,
      "metadata": {
        "id": "vo2Bdu4NWFEE"
      },
      "outputs": [],
      "source": [
        "optimizer = torch.optim.Adam(model.parameters(), lr=learning_rate) # оптимизатор для обучения"
      ]
    },
    {
      "cell_type": "markdown",
      "metadata": {
        "id": "6b69uTii4hqj"
      },
      "source": [
        "### Training"
      ]
    },
    {
      "cell_type": "code",
      "execution_count": 107,
      "metadata": {
        "colab": {
          "base_uri": "https://localhost:8080/"
        },
        "id": "3EBTd1IhWFEF",
        "outputId": "20670cbc-1d89-4f93-af77-95af1f224a90"
      },
      "outputs": [
        {
          "name": "stdout",
          "output_type": "stream",
          "text": [
            "loss on epoch 1:\t 0.22003088891506195\n",
            "loss on epoch 2:\t 0.060158055275678635\n",
            "loss on epoch 3:\t 0.0562443807721138\n",
            "loss on epoch 4:\t 0.017192140221595764\n",
            "loss on epoch 5:\t 0.012705035507678986\n"
          ]
        }
      ],
      "source": [
        "losses = model_train(model=model, # передаём модель в обучение\n",
        "                     epochs=epochs, # передаём число эпох обучения\n",
        "                     loader=loader_train, # передаём загрузчик данных\n",
        "                     loss_func=loss_function, # передаём функция для подсчёта ошибки\n",
        "                     optimizer=optimizer, # передаём оптимизатор обучения\n",
        "                     num_classes=num_classes, # передаём число классов\n",
        "                     device=device # передаём, на каком устройстве будет выполнение\n",
        "                    )"
      ]
    },
    {
      "cell_type": "code",
      "execution_count": 109,
      "metadata": {
        "id": "9NFP-wkwWFEF"
      },
      "outputs": [],
      "source": [
        "for i in range(epochs): # идём по числу эпох\n",
        "    losses[i] = losses[i].detach().to(\"cpu\") # возвращаем loss на cpu и убираем requires grad\n",
        "\n",
        "# сохранение посчитанного loss\n",
        "with open(loss_path+\"loss_finetuned.pkl\", 'wb') as f: # открытие файла для записи (b - бинарной)\n",
        "    pickle.dump(losses, f) # сохранение значения loss"
      ]
    },
    {
      "cell_type": "markdown",
      "metadata": {
        "id": "jYlT4pVNWFEG"
      },
      "source": [
        "# 2) Анализ результатов"
      ]
    },
    {
      "cell_type": "code",
      "execution_count": 110,
      "metadata": {
        "colab": {
          "base_uri": "https://localhost:8080/",
          "height": 872
        },
        "id": "y7UvU-V6WFEF",
        "outputId": "5eff4aac-4594-42bb-c5ed-c07725f82ceb"
      },
      "outputs": [
        {
          "data": {
            "image/png": "[encoded data removed]",
            "text/plain": [
              "<Figure size 1000x1000 with 1 Axes>"
            ]
          },
          "metadata": {},
          "output_type": "display_data"
        }
      ],
      "source": [
        "plt.figure(figsize=(10,10)) # размер графика\n",
        "plt.title(\"Изменение Cross-Entropy Loss в зависимости от эпохи обучения\") # название графика\n",
        "plt.plot(range(1, epochs+1), losses, label=\"Cross-Entropy Loss\") # построение графика, где range(1, epochs+1) — рассматриваемые значения x, losses — отображаемые значения, label — названия графика\n",
        "plt.xlabel(\"Эпоха\") # подпись по оси x\n",
        "plt.ylabel(\"Значение loss функции\") # подпись по оси y\n",
        "plt.legend() # вывод названий графиков\n",
        "plt.show() # вывод графика"
      ]
    },
    {
      "cell_type": "markdown",
      "metadata": {
        "id": "ssrDa5b8WFEG"
      },
      "source": [
        "**Модель обучилась, сохраним!**"
      ]
    },
    {
      "cell_type": "code",
      "execution_count": 111,
      "metadata": {
        "id": "wPKq2-UkWFEG"
      },
      "outputs": [],
      "source": [
        "model.to(\"cpu\") # возвращаем модель на cpu\n",
        "# torch.save(model.state_dict(), models_path+\"model_finetuned_state_dict.pth\") # сохраняем state_dict обученной модели в файл model_finetuned_state_dict.pth, что лежит по пути models_path\n",
        "# torch.save(model, models_path+\"model_finetuned.pth\") # сохраняем саму модель, потому что ViTForImageClassification требует config для создания"
      ]
    },
    {
      "cell_type": "markdown",
      "metadata": {
        "id": "p-kXSvXzB1kq"
      },
      "source": [
        "### Пересоздадим датасет и loader для теста с использованием только трёх таргетов"
      ]
    },
    {
      "cell_type": "code",
      "execution_count": 7,
      "metadata": {
        "colab": {
          "base_uri": "https://localhost:8080/"
        },
        "id": "4P7ucTg7FARX",
        "outputId": "84d236a5-8fb0-4b5d-9ad5-e8421895ae46"
      },
      "outputs": [
        {
          "name": "stdout",
          "output_type": "stream",
          "text": [
            "Files already downloaded and verified\n"
          ]
        }
      ],
      "source": [
        "# датасет для тестирования\n",
        "data_test = torchvision.datasets.CIFAR100(root=data_path, # путь, откуда брать/куда сохранять датасет\n",
        "                                          train=False, # какую часть датасета использовать (тестовая)\n",
        "                                          download=True, # скачивать ли датасет, если его нет в root пути\n",
        "                                          transform=feature_extractor # функция, принимающая на вход PIL Image и преобразовывающая его\n",
        "                                         )"
      ]
    },
    {
      "cell_type": "code",
      "execution_count": 8,
      "metadata": {
        "colab": {
          "base_uri": "https://localhost:8080/"
        },
        "id": "H6mhwCRbBxvq",
        "outputId": "c0b844b9-53c5-4cb7-f0c5-da7b1d9c969a"
      },
      "outputs": [
        {
          "name": "stderr",
          "output_type": "stream",
          "text": [
            "10000it [05:31, 30.20it/s]\n"
          ]
        }
      ],
      "source": [
        "data_test_ = [] # заготавливаем пустой список под датасет\n",
        "\n",
        "for i, (data, target) in tqdm(enumerate(data_test)):\n",
        "    if target == 8: # bicycle из 8-го таргета становится 0-м\n",
        "        data_test_.append((data_test[i][0], 0))\n",
        "    elif target == 48: # motorcycle из 48-го таргета становится 1-м\n",
        "        data_test_.append((data_test[i][0], 1))\n",
        "    else: # всё остальное становится 2-м\n",
        "        data_test_.append((data_test[i][0], 2))\n",
        "\n",
        "data_test = data_test_ # заменяем полный датасет на урезанный, но сбалансированный"
      ]
    },
    {
      "cell_type": "code",
      "execution_count": 9,
      "metadata": {
        "id": "iKALLj67DdDS"
      },
      "outputs": [],
      "source": [
        "# with open(data_path+\"data_test_processed.pkl\", 'wb') as f: # открытие файла для записи (b - бинарной)\n",
        "#     pickle.dump(data_test, f) # сохранение обработанного обучающего датасета"
      ]
    },
    {
      "cell_type": "code",
      "execution_count": 222,
      "metadata": {
        "id": "8ObVIH9qDi-4"
      },
      "outputs": [],
      "source": [
        "with open(data_path+\"data_test_processed.pkl\", 'rb') as f: # открываем файл для чтения (b - бинарной)\n",
        "    data_test = pickle.load(f) # загружаем данные из файла"
      ]
    },
    {
      "cell_type": "code",
      "execution_count": 5,
      "metadata": {
        "id": "abCKMIrWDrAS"
      },
      "outputs": [],
      "source": [
        "# загрузчик данных для тестирования\n",
        "loader_test = torch.utils.data.DataLoader(dataset=data_test, # указание датасета для DataLoader\n",
        "                                          batch_size=20, # размер батчка (число сэмплов, что будет возвращать DataLoader за раз) (градиент усредняется по батчу, ускоряется обработка датасета, но слегка замедляется обработка сэмпла)\n",
        "                                          shuffle=True, # перемешивать ли датасет\n",
        "                                          num_workers=2, # число используемых ядер процессора для ускорения обработки данных\n",
        "                                          pin_memory=True # нужно ли заранее аллоцировать память под объект на GPU (лучше так, чем возвращать CUDA tensors при multi-process loading)\n",
        "                                         )"
      ]
    },
    {
      "cell_type": "markdown",
      "metadata": {
        "id": "gtrzrwTDFwio"
      },
      "source": [
        "### Оцениваем дообученную модель"
      ]
    },
    {
      "cell_type": "code",
      "execution_count": 6,
      "metadata": {
        "id": "HL0pSj7yFjvb"
      },
      "outputs": [],
      "source": [
        "model = torch.load(models_path+\"model_finetuned.pth\") # загружаем сохранённую модель"
      ]
    },
    {
      "cell_type": "code",
      "execution_count": 7,
      "metadata": {},
      "outputs": [],
      "source": [
        "labels_true, labels_pred = model_predict(model=model, loader=loader_test, device=device, finetuned=True) # получаем предсказания модели и настоящие таргеты"
      ]
    },
    {
      "cell_type": "code",
      "execution_count": 8,
      "metadata": {
        "colab": {
          "base_uri": "https://localhost:8080/",
          "height": 338
        },
        "id": "OIOTutOHWFEG",
        "outputId": "b7fc3cba-762d-4032-d818-7e8ee12d15da"
      },
      "outputs": [],
      "source": [
        "confusion_matrix_finetuned = confusion_matrix(y_true=labels_true, y_pred=labels_pred) # считаем confusion matrix для трёх классов на fine-tuned модели"
      ]
    },
    {
      "cell_type": "code",
      "execution_count": 9,
      "metadata": {
        "id": "Q3ORQ8IOWFEH"
      },
      "outputs": [
        {
          "data": {
            "text/plain": [
              "<sklearn.metrics._plot.confusion_matrix.ConfusionMatrixDisplay at 0x282e903f4c0>"
            ]
          },
          "execution_count": 9,
          "metadata": {},
          "output_type": "execute_result"
        },
        {
          "data": {
            "image/png": "[encoded data removed]",
            "text/plain": [
              "<Figure size 432x288 with 2 Axes>"
            ]
          },
          "metadata": {
            "needs_background": "light"
          },
          "output_type": "display_data"
        }
      ],
      "source": [
        "ConfusionMatrixDisplay(confusion_matrix=confusion_matrix_finetuned, display_labels=[\"Bicycle\", \"Motorcycle\", \"Background\"]).plot() # вывод Confusion Matrix"
      ]
    },
    {
      "cell_type": "markdown",
      "metadata": {},
      "source": [
        "* Модель правильно предсказала все Bicycle!\n",
        "* Motorcycle был спутан лишь трижды с классом Bicycle.\n",
        "* Background в основной своей массе был предсказан правильно, на совпадение с классами Bicycle и Motorcycle может свидетельствовать малое количество объектов в обучающей выборке (не покрывающее все возможные классы изначального датасета)."
      ]
    },
    {
      "cell_type": "markdown",
      "metadata": {},
      "source": [
        "# Замерим некоторые её метрики"
      ]
    },
    {
      "cell_type": "code",
      "execution_count": 21,
      "metadata": {},
      "outputs": [],
      "source": [
        "def model_evaluate(labels_true, labels_pred) -> dict:\n",
        "    \"\"\"\n",
        "    Функция для подсчёта метрик модели.\\n\n",
        "    Parameters:\n",
        "        * labels_true: настоящие таргеты\n",
        "        * labels_pred: предсказанные моделью таргеты \\n\n",
        "    Returns:\n",
        "        * dict: словарь с посчитанными метриками\n",
        "    \"\"\"\n",
        "    metrics = {} # словарь под метрики\n",
        "    metrics[\"precision\"] = precision_score(y_true=labels_true, y_pred=labels_pred, average=\"weighted\") # average=\"weighted\" — считаем метрику для каждого класса и усредняем в зависимости от количества объектов в нём\n",
        "    metrics[\"recall\"] = recall_score(y_true=labels_true, y_pred=labels_pred, average=\"weighted\") # average=\"weighted\" — считаем метрику для каждого класса и усредняем в зависимости от количества объектов в нём\n",
        "    metrics[\"f1\"] = f1_score(y_true=labels_true, y_pred=labels_pred, average=\"weighted\") # average=\"weighted\" — считаем метрику для каждого класса и усредняем в зависимости от количества объектов в нём\n",
        "    metrics[\"accuracy\"] = accuracy_score(y_true=labels_true, y_pred=labels_pred) # считаем точность как отношение правильных предсказаний ко всем предсказаниям (глобальная)\n",
        "\n",
        "    for metric in metrics.keys(): # идём по названиям метрик\n",
        "        print(f\"Метрика '{metric}': {metrics[metric]}\") # выводим посчитанные значения\n",
        "\n",
        "    return metrics # возвращаем словарь с метриками"
      ]
    },
    {
      "cell_type": "code",
      "execution_count": 22,
      "metadata": {},
      "outputs": [
        {
          "name": "stdout",
          "output_type": "stream",
          "text": [
            "Метрика 'precision': 0.9920148809523809\n",
            "Метрика 'recall': 0.9869\n",
            "Метрика 'f1': 0.9884821543631317\n",
            "Метрика 'accuracy': 0.9869\n"
          ]
        }
      ],
      "source": [
        "_ = model_evaluate(labels_true=labels_true, labels_pred=labels_pred) # считаем основные метрики"
      ]
    },
    {
      "cell_type": "markdown",
      "metadata": {},
      "source": [
        "По метрикам и матрице ошибок можно сказать, что модель получилась качественная и ошибка для классов у неё составляет ~ 1-3%.\n",
        "\n",
        "*Ошибка для background может показаться высокой, но на самом деле она составляет все те же проценты, просто объектов такого класса было значительно больше в тестовом датасете.*"
      ]
    },
    {
      "cell_type": "markdown",
      "metadata": {
        "id": "VH9AGD5qWFEH"
      },
      "source": [
        "# 3) Сравнение производительности"
      ]
    },
    {
      "cell_type": "code",
      "execution_count": null,
      "metadata": {},
      "outputs": [],
      "source": [
        "model = torch.load(models_path+\"model_finetuned.pth\") # загружаем сохранённую модель\n",
        "model.eval() # перевод модель в режим оценивания (dropout перестаёт работать, а BatchNorm собирать статистику)"
      ]
    },
    {
      "cell_type": "code",
      "execution_count": 41,
      "metadata": {},
      "outputs": [
        {
          "data": {
            "text/plain": [
              "torch.float32"
            ]
          },
          "execution_count": 41,
          "metadata": {},
          "output_type": "execute_result"
        }
      ],
      "source": [
        "model.dtype # вывод типа данных модели (может не совпадать с типами в слоях)"
      ]
    },
    {
      "cell_type": "code",
      "execution_count": 42,
      "metadata": {},
      "outputs": [],
      "source": [
        "times = {} # словарь под время инференса модели\n",
        "\n",
        "input = torch.randn(size=(1, 3, 224, 224), dtype=dtype) # генерируем случайные входные данные, что будем подавать модели"
      ]
    },
    {
      "cell_type": "markdown",
      "metadata": {},
      "source": [
        "## PyTorch"
      ]
    },
    {
      "cell_type": "markdown",
      "metadata": {},
      "source": [
        "### cpu"
      ]
    },
    {
      "cell_type": "code",
      "execution_count": 48,
      "metadata": {},
      "outputs": [],
      "source": [
        "model.to(\"cpu\") # отправляем модель на cpu\n",
        "input = input.to(\"cpu\") # отправляем данные на cpu\n",
        "\n",
        "time_start = time.perf_counter() # замеряем время старта\n",
        "for _ in range(runs): # делаем runs запусков\n",
        "    with torch.no_grad(): # без подсчёта градиентов\n",
        "        model(input) # запускаем модель\n",
        "times[\"PyTorch with CPU\"] = (time.perf_counter() - time_start) / runs # сохраняем среднее время работы модели на инференсе как (текущее_время - время_старта)/число_запусков"
      ]
    },
    {
      "cell_type": "markdown",
      "metadata": {},
      "source": [
        "### cuda"
      ]
    },
    {
      "cell_type": "code",
      "execution_count": 51,
      "metadata": {},
      "outputs": [],
      "source": [
        "model.to(\"cuda:0\") # отправляем модель на cuda\n",
        "input = input.to(\"cuda:0\") # отправляем данные на cuda\n",
        "\n",
        "time_start = time.perf_counter() # замеряем время старта\n",
        "for _ in range(runs): # делаем runs запусков\n",
        "    with torch.no_grad(): # без подсчёта градиентов\n",
        "        model(input) # запускаем модель\n",
        "times[\"PyTorch with CUDA\"] = (time.perf_counter() - time_start) / runs # сохраняем среднее время работы модели на инференсе как (текущее_время - время_старта)/число_запусков"
      ]
    },
    {
      "cell_type": "markdown",
      "metadata": {},
      "source": [
        "## ONNX Runtime"
      ]
    },
    {
      "cell_type": "code",
      "execution_count": 61,
      "metadata": {
        "id": "ZW4UnQVQWFEH"
      },
      "outputs": [
        {
          "name": "stderr",
          "output_type": "stream",
          "text": [
            "c:\\Users\\User\\anaconda3\\envs\\gpu\\lib\\site-packages\\transformers\\models\\vit\\modeling_vit.py:170: TracerWarning: Converting a tensor to a Python boolean might cause the trace to be incorrect. We can't record the data flow of Python values, so this value will be treated as a constant in the future. This means that the trace might not generalize to other inputs!\n",
            "  if num_channels != self.num_channels:\n",
            "c:\\Users\\User\\anaconda3\\envs\\gpu\\lib\\site-packages\\transformers\\models\\vit\\modeling_vit.py:176: TracerWarning: Converting a tensor to a Python boolean might cause the trace to be incorrect. We can't record the data flow of Python values, so this value will be treated as a constant in the future. This means that the trace might not generalize to other inputs!\n",
            "  if height != self.image_size[0] or width != self.image_size[1]:\n"
          ]
        }
      ],
      "source": [
        "# экспортируем модель\n",
        "torch.onnx.export(model.to(\"cpu\"), # экспортируемая модель\n",
        "                  input.to(\"cpu\"), # вход для модели (or a tuple for multiple inputs)\n",
        "                  models_path+\"model_finetuned_onnx.onnx\", # where to save the model (can be a file or file-like object)\n",
        "                  export_params=True, # сохранять ли обученные веса модели в файл с моделью\n",
        "                  opset_version=10, # версия ONNX в которую экспортируется модель\n",
        "                  do_constant_folding=True,  # выполнять ли постоянное свертывание для оптимизации (whether to execute constant folding for optimization)\n",
        "                  input_names = ['input'],   # имя для входа модели (the model's input names)\n",
        "                  output_names = ['output'], # имя для выхода модели (the model's output names)\n",
        "                  dynamic_axes = {'input' : {0 : 'batch_size'}, # оси переменной длины (variable length axes) (с константными моделе работать проще)\n",
        "                                  'output' : {0 : 'batch_size'}} # первая (нулевая) ось изменяемая — размер батча\n",
        "                 )\n",
        "\n",
        "session = onnxruntime.InferenceSession(models_path+\"model_finetuned_onnx.onnx\") # создание onnxruntime сессии для инференса модели\n",
        "input_np = input.to(\"cpu\").numpy() # возвращаем input на cpu и переводим из тензора в numpy.array, так как onnx не работает с tensor\n",
        "\n",
        "time_start = time.perf_counter() # замеряем время старта\n",
        "for _ in range(runs): # делаем runs запусков\n",
        "    with torch.no_grad(): # без подсчёта градиентов\n",
        "        session.run(None, {\"input\": input_np}) # запускаем модель в ONNX Runtime \n",
        "times[\"ONNX Runtime\"] = (time.perf_counter() - time_start) / runs # сохраняем среднее время работы модели на инференсе как (текущее_время - время_старта)/число_запусков"
      ]
    },
    {
      "cell_type": "markdown",
      "metadata": {},
      "source": [
        "## OpenVINO"
      ]
    },
    {
      "cell_type": "code",
      "execution_count": null,
      "metadata": {},
      "outputs": [],
      "source": [
        "core = ov.Core() # создаём ядро для компиляции модели\n",
        "\n",
        "model.to(\"cpu\") # переносим модель на cpu\n",
        "model_ov = ov.tools.mo.convert_model(model, example_input=torch.randn(1, 3, 224, 224)) # конвертируем модель из PyTorch в OpenVINO (с указанием примера входа для модели)\n",
        "model_ov = core.compile_model(model=model_ov, device_name=\"CPU\") # компилирует модель для cpu\n",
        "input_layer = model_ov.input(0) # входной слой <ConstOutput: names[pixel_values] shape[?,?,?,?] type: f32>\n",
        "output_layer = model_ov.output(0) # выходной слой <ConstOutput: names[logits, 680] shape[?,3] type: f32>\n",
        "\n",
        "time_start = time.perf_counter() # замеряем время старта\n",
        "for _ in range(runs): # делаем runs запусков\n",
        "    with torch.no_grad(): # без подсчёта градиентов\n",
        "        model_ov(input)[output_layer] # запускаем модель\n",
        "times[\"OpenVINO\"] = (time.perf_counter() - time_start) / runs # сохраняем среднее время работы модели на инференсе как (текущее_время - время_старта)/число_запусков"
      ]
    },
    {
      "cell_type": "markdown",
      "metadata": {},
      "source": [
        "**А остальные runtime-ы не хотят запускаться с этой моделью: Keras ругается на root scope name, index, onnx optimizer или shape в различных слояк; TensorRT просто не ставится с ошибкой при Building wheel for tensorrt...**"
      ]
    },
    {
      "cell_type": "code",
      "execution_count": 204,
      "metadata": {},
      "outputs": [
        {
          "name": "stdout",
          "output_type": "stream",
          "text": [
            "Время инференса на 'PyTorch with CUDA': 0.04180308599999989\n",
            "Время инференса на 'OpenVINO': 0.42615925799000026\n",
            "Время инференса на 'ONNX Runtime': 0.48944951200000103\n",
            "Время инференса на 'PyTorch with CPU': 0.5578315340000063\n"
          ]
        }
      ],
      "source": [
        "times = sorted(times.items(), key=lambda item: item[1]) # сортируем по увеличению времени\n",
        "times = {k: v for k, v in times} # возвращаем список tuple в словарь\n",
        "\n",
        "for runtime in times.keys(): # идём по рассмотренным runtime-ам\n",
        "    print(f\"Время инференса на '{runtime}': {times[runtime]}\") # выводим их время"
      ]
    },
    {
      "cell_type": "markdown",
      "metadata": {},
      "source": [
        "* Быстрее всего модель сработала на PyTorch с запуском на CUDA.\n",
        "* На втором месте OpenVINO с сильным отставанием.\n",
        "* На третьем и четвёртом — ONNX Runtime с PyTorch with CPU, но отставание по времени у них от второго места не сильное."
      ]
    },
    {
      "cell_type": "markdown",
      "metadata": {
        "id": "MxtpDFKoWFEH"
      },
      "source": [
        "# 4) Манипуляция с весами"
      ]
    },
    {
      "cell_type": "markdown",
      "metadata": {},
      "source": [
        "### Сконвертируем изображение в grayscale"
      ]
    },
    {
      "cell_type": "code",
      "execution_count": 186,
      "metadata": {},
      "outputs": [
        {
          "data": {
            "text/plain": [
              "torch.Size([1, 3, 224, 224])"
            ]
          },
          "execution_count": 186,
          "metadata": {},
          "output_type": "execute_result"
        }
      ],
      "source": [
        "data_test[0][0][\"pixel_values\"].shape # размерность одного обучающего сэмпла (batch_size, Channels, Height, Width)"
      ]
    },
    {
      "cell_type": "code",
      "execution_count": 187,
      "metadata": {},
      "outputs": [
        {
          "name": "stderr",
          "output_type": "stream",
          "text": [
            "WARNING:matplotlib.image:Clipping input data to the valid range for imshow with RGB data ([0..1] for floats or [0..255] for integers).\n"
          ]
        },
        {
          "data": {
            "image/png": "[encoded data removed]",
            "text/plain": [
              "<Figure size 432x288 with 1 Axes>"
            ]
          },
          "metadata": {
            "needs_background": "light"
          },
          "output_type": "display_data"
        }
      ],
      "source": [
        "rgb_image = data_test[9][0][\"pixel_values\"][0] # берём картинку (тензор)\n",
        "# [9] - номер сэмпла в датасете\n",
        "# [0] — взятие данных о картинке (а не её таргета)\n",
        "# [\"pixel_values\"] — берём значение пикелей (вообще, от pixel_values можно было давно избавиться и работать только с массивами, без словаря, специфичного этой модели)\n",
        "# [0] — берём/пропускаем ось батча\n",
        "\n",
        "plt.imshow(rgb_image.permute(1, 2, 0)) # permute(1, 2, 0) меняет местами размерности, на первое место выходит Height, второе — Width, третье — Channels, так как shape(3, 32, 32) ~ (Channels, Height, Width) не воспринимается\n",
        "plt.show() # вывод изображения"
      ]
    },
    {
      "cell_type": "code",
      "execution_count": 193,
      "metadata": {},
      "outputs": [
        {
          "data": {
            "text/plain": [
              "tensor([[[0.4153, 0.4153, 0.4153,  ..., 0.4176, 0.4176, 0.4176],\n",
              "         [0.4153, 0.4153, 0.4153,  ..., 0.4176, 0.4176, 0.4176],\n",
              "         [0.4153, 0.4153, 0.4153,  ..., 0.4176, 0.4176, 0.4176],\n",
              "         ...,\n",
              "         [0.4786, 0.4786, 0.4786,  ..., 0.4431, 0.4431, 0.4431],\n",
              "         [0.4786, 0.4786, 0.4786,  ..., 0.4431, 0.4431, 0.4431],\n",
              "         [0.4786, 0.4786, 0.4786,  ..., 0.4431, 0.4431, 0.4431]]])"
            ]
          },
          "execution_count": 193,
          "metadata": {},
          "output_type": "execute_result"
        }
      ],
      "source": [
        "gray_image = torchvision.transforms.functional.rgb_to_grayscale(rgb_image) # конвертируем изображение в grayscale\n",
        "# 0.299∙Red + 0.587∙Green + 0.114∙Blue\n",
        "gray_image # shape (1, 224, 224)"
      ]
    },
    {
      "cell_type": "code",
      "execution_count": 195,
      "metadata": {
        "id": "_l3u-ceOWFEI"
      },
      "outputs": [
        {
          "data": {
            "image/png": "[encoded data removed]",
            "text/plain": [
              "<Figure size 432x288 with 1 Axes>"
            ]
          },
          "metadata": {
            "needs_background": "light"
          },
          "output_type": "display_data"
        },
        {
          "data": {
            "image/png": "[encoded data removed]",
            "text/plain": [
              "<Figure size 432x288 with 1 Axes>"
            ]
          },
          "metadata": {
            "needs_background": "light"
          },
          "output_type": "display_data"
        }
      ],
      "source": [
        "plt.imshow(gray_image.permute(1, 2, 0)) # вывод изображения с одним каналом\n",
        "plt.show() # вывод изображения\n",
        "plt.imshow(gray_image.permute(1, 2, 0), cmap='gray') # используем cmap для grayscale изображений\n",
        "plt.show() # вывод изображения"
      ]
    },
    {
      "cell_type": "markdown",
      "metadata": {},
      "source": [
        "### Сконвертируем весь тестовый датасет в grayscale"
      ]
    },
    {
      "cell_type": "markdown",
      "metadata": {},
      "source": [
        "<pre>\n",
        "data_test — весь датасет\n",
        "data_test[i] — i-ый сэмпл из датасета в формате (data, target)\n",
        "data_test[i][0] — данные о изображении в формате {\"pixel_values\": tensor with shape [batch_size=1, Channels, Height, Width]}  \n",
        "data_test[i][1] — таргет изображения\n",
        "data_test[i][0][\"pixel_values\"] — тензор с размерностью [batch_size=1, Channels, Height, Width]\n",
        "data_test[i][0][\"pixel_values\"][0] — тензор одного изображения в формате RGB (Channels=3)\n",
        "</pre>"
      ]
    },
    {
      "cell_type": "code",
      "execution_count": 237,
      "metadata": {},
      "outputs": [
        {
          "name": "stderr",
          "output_type": "stream",
          "text": [
            "  0%|          | 0/10000 [00:00<?, ?it/s]"
          ]
        },
        {
          "name": "stderr",
          "output_type": "stream",
          "text": [
            "100%|██████████| 10000/10000 [00:40<00:00, 249.06it/s]\n"
          ]
        }
      ],
      "source": [
        "for i in tqdm(range(len(data_test))): # идём по номерам всех сэмплов в тестовом датасете\n",
        "    gray_tensor = torchvision.transforms.functional.rgb_to_grayscale(data_test[i][0][\"pixel_values\"][0]) # конвертируем RGB тензор изображения в grayscale (получаем данные размерности (1, 224, 224) ~ (Channels, Height, Width))\n",
        "    gray_tensor = torch.unsqueeze(gray_tensor, dim=0) # добавляем фиктивную размерность для создания оси под batch_size (получаем данные размерности (1, 1, 224, 224) ~ (batch_size, Channels, Height, Width))\n",
        "    data_test[i][0][\"pixel_values\"] = gray_tensor # сохраняем в массив новый тензор"
      ]
    },
    {
      "cell_type": "code",
      "execution_count": 239,
      "metadata": {},
      "outputs": [],
      "source": [
        "# with open(data_path+\"data_test_processed_gray.pkl\", 'wb') as f: # открытие файла для записи (b - бинарной)\n",
        "#     pickle.dump(data_test, f) # сохранение обработанного обучающего датасета в grayscale формате"
      ]
    },
    {
      "cell_type": "code",
      "execution_count": null,
      "metadata": {},
      "outputs": [],
      "source": [
        "with open(data_path+\"data_test_processed_gray.pkl\", 'rb') as f: # открываем файл для чтения (b - бинарной)\n",
        "    data_test = pickle.load(f) # загружаем данные из файла"
      ]
    },
    {
      "cell_type": "code",
      "execution_count": 345,
      "metadata": {},
      "outputs": [],
      "source": [
        "# загрузчик данных для тестирования\n",
        "loader_test_processed_gray = torch.utils.data.DataLoader(dataset=data_test, # указание датасета для DataLoader\n",
        "                                                         batch_size=20, # размер батчка (число сэмплов, что будет возвращать DataLoader за раз) (градиент усредняется по батчу, ускоряется обработка датасета, но слегка замедляется обработка сэмпла)\n",
        "                                                         shuffle=True, # перемешивать ли датасет\n",
        "                                                         num_workers=2, # число используемых ядер процессора для ускорения обработки данных\n",
        "                                                         pin_memory=True # нужно ли заранее аллоцировать память под объект на GPU (лучше так, чем возвращать CUDA tensors при multi-process loading)\n",
        "                                                        )"
      ]
    },
    {
      "cell_type": "markdown",
      "metadata": {},
      "source": [
        "## Измение весов модели под grayscale"
      ]
    },
    {
      "cell_type": "code",
      "execution_count": 331,
      "metadata": {},
      "outputs": [
        {
          "data": {
            "text/plain": [
              "ViTForImageClassification(\n",
              "  (vit): ViTModel(\n",
              "    (embeddings): ViTEmbeddings(\n",
              "      (patch_embeddings): ViTPatchEmbeddings(\n",
              "        (projection): Conv2d(3, 768, kernel_size=(16, 16), stride=(16, 16))\n",
              "      )\n",
              "      (dropout): Dropout(p=0.0, inplace=False)\n",
              "    )\n",
              "    (encoder): ViTEncoder(\n",
              "      (layer): ModuleList(\n",
              "        (0): ViTLayer(\n",
              "          (attention): ViTAttention(\n",
              "            (attention): ViTSelfAttention(\n",
              "              (query): Linear(in_features=768, out_features=768, bias=True)\n",
              "              (key): Linear(in_features=768, out_features=768, bias=True)\n",
              "              (value): Linear(in_features=768, out_features=768, bias=True)\n",
              "              (dropout): Dropout(p=0.0, inplace=False)\n",
              "            )\n",
              "            (output): ViTSelfOutput(\n",
              "              (dense): Linear(in_features=768, out_features=768, bias=True)\n",
              "              (dropout): Dropout(p=0.0, inplace=False)\n",
              "            )\n",
              "          )\n",
              "          (intermediate): ViTIntermediate(\n",
              "            (dense): Linear(in_features=768, out_features=3072, bias=True)\n",
              "            (intermediate_act_fn): GELUActivation()\n",
              "          )\n",
              "          (output): ViTOutput(\n",
              "            (dense): Linear(in_features=3072, out_features=768, bias=True)\n",
              "            (dropout): Dropout(p=0.0, inplace=False)\n",
              "          )\n",
              "          (layernorm_before): LayerNorm((768,), eps=1e-12, elementwise_affine=True)\n",
              "          (layernorm_after): LayerNorm((768,), eps=1e-12, elementwise_affine=True)\n",
              "        )\n",
              "        (1): ViTLayer(\n",
              "          (attention): ViTAttention(\n",
              "            (attention): ViTSelfAttention(\n",
              "              (query): Linear(in_features=768, out_features=768, bias=True)\n",
              "              (key): Linear(in_features=768, out_features=768, bias=True)\n",
              "              (value): Linear(in_features=768, out_features=768, bias=True)\n",
              "              (dropout): Dropout(p=0.0, inplace=False)\n",
              "            )\n",
              "            (output): ViTSelfOutput(\n",
              "              (dense): Linear(in_features=768, out_features=768, bias=True)\n",
              "              (dropout): Dropout(p=0.0, inplace=False)\n",
              "            )\n",
              "          )\n",
              "          (intermediate): ViTIntermediate(\n",
              "            (dense): Linear(in_features=768, out_features=3072, bias=True)\n",
              "            (intermediate_act_fn): GELUActivation()\n",
              "          )\n",
              "          (output): ViTOutput(\n",
              "            (dense): Linear(in_features=3072, out_features=768, bias=True)\n",
              "            (dropout): Dropout(p=0.0, inplace=False)\n",
              "          )\n",
              "          (layernorm_before): LayerNorm((768,), eps=1e-12, elementwise_affine=True)\n",
              "          (layernorm_after): LayerNorm((768,), eps=1e-12, elementwise_affine=True)\n",
              "        )\n",
              "        (2): ViTLayer(\n",
              "          (attention): ViTAttention(\n",
              "            (attention): ViTSelfAttention(\n",
              "              (query): Linear(in_features=768, out_features=768, bias=True)\n",
              "              (key): Linear(in_features=768, out_features=768, bias=True)\n",
              "              (value): Linear(in_features=768, out_features=768, bias=True)\n",
              "              (dropout): Dropout(p=0.0, inplace=False)\n",
              "            )\n",
              "            (output): ViTSelfOutput(\n",
              "              (dense): Linear(in_features=768, out_features=768, bias=True)\n",
              "              (dropout): Dropout(p=0.0, inplace=False)\n",
              "            )\n",
              "          )\n",
              "          (intermediate): ViTIntermediate(\n",
              "            (dense): Linear(in_features=768, out_features=3072, bias=True)\n",
              "            (intermediate_act_fn): GELUActivation()\n",
              "          )\n",
              "          (output): ViTOutput(\n",
              "            (dense): Linear(in_features=3072, out_features=768, bias=True)\n",
              "            (dropout): Dropout(p=0.0, inplace=False)\n",
              "          )\n",
              "          (layernorm_before): LayerNorm((768,), eps=1e-12, elementwise_affine=True)\n",
              "          (layernorm_after): LayerNorm((768,), eps=1e-12, elementwise_affine=True)\n",
              "        )\n",
              "        (3): ViTLayer(\n",
              "          (attention): ViTAttention(\n",
              "            (attention): ViTSelfAttention(\n",
              "              (query): Linear(in_features=768, out_features=768, bias=True)\n",
              "              (key): Linear(in_features=768, out_features=768, bias=True)\n",
              "              (value): Linear(in_features=768, out_features=768, bias=True)\n",
              "              (dropout): Dropout(p=0.0, inplace=False)\n",
              "            )\n",
              "            (output): ViTSelfOutput(\n",
              "              (dense): Linear(in_features=768, out_features=768, bias=True)\n",
              "              (dropout): Dropout(p=0.0, inplace=False)\n",
              "            )\n",
              "          )\n",
              "          (intermediate): ViTIntermediate(\n",
              "            (dense): Linear(in_features=768, out_features=3072, bias=True)\n",
              "            (intermediate_act_fn): GELUActivation()\n",
              "          )\n",
              "          (output): ViTOutput(\n",
              "            (dense): Linear(in_features=3072, out_features=768, bias=True)\n",
              "            (dropout): Dropout(p=0.0, inplace=False)\n",
              "          )\n",
              "          (layernorm_before): LayerNorm((768,), eps=1e-12, elementwise_affine=True)\n",
              "          (layernorm_after): LayerNorm((768,), eps=1e-12, elementwise_affine=True)\n",
              "        )\n",
              "        (4): ViTLayer(\n",
              "          (attention): ViTAttention(\n",
              "            (attention): ViTSelfAttention(\n",
              "              (query): Linear(in_features=768, out_features=768, bias=True)\n",
              "              (key): Linear(in_features=768, out_features=768, bias=True)\n",
              "              (value): Linear(in_features=768, out_features=768, bias=True)\n",
              "              (dropout): Dropout(p=0.0, inplace=False)\n",
              "            )\n",
              "            (output): ViTSelfOutput(\n",
              "              (dense): Linear(in_features=768, out_features=768, bias=True)\n",
              "              (dropout): Dropout(p=0.0, inplace=False)\n",
              "            )\n",
              "          )\n",
              "          (intermediate): ViTIntermediate(\n",
              "            (dense): Linear(in_features=768, out_features=3072, bias=True)\n",
              "            (intermediate_act_fn): GELUActivation()\n",
              "          )\n",
              "          (output): ViTOutput(\n",
              "            (dense): Linear(in_features=3072, out_features=768, bias=True)\n",
              "            (dropout): Dropout(p=0.0, inplace=False)\n",
              "          )\n",
              "          (layernorm_before): LayerNorm((768,), eps=1e-12, elementwise_affine=True)\n",
              "          (layernorm_after): LayerNorm((768,), eps=1e-12, elementwise_affine=True)\n",
              "        )\n",
              "        (5): ViTLayer(\n",
              "          (attention): ViTAttention(\n",
              "            (attention): ViTSelfAttention(\n",
              "              (query): Linear(in_features=768, out_features=768, bias=True)\n",
              "              (key): Linear(in_features=768, out_features=768, bias=True)\n",
              "              (value): Linear(in_features=768, out_features=768, bias=True)\n",
              "              (dropout): Dropout(p=0.0, inplace=False)\n",
              "            )\n",
              "            (output): ViTSelfOutput(\n",
              "              (dense): Linear(in_features=768, out_features=768, bias=True)\n",
              "              (dropout): Dropout(p=0.0, inplace=False)\n",
              "            )\n",
              "          )\n",
              "          (intermediate): ViTIntermediate(\n",
              "            (dense): Linear(in_features=768, out_features=3072, bias=True)\n",
              "            (intermediate_act_fn): GELUActivation()\n",
              "          )\n",
              "          (output): ViTOutput(\n",
              "            (dense): Linear(in_features=3072, out_features=768, bias=True)\n",
              "            (dropout): Dropout(p=0.0, inplace=False)\n",
              "          )\n",
              "          (layernorm_before): LayerNorm((768,), eps=1e-12, elementwise_affine=True)\n",
              "          (layernorm_after): LayerNorm((768,), eps=1e-12, elementwise_affine=True)\n",
              "        )\n",
              "        (6): ViTLayer(\n",
              "          (attention): ViTAttention(\n",
              "            (attention): ViTSelfAttention(\n",
              "              (query): Linear(in_features=768, out_features=768, bias=True)\n",
              "              (key): Linear(in_features=768, out_features=768, bias=True)\n",
              "              (value): Linear(in_features=768, out_features=768, bias=True)\n",
              "              (dropout): Dropout(p=0.0, inplace=False)\n",
              "            )\n",
              "            (output): ViTSelfOutput(\n",
              "              (dense): Linear(in_features=768, out_features=768, bias=True)\n",
              "              (dropout): Dropout(p=0.0, inplace=False)\n",
              "            )\n",
              "          )\n",
              "          (intermediate): ViTIntermediate(\n",
              "            (dense): Linear(in_features=768, out_features=3072, bias=True)\n",
              "            (intermediate_act_fn): GELUActivation()\n",
              "          )\n",
              "          (output): ViTOutput(\n",
              "            (dense): Linear(in_features=3072, out_features=768, bias=True)\n",
              "            (dropout): Dropout(p=0.0, inplace=False)\n",
              "          )\n",
              "          (layernorm_before): LayerNorm((768,), eps=1e-12, elementwise_affine=True)\n",
              "          (layernorm_after): LayerNorm((768,), eps=1e-12, elementwise_affine=True)\n",
              "        )\n",
              "        (7): ViTLayer(\n",
              "          (attention): ViTAttention(\n",
              "            (attention): ViTSelfAttention(\n",
              "              (query): Linear(in_features=768, out_features=768, bias=True)\n",
              "              (key): Linear(in_features=768, out_features=768, bias=True)\n",
              "              (value): Linear(in_features=768, out_features=768, bias=True)\n",
              "              (dropout): Dropout(p=0.0, inplace=False)\n",
              "            )\n",
              "            (output): ViTSelfOutput(\n",
              "              (dense): Linear(in_features=768, out_features=768, bias=True)\n",
              "              (dropout): Dropout(p=0.0, inplace=False)\n",
              "            )\n",
              "          )\n",
              "          (intermediate): ViTIntermediate(\n",
              "            (dense): Linear(in_features=768, out_features=3072, bias=True)\n",
              "            (intermediate_act_fn): GELUActivation()\n",
              "          )\n",
              "          (output): ViTOutput(\n",
              "            (dense): Linear(in_features=3072, out_features=768, bias=True)\n",
              "            (dropout): Dropout(p=0.0, inplace=False)\n",
              "          )\n",
              "          (layernorm_before): LayerNorm((768,), eps=1e-12, elementwise_affine=True)\n",
              "          (layernorm_after): LayerNorm((768,), eps=1e-12, elementwise_affine=True)\n",
              "        )\n",
              "        (8): ViTLayer(\n",
              "          (attention): ViTAttention(\n",
              "            (attention): ViTSelfAttention(\n",
              "              (query): Linear(in_features=768, out_features=768, bias=True)\n",
              "              (key): Linear(in_features=768, out_features=768, bias=True)\n",
              "              (value): Linear(in_features=768, out_features=768, bias=True)\n",
              "              (dropout): Dropout(p=0.0, inplace=False)\n",
              "            )\n",
              "            (output): ViTSelfOutput(\n",
              "              (dense): Linear(in_features=768, out_features=768, bias=True)\n",
              "              (dropout): Dropout(p=0.0, inplace=False)\n",
              "            )\n",
              "          )\n",
              "          (intermediate): ViTIntermediate(\n",
              "            (dense): Linear(in_features=768, out_features=3072, bias=True)\n",
              "            (intermediate_act_fn): GELUActivation()\n",
              "          )\n",
              "          (output): ViTOutput(\n",
              "            (dense): Linear(in_features=3072, out_features=768, bias=True)\n",
              "            (dropout): Dropout(p=0.0, inplace=False)\n",
              "          )\n",
              "          (layernorm_before): LayerNorm((768,), eps=1e-12, elementwise_affine=True)\n",
              "          (layernorm_after): LayerNorm((768,), eps=1e-12, elementwise_affine=True)\n",
              "        )\n",
              "        (9): ViTLayer(\n",
              "          (attention): ViTAttention(\n",
              "            (attention): ViTSelfAttention(\n",
              "              (query): Linear(in_features=768, out_features=768, bias=True)\n",
              "              (key): Linear(in_features=768, out_features=768, bias=True)\n",
              "              (value): Linear(in_features=768, out_features=768, bias=True)\n",
              "              (dropout): Dropout(p=0.0, inplace=False)\n",
              "            )\n",
              "            (output): ViTSelfOutput(\n",
              "              (dense): Linear(in_features=768, out_features=768, bias=True)\n",
              "              (dropout): Dropout(p=0.0, inplace=False)\n",
              "            )\n",
              "          )\n",
              "          (intermediate): ViTIntermediate(\n",
              "            (dense): Linear(in_features=768, out_features=3072, bias=True)\n",
              "            (intermediate_act_fn): GELUActivation()\n",
              "          )\n",
              "          (output): ViTOutput(\n",
              "            (dense): Linear(in_features=3072, out_features=768, bias=True)\n",
              "            (dropout): Dropout(p=0.0, inplace=False)\n",
              "          )\n",
              "          (layernorm_before): LayerNorm((768,), eps=1e-12, elementwise_affine=True)\n",
              "          (layernorm_after): LayerNorm((768,), eps=1e-12, elementwise_affine=True)\n",
              "        )\n",
              "        (10): ViTLayer(\n",
              "          (attention): ViTAttention(\n",
              "            (attention): ViTSelfAttention(\n",
              "              (query): Linear(in_features=768, out_features=768, bias=True)\n",
              "              (key): Linear(in_features=768, out_features=768, bias=True)\n",
              "              (value): Linear(in_features=768, out_features=768, bias=True)\n",
              "              (dropout): Dropout(p=0.0, inplace=False)\n",
              "            )\n",
              "            (output): ViTSelfOutput(\n",
              "              (dense): Linear(in_features=768, out_features=768, bias=True)\n",
              "              (dropout): Dropout(p=0.0, inplace=False)\n",
              "            )\n",
              "          )\n",
              "          (intermediate): ViTIntermediate(\n",
              "            (dense): Linear(in_features=768, out_features=3072, bias=True)\n",
              "            (intermediate_act_fn): GELUActivation()\n",
              "          )\n",
              "          (output): ViTOutput(\n",
              "            (dense): Linear(in_features=3072, out_features=768, bias=True)\n",
              "            (dropout): Dropout(p=0.0, inplace=False)\n",
              "          )\n",
              "          (layernorm_before): LayerNorm((768,), eps=1e-12, elementwise_affine=True)\n",
              "          (layernorm_after): LayerNorm((768,), eps=1e-12, elementwise_affine=True)\n",
              "        )\n",
              "        (11): ViTLayer(\n",
              "          (attention): ViTAttention(\n",
              "            (attention): ViTSelfAttention(\n",
              "              (query): Linear(in_features=768, out_features=768, bias=True)\n",
              "              (key): Linear(in_features=768, out_features=768, bias=True)\n",
              "              (value): Linear(in_features=768, out_features=768, bias=True)\n",
              "              (dropout): Dropout(p=0.0, inplace=False)\n",
              "            )\n",
              "            (output): ViTSelfOutput(\n",
              "              (dense): Linear(in_features=768, out_features=768, bias=True)\n",
              "              (dropout): Dropout(p=0.0, inplace=False)\n",
              "            )\n",
              "          )\n",
              "          (intermediate): ViTIntermediate(\n",
              "            (dense): Linear(in_features=768, out_features=3072, bias=True)\n",
              "            (intermediate_act_fn): GELUActivation()\n",
              "          )\n",
              "          (output): ViTOutput(\n",
              "            (dense): Linear(in_features=3072, out_features=768, bias=True)\n",
              "            (dropout): Dropout(p=0.0, inplace=False)\n",
              "          )\n",
              "          (layernorm_before): LayerNorm((768,), eps=1e-12, elementwise_affine=True)\n",
              "          (layernorm_after): LayerNorm((768,), eps=1e-12, elementwise_affine=True)\n",
              "        )\n",
              "      )\n",
              "    )\n",
              "    (layernorm): LayerNorm((768,), eps=1e-12, elementwise_affine=True)\n",
              "  )\n",
              "  (classifier): Linear(in_features=768, out_features=3, bias=True)\n",
              ")"
            ]
          },
          "execution_count": 331,
          "metadata": {},
          "output_type": "execute_result"
        }
      ],
      "source": [
        "model = torch.load(models_path+\"model_finetuned.pth\") # загружаем сохранённую модель\n",
        "model"
      ]
    },
    {
      "cell_type": "code",
      "execution_count": 332,
      "metadata": {},
      "outputs": [
        {
          "data": {
            "text/plain": [
              "odict_keys(['vit.embeddings.cls_token', 'vit.embeddings.position_embeddings', 'vit.embeddings.patch_embeddings.projection.weight', 'vit.embeddings.patch_embeddings.projection.bias', 'vit.encoder.layer.0.attention.attention.query.weight', 'vit.encoder.layer.0.attention.attention.query.bias', 'vit.encoder.layer.0.attention.attention.key.weight', 'vit.encoder.layer.0.attention.attention.key.bias', 'vit.encoder.layer.0.attention.attention.value.weight', 'vit.encoder.layer.0.attention.attention.value.bias', 'vit.encoder.layer.0.attention.output.dense.weight', 'vit.encoder.layer.0.attention.output.dense.bias', 'vit.encoder.layer.0.intermediate.dense.weight', 'vit.encoder.layer.0.intermediate.dense.bias', 'vit.encoder.layer.0.output.dense.weight', 'vit.encoder.layer.0.output.dense.bias', 'vit.encoder.layer.0.layernorm_before.weight', 'vit.encoder.layer.0.layernorm_before.bias', 'vit.encoder.layer.0.layernorm_after.weight', 'vit.encoder.layer.0.layernorm_after.bias', 'vit.encoder.layer.1.attention.attention.query.weight', 'vit.encoder.layer.1.attention.attention.query.bias', 'vit.encoder.layer.1.attention.attention.key.weight', 'vit.encoder.layer.1.attention.attention.key.bias', 'vit.encoder.layer.1.attention.attention.value.weight', 'vit.encoder.layer.1.attention.attention.value.bias', 'vit.encoder.layer.1.attention.output.dense.weight', 'vit.encoder.layer.1.attention.output.dense.bias', 'vit.encoder.layer.1.intermediate.dense.weight', 'vit.encoder.layer.1.intermediate.dense.bias', 'vit.encoder.layer.1.output.dense.weight', 'vit.encoder.layer.1.output.dense.bias', 'vit.encoder.layer.1.layernorm_before.weight', 'vit.encoder.layer.1.layernorm_before.bias', 'vit.encoder.layer.1.layernorm_after.weight', 'vit.encoder.layer.1.layernorm_after.bias', 'vit.encoder.layer.2.attention.attention.query.weight', 'vit.encoder.layer.2.attention.attention.query.bias', 'vit.encoder.layer.2.attention.attention.key.weight', 'vit.encoder.layer.2.attention.attention.key.bias', 'vit.encoder.layer.2.attention.attention.value.weight', 'vit.encoder.layer.2.attention.attention.value.bias', 'vit.encoder.layer.2.attention.output.dense.weight', 'vit.encoder.layer.2.attention.output.dense.bias', 'vit.encoder.layer.2.intermediate.dense.weight', 'vit.encoder.layer.2.intermediate.dense.bias', 'vit.encoder.layer.2.output.dense.weight', 'vit.encoder.layer.2.output.dense.bias', 'vit.encoder.layer.2.layernorm_before.weight', 'vit.encoder.layer.2.layernorm_before.bias', 'vit.encoder.layer.2.layernorm_after.weight', 'vit.encoder.layer.2.layernorm_after.bias', 'vit.encoder.layer.3.attention.attention.query.weight', 'vit.encoder.layer.3.attention.attention.query.bias', 'vit.encoder.layer.3.attention.attention.key.weight', 'vit.encoder.layer.3.attention.attention.key.bias', 'vit.encoder.layer.3.attention.attention.value.weight', 'vit.encoder.layer.3.attention.attention.value.bias', 'vit.encoder.layer.3.attention.output.dense.weight', 'vit.encoder.layer.3.attention.output.dense.bias', 'vit.encoder.layer.3.intermediate.dense.weight', 'vit.encoder.layer.3.intermediate.dense.bias', 'vit.encoder.layer.3.output.dense.weight', 'vit.encoder.layer.3.output.dense.bias', 'vit.encoder.layer.3.layernorm_before.weight', 'vit.encoder.layer.3.layernorm_before.bias', 'vit.encoder.layer.3.layernorm_after.weight', 'vit.encoder.layer.3.layernorm_after.bias', 'vit.encoder.layer.4.attention.attention.query.weight', 'vit.encoder.layer.4.attention.attention.query.bias', 'vit.encoder.layer.4.attention.attention.key.weight', 'vit.encoder.layer.4.attention.attention.key.bias', 'vit.encoder.layer.4.attention.attention.value.weight', 'vit.encoder.layer.4.attention.attention.value.bias', 'vit.encoder.layer.4.attention.output.dense.weight', 'vit.encoder.layer.4.attention.output.dense.bias', 'vit.encoder.layer.4.intermediate.dense.weight', 'vit.encoder.layer.4.intermediate.dense.bias', 'vit.encoder.layer.4.output.dense.weight', 'vit.encoder.layer.4.output.dense.bias', 'vit.encoder.layer.4.layernorm_before.weight', 'vit.encoder.layer.4.layernorm_before.bias', 'vit.encoder.layer.4.layernorm_after.weight', 'vit.encoder.layer.4.layernorm_after.bias', 'vit.encoder.layer.5.attention.attention.query.weight', 'vit.encoder.layer.5.attention.attention.query.bias', 'vit.encoder.layer.5.attention.attention.key.weight', 'vit.encoder.layer.5.attention.attention.key.bias', 'vit.encoder.layer.5.attention.attention.value.weight', 'vit.encoder.layer.5.attention.attention.value.bias', 'vit.encoder.layer.5.attention.output.dense.weight', 'vit.encoder.layer.5.attention.output.dense.bias', 'vit.encoder.layer.5.intermediate.dense.weight', 'vit.encoder.layer.5.intermediate.dense.bias', 'vit.encoder.layer.5.output.dense.weight', 'vit.encoder.layer.5.output.dense.bias', 'vit.encoder.layer.5.layernorm_before.weight', 'vit.encoder.layer.5.layernorm_before.bias', 'vit.encoder.layer.5.layernorm_after.weight', 'vit.encoder.layer.5.layernorm_after.bias', 'vit.encoder.layer.6.attention.attention.query.weight', 'vit.encoder.layer.6.attention.attention.query.bias', 'vit.encoder.layer.6.attention.attention.key.weight', 'vit.encoder.layer.6.attention.attention.key.bias', 'vit.encoder.layer.6.attention.attention.value.weight', 'vit.encoder.layer.6.attention.attention.value.bias', 'vit.encoder.layer.6.attention.output.dense.weight', 'vit.encoder.layer.6.attention.output.dense.bias', 'vit.encoder.layer.6.intermediate.dense.weight', 'vit.encoder.layer.6.intermediate.dense.bias', 'vit.encoder.layer.6.output.dense.weight', 'vit.encoder.layer.6.output.dense.bias', 'vit.encoder.layer.6.layernorm_before.weight', 'vit.encoder.layer.6.layernorm_before.bias', 'vit.encoder.layer.6.layernorm_after.weight', 'vit.encoder.layer.6.layernorm_after.bias', 'vit.encoder.layer.7.attention.attention.query.weight', 'vit.encoder.layer.7.attention.attention.query.bias', 'vit.encoder.layer.7.attention.attention.key.weight', 'vit.encoder.layer.7.attention.attention.key.bias', 'vit.encoder.layer.7.attention.attention.value.weight', 'vit.encoder.layer.7.attention.attention.value.bias', 'vit.encoder.layer.7.attention.output.dense.weight', 'vit.encoder.layer.7.attention.output.dense.bias', 'vit.encoder.layer.7.intermediate.dense.weight', 'vit.encoder.layer.7.intermediate.dense.bias', 'vit.encoder.layer.7.output.dense.weight', 'vit.encoder.layer.7.output.dense.bias', 'vit.encoder.layer.7.layernorm_before.weight', 'vit.encoder.layer.7.layernorm_before.bias', 'vit.encoder.layer.7.layernorm_after.weight', 'vit.encoder.layer.7.layernorm_after.bias', 'vit.encoder.layer.8.attention.attention.query.weight', 'vit.encoder.layer.8.attention.attention.query.bias', 'vit.encoder.layer.8.attention.attention.key.weight', 'vit.encoder.layer.8.attention.attention.key.bias', 'vit.encoder.layer.8.attention.attention.value.weight', 'vit.encoder.layer.8.attention.attention.value.bias', 'vit.encoder.layer.8.attention.output.dense.weight', 'vit.encoder.layer.8.attention.output.dense.bias', 'vit.encoder.layer.8.intermediate.dense.weight', 'vit.encoder.layer.8.intermediate.dense.bias', 'vit.encoder.layer.8.output.dense.weight', 'vit.encoder.layer.8.output.dense.bias', 'vit.encoder.layer.8.layernorm_before.weight', 'vit.encoder.layer.8.layernorm_before.bias', 'vit.encoder.layer.8.layernorm_after.weight', 'vit.encoder.layer.8.layernorm_after.bias', 'vit.encoder.layer.9.attention.attention.query.weight', 'vit.encoder.layer.9.attention.attention.query.bias', 'vit.encoder.layer.9.attention.attention.key.weight', 'vit.encoder.layer.9.attention.attention.key.bias', 'vit.encoder.layer.9.attention.attention.value.weight', 'vit.encoder.layer.9.attention.attention.value.bias', 'vit.encoder.layer.9.attention.output.dense.weight', 'vit.encoder.layer.9.attention.output.dense.bias', 'vit.encoder.layer.9.intermediate.dense.weight', 'vit.encoder.layer.9.intermediate.dense.bias', 'vit.encoder.layer.9.output.dense.weight', 'vit.encoder.layer.9.output.dense.bias', 'vit.encoder.layer.9.layernorm_before.weight', 'vit.encoder.layer.9.layernorm_before.bias', 'vit.encoder.layer.9.layernorm_after.weight', 'vit.encoder.layer.9.layernorm_after.bias', 'vit.encoder.layer.10.attention.attention.query.weight', 'vit.encoder.layer.10.attention.attention.query.bias', 'vit.encoder.layer.10.attention.attention.key.weight', 'vit.encoder.layer.10.attention.attention.key.bias', 'vit.encoder.layer.10.attention.attention.value.weight', 'vit.encoder.layer.10.attention.attention.value.bias', 'vit.encoder.layer.10.attention.output.dense.weight', 'vit.encoder.layer.10.attention.output.dense.bias', 'vit.encoder.layer.10.intermediate.dense.weight', 'vit.encoder.layer.10.intermediate.dense.bias', 'vit.encoder.layer.10.output.dense.weight', 'vit.encoder.layer.10.output.dense.bias', 'vit.encoder.layer.10.layernorm_before.weight', 'vit.encoder.layer.10.layernorm_before.bias', 'vit.encoder.layer.10.layernorm_after.weight', 'vit.encoder.layer.10.layernorm_after.bias', 'vit.encoder.layer.11.attention.attention.query.weight', 'vit.encoder.layer.11.attention.attention.query.bias', 'vit.encoder.layer.11.attention.attention.key.weight', 'vit.encoder.layer.11.attention.attention.key.bias', 'vit.encoder.layer.11.attention.attention.value.weight', 'vit.encoder.layer.11.attention.attention.value.bias', 'vit.encoder.layer.11.attention.output.dense.weight', 'vit.encoder.layer.11.attention.output.dense.bias', 'vit.encoder.layer.11.intermediate.dense.weight', 'vit.encoder.layer.11.intermediate.dense.bias', 'vit.encoder.layer.11.output.dense.weight', 'vit.encoder.layer.11.output.dense.bias', 'vit.encoder.layer.11.layernorm_before.weight', 'vit.encoder.layer.11.layernorm_before.bias', 'vit.encoder.layer.11.layernorm_after.weight', 'vit.encoder.layer.11.layernorm_after.bias', 'vit.layernorm.weight', 'vit.layernorm.bias', 'classifier.weight', 'classifier.bias'])"
            ]
          },
          "execution_count": 332,
          "metadata": {},
          "output_type": "execute_result"
        }
      ],
      "source": [
        "state_dict = model.state_dict() # запоминаем state_dict с весами модели\n",
        "state_dict.keys() # названия обучаемых слоёв"
      ]
    },
    {
      "cell_type": "code",
      "execution_count": 333,
      "metadata": {},
      "outputs": [
        {
          "data": {
            "text/plain": [
              "torch.Size([768, 3, 16, 16])"
            ]
          },
          "execution_count": 333,
          "metadata": {},
          "output_type": "execute_result"
        }
      ],
      "source": [
        "state_dict[\"vit.embeddings.patch_embeddings.projection.weight\"].shape # число параметров у первой свёртки (Conv2d weight)\n",
        "# в свёртке 768 выходных каналов, 3 входных канала, (16, 16) — размер ядра"
      ]
    },
    {
      "cell_type": "code",
      "execution_count": 334,
      "metadata": {},
      "outputs": [
        {
          "data": {
            "text/plain": [
              "torch.Size([768])"
            ]
          },
          "execution_count": 334,
          "metadata": {},
          "output_type": "execute_result"
        }
      ],
      "source": [
        "state_dict[\"vit.embeddings.patch_embeddings.projection.bias\"].shape # число параметров у смещения первой свёртки (Conv2d bias)\n",
        "# == число выходных каналов (768)"
      ]
    },
    {
      "cell_type": "code",
      "execution_count": 335,
      "metadata": {},
      "outputs": [
        {
          "data": {
            "text/plain": [
              "tensor([[[[ 1.5400e-02,  5.1219e-02,  5.5843e-02,  ...,  8.6990e-02,\n",
              "            1.0700e-01,  1.1935e-01],\n",
              "          [ 1.2548e-02,  1.4116e-02,  2.0133e-02,  ...,  8.3499e-02,\n",
              "            3.8517e-02,  8.5471e-02],\n",
              "          [ 1.6921e-02,  1.1765e-02, -3.5197e-03,  ...,  7.6634e-02,\n",
              "            3.3166e-02,  3.5955e-02],\n",
              "          ...,\n",
              "          [-1.3587e-02, -4.9518e-03, -5.4393e-02,  ..., -5.8505e-02,\n",
              "           -6.7175e-02,  2.0824e-02],\n",
              "          [ 4.0123e-02, -4.4353e-02, -2.2147e-02,  ...,  1.1387e-02,\n",
              "           -3.9666e-02,  8.2500e-02],\n",
              "          [ 7.0264e-02,  8.1620e-02,  3.8167e-02,  ...,  9.5991e-02,\n",
              "            1.1588e-01,  1.5392e-01]],\n",
              "\n",
              "         [[-6.4459e-02, -3.9845e-02, -4.3251e-02,  ..., -6.0272e-02,\n",
              "           -2.6298e-02, -2.2152e-02],\n",
              "          [-9.6377e-03, -1.1859e-02, -8.9310e-03,  ..., -3.3260e-02,\n",
              "           -4.5892e-02, -1.0262e-03],\n",
              "          [ 4.4914e-02,  3.1927e-02,  1.2783e-02,  ..., -3.5436e-02,\n",
              "           -3.9798e-02, -3.2150e-02],\n",
              "          ...,\n",
              "          [ 3.6062e-02,  1.9757e-02, -5.9914e-02,  ..., -2.3123e-02,\n",
              "           -3.4994e-02,  4.1905e-02],\n",
              "          [ 5.8968e-02, -4.6857e-02, -5.7484e-02,  ...,  2.1184e-02,\n",
              "           -2.7996e-02,  8.1548e-02],\n",
              "          [ 3.1543e-02,  1.2321e-02, -5.2773e-02,  ...,  4.5705e-02,\n",
              "            6.9724e-02,  9.9626e-02]],\n",
              "\n",
              "         [[-1.1338e-01, -3.7779e-02,  1.9946e-03,  ..., -2.5105e-02,\n",
              "           -2.2755e-02, -4.9472e-02],\n",
              "          [-8.2655e-02, -1.9120e-02,  2.3089e-02,  ...,  2.8758e-02,\n",
              "           -8.6686e-03, -8.6948e-03],\n",
              "          [-5.4312e-02, -8.4319e-03,  3.7596e-04,  ...,  2.5187e-02,\n",
              "            2.2698e-03, -2.3378e-02],\n",
              "          ...,\n",
              "          [-2.9698e-02,  2.6732e-02,  7.2035e-03,  ..., -5.9852e-03,\n",
              "           -4.6556e-02, -2.4192e-02],\n",
              "          [-1.6073e-02, -6.9310e-02, -3.1352e-02,  ..., -1.5725e-02,\n",
              "           -9.3133e-02, -1.7057e-02],\n",
              "          [-6.0697e-02, -5.9634e-02, -1.1467e-01,  ..., -8.1088e-02,\n",
              "           -5.8281e-02, -3.7162e-02]]],\n",
              "\n",
              "\n",
              "        [[[-2.9799e-02,  2.8121e-02,  2.7614e-02,  ...,  3.5737e-03,\n",
              "           -4.0183e-02, -3.1314e-02],\n",
              "          [-3.8296e-02,  7.2924e-02,  8.8367e-02,  ...,  5.9113e-02,\n",
              "            7.1108e-02, -2.4211e-02],\n",
              "          [-6.7545e-02, -9.6057e-03,  2.2471e-02,  ...,  6.9144e-02,\n",
              "            6.6233e-02,  2.0700e-02],\n",
              "          ...,\n",
              "          [-9.6371e-02,  3.9154e-02,  1.4884e-01,  ...,  4.3538e-02,\n",
              "            2.5396e-02, -1.8767e-02],\n",
              "          [-1.0305e-01,  9.3156e-02,  6.3478e-02,  ...,  5.5889e-02,\n",
              "            6.2876e-02, -7.2802e-02],\n",
              "          [-8.1524e-02, -2.9250e-02,  6.4895e-03,  ...,  1.0722e-01,\n",
              "            1.0680e-02, -3.0482e-02]],\n",
              "\n",
              "         [[-1.4100e-02,  3.7519e-02,  2.1191e-02,  ..., -5.7819e-04,\n",
              "           -4.6436e-02, -3.0616e-02],\n",
              "          [-2.4522e-02,  7.3928e-02,  8.8858e-02,  ...,  6.1920e-03,\n",
              "            2.5661e-02, -5.7268e-02],\n",
              "          [-3.7950e-02,  1.2245e-02,  4.9855e-02,  ..., -1.9446e-03,\n",
              "           -7.2120e-03, -4.5638e-02],\n",
              "          ...,\n",
              "          [-1.0660e-01,  1.6971e-02,  1.1223e-01,  ...,  5.3068e-02,\n",
              "            4.1418e-02,  2.3285e-02],\n",
              "          [-9.0806e-02,  1.0446e-01,  7.4658e-02,  ...,  5.5150e-02,\n",
              "            7.2386e-02, -4.9387e-02],\n",
              "          [-4.8945e-02,  1.3682e-02,  5.7185e-02,  ...,  1.0379e-01,\n",
              "            1.2499e-02, -2.9021e-02]],\n",
              "\n",
              "         [[-1.2660e-02,  2.0893e-02, -1.4837e-02,  ...,  5.3568e-02,\n",
              "            3.4086e-02,  8.4082e-02],\n",
              "          [-3.6569e-02,  1.5659e-02, -2.5572e-03,  ...,  1.6464e-02,\n",
              "            4.1908e-02,  2.0628e-02],\n",
              "          [-6.2921e-02, -4.7961e-02, -3.3049e-02,  ...,  1.4312e-02,\n",
              "            4.8653e-03,  1.5496e-02],\n",
              "          ...,\n",
              "          [-5.8150e-02,  1.3155e-02,  7.4175e-02,  ..., -3.3454e-02,\n",
              "            2.1617e-03,  4.3665e-02],\n",
              "          [-5.0942e-02,  1.1793e-01,  5.8485e-02,  ..., -2.6495e-02,\n",
              "            3.3389e-02, -3.7634e-02],\n",
              "          [-3.9291e-02,  3.5625e-02,  7.8912e-02,  ...,  2.7307e-02,\n",
              "           -3.1181e-02, -4.2089e-02]]],\n",
              "\n",
              "\n",
              "        [[[-1.4647e-02,  5.9439e-04, -9.5342e-03,  ...,  2.1360e-03,\n",
              "            8.5079e-03,  2.4351e-03],\n",
              "          [ 1.3906e-02,  2.3282e-02,  5.5854e-03,  ..., -8.3080e-03,\n",
              "           -9.3106e-03, -1.7834e-02],\n",
              "          [ 1.1864e-02,  2.8804e-02,  1.1051e-02,  ..., -1.1794e-02,\n",
              "           -1.4067e-02, -2.4717e-02],\n",
              "          ...,\n",
              "          [ 1.8965e-02,  1.1017e-02,  5.7541e-03,  ..., -1.0900e-03,\n",
              "            5.2860e-03,  1.4396e-02],\n",
              "          [ 2.4548e-02,  6.7952e-03,  7.4369e-03,  ..., -2.7893e-03,\n",
              "            2.2030e-03,  2.5150e-02],\n",
              "          [ 7.2503e-03, -3.2293e-03, -1.7303e-02,  ..., -1.0063e-02,\n",
              "            7.7469e-03,  2.8173e-02]],\n",
              "\n",
              "         [[-1.5041e-02,  9.9493e-03,  7.8548e-03,  ...,  3.4343e-02,\n",
              "            4.4812e-02,  4.3103e-02],\n",
              "          [ 1.2019e-04,  2.1380e-02,  9.6993e-03,  ...,  1.4282e-02,\n",
              "            1.1716e-02,  8.3425e-03],\n",
              "          [-8.6681e-03,  2.3261e-02,  9.9002e-03,  ...,  3.7078e-03,\n",
              "            3.6747e-03, -5.8900e-03],\n",
              "          ...,\n",
              "          [ 3.4866e-03,  3.3583e-03,  2.7252e-03,  ..., -4.1289e-04,\n",
              "            3.3836e-03,  1.0760e-02],\n",
              "          [-2.5129e-03, -4.6327e-03, -1.5238e-03,  ..., -2.8599e-03,\n",
              "            5.4958e-04,  1.3955e-02],\n",
              "          [-2.8829e-02, -2.5272e-02, -2.8102e-02,  ..., -1.2706e-02,\n",
              "            8.2353e-04,  1.1020e-02]],\n",
              "\n",
              "         [[-3.8687e-02, -1.1396e-03, -6.0417e-03,  ..., -6.4730e-03,\n",
              "           -1.0974e-03, -8.6912e-03],\n",
              "          [-1.6403e-02,  1.7897e-02,  8.9692e-03,  ..., -1.2503e-03,\n",
              "           -6.9107e-03, -1.7154e-02],\n",
              "          [-2.1045e-02,  1.8091e-02,  1.1041e-02,  ...,  4.9613e-03,\n",
              "           -2.4131e-03, -2.0028e-02],\n",
              "          ...,\n",
              "          [ 1.0509e-02,  1.9174e-02,  1.7732e-02,  ...,  1.4242e-02,\n",
              "            1.0155e-02,  3.9630e-04],\n",
              "          [ 4.2044e-03,  1.3281e-02,  2.3598e-02,  ...,  1.0331e-02,\n",
              "            6.5598e-03,  5.1473e-03],\n",
              "          [-1.5073e-02,  2.0137e-03,  2.3160e-03,  ...,  2.9045e-03,\n",
              "            7.7990e-03,  3.7401e-03]]],\n",
              "\n",
              "\n",
              "        ...,\n",
              "\n",
              "\n",
              "        [[[-3.9936e-02,  1.7918e-02,  6.0607e-02,  ..., -3.1299e-02,\n",
              "           -4.1076e-02,  8.2496e-03],\n",
              "          [-4.5085e-02,  2.3121e-02,  7.2798e-02,  ..., -4.0975e-02,\n",
              "           -4.0388e-02, -1.1256e-02],\n",
              "          [-2.8771e-02,  3.5449e-03,  6.9308e-02,  ..., -3.5056e-02,\n",
              "           -4.4304e-02, -2.9148e-02],\n",
              "          ...,\n",
              "          [ 4.6925e-03, -8.8981e-03,  1.8606e-02,  ...,  1.2221e-01,\n",
              "            4.6913e-02, -4.1295e-02],\n",
              "          [ 9.3162e-03,  2.4577e-02,  1.0680e-02,  ...,  4.6063e-02,\n",
              "            2.8597e-02, -5.5097e-02],\n",
              "          [ 2.5550e-02, -1.2581e-02, -8.9500e-03,  ..., -5.1268e-02,\n",
              "           -5.9481e-02, -7.0235e-02]],\n",
              "\n",
              "         [[-1.1215e-01, -4.2993e-02,  5.7964e-03,  ..., -1.0286e-01,\n",
              "           -1.1617e-01, -6.7975e-02],\n",
              "          [-9.4749e-02, -9.2654e-03,  5.1716e-02,  ..., -6.8691e-02,\n",
              "           -7.9543e-02, -5.9832e-02],\n",
              "          [-7.2089e-02, -1.6999e-02,  7.2219e-02,  ..., -2.8556e-02,\n",
              "           -5.3409e-02, -5.0565e-02],\n",
              "          ...,\n",
              "          [ 2.0917e-02,  7.8819e-03,  3.0807e-02,  ...,  1.7569e-01,\n",
              "            8.7204e-02, -1.8567e-02],\n",
              "          [ 2.6610e-02,  4.8021e-02,  2.6831e-02,  ...,  8.3965e-02,\n",
              "            6.0444e-02, -3.6219e-02],\n",
              "          [ 2.9532e-02,  1.8961e-04,  2.1255e-03,  ..., -2.9958e-02,\n",
              "           -4.1108e-02, -5.3442e-02]],\n",
              "\n",
              "         [[-6.7194e-02, -2.4016e-02, -5.3662e-03,  ..., -6.6163e-02,\n",
              "           -5.7953e-02, -1.5219e-02],\n",
              "          [-4.9731e-02, -1.2292e-03,  2.4250e-02,  ..., -5.4852e-02,\n",
              "           -4.5789e-02, -1.7666e-02],\n",
              "          [-3.8164e-02, -1.2815e-02,  3.6027e-02,  ..., -3.2950e-02,\n",
              "           -4.0564e-02, -1.9934e-02],\n",
              "          ...,\n",
              "          [ 4.6045e-04, -1.2108e-02, -2.3963e-03,  ...,  6.3410e-02,\n",
              "            2.5214e-02, -2.8363e-02],\n",
              "          [ 5.8349e-03,  2.9205e-02, -2.4935e-03,  ...,  1.9326e-02,\n",
              "            2.6417e-02, -3.0355e-02],\n",
              "          [ 9.5383e-03, -3.5216e-03,  1.8100e-04,  ..., -2.8224e-02,\n",
              "           -3.6779e-02, -4.3928e-02]]],\n",
              "\n",
              "\n",
              "        [[[ 6.1845e-02,  7.8903e-02,  8.0519e-02,  ..., -2.5155e-03,\n",
              "            6.1414e-03, -3.7887e-02],\n",
              "          [-4.3733e-02, -4.5285e-02, -4.8055e-02,  ..., -7.1583e-02,\n",
              "           -7.4190e-02, -6.2659e-02],\n",
              "          [-6.8974e-02, -5.6949e-02, -6.2249e-02,  ..., -4.2614e-02,\n",
              "           -3.7540e-02, -6.5250e-02],\n",
              "          ...,\n",
              "          [ 1.8498e-02,  8.8025e-02,  3.3958e-02,  ...,  1.3584e-02,\n",
              "            4.9820e-02,  2.9812e-02],\n",
              "          [ 3.2119e-02,  2.7579e-02,  8.2400e-03,  ...,  6.9491e-02,\n",
              "            5.6176e-02,  6.4812e-02],\n",
              "          [-9.4327e-02, -6.8673e-02, -1.4304e-01,  ..., -5.9222e-03,\n",
              "            4.6412e-02,  2.1522e-02]],\n",
              "\n",
              "         [[ 8.3651e-02,  5.6724e-02,  3.5904e-02,  ..., -1.2895e-02,\n",
              "           -6.2988e-03, -5.9938e-02],\n",
              "          [-1.6908e-02, -6.5530e-02, -9.2568e-02,  ..., -9.7591e-02,\n",
              "           -9.3634e-02, -9.1492e-02],\n",
              "          [-2.9148e-02, -6.6228e-02, -1.0140e-01,  ..., -8.2821e-02,\n",
              "           -6.2551e-02, -9.4584e-02],\n",
              "          ...,\n",
              "          [ 6.0249e-02,  1.0709e-01,  4.9167e-02,  ...,  3.6255e-02,\n",
              "            5.5425e-02, -1.1213e-02],\n",
              "          [ 6.3881e-02,  2.6580e-02,  6.7676e-03,  ...,  9.3613e-02,\n",
              "            6.0212e-02,  2.5835e-02],\n",
              "          [-4.8213e-02, -6.0272e-02, -1.3603e-01,  ...,  2.1914e-02,\n",
              "            5.3935e-02,  3.0244e-03]],\n",
              "\n",
              "         [[ 6.0718e-02,  1.9537e-02,  1.0628e-02,  ..., -1.5441e-03,\n",
              "            7.5657e-03, -4.6180e-02],\n",
              "          [ 1.1873e-02, -3.7291e-02, -5.3323e-02,  ..., -2.8918e-02,\n",
              "           -2.4828e-02, -3.2891e-02],\n",
              "          [ 2.5839e-02, -2.1810e-02, -6.3494e-02,  ..., -1.5615e-02,\n",
              "            1.1046e-02, -2.6218e-02],\n",
              "          ...,\n",
              "          [ 5.1006e-02,  7.9973e-02,  3.9637e-02,  ..., -1.0220e-02,\n",
              "           -1.2319e-02, -9.1906e-02],\n",
              "          [ 8.1509e-02,  2.7096e-02,  3.7604e-02,  ...,  2.3957e-02,\n",
              "           -1.7970e-02, -5.1914e-02],\n",
              "          [ 4.9476e-02,  1.5000e-02, -4.2607e-02,  ..., -2.7893e-02,\n",
              "           -1.3092e-03, -4.4760e-02]]],\n",
              "\n",
              "\n",
              "        [[[-1.4738e-02, -2.6106e-03,  1.6147e-03,  ..., -1.0647e-02,\n",
              "           -1.0068e-02, -2.1035e-03],\n",
              "          [ 9.2124e-04, -5.5023e-03, -6.5465e-03,  ..., -1.1418e-03,\n",
              "           -1.0281e-02,  1.2886e-03],\n",
              "          [-7.4029e-03, -1.2310e-02, -7.1565e-03,  ...,  4.0645e-04,\n",
              "           -1.0044e-02, -2.6178e-03],\n",
              "          ...,\n",
              "          [-6.5228e-03, -5.6389e-03, -2.1615e-03,  ..., -4.2760e-04,\n",
              "           -6.7835e-03, -5.4086e-03],\n",
              "          [ 1.5111e-03, -4.0172e-03, -6.2664e-03,  ..., -6.8420e-04,\n",
              "           -2.0164e-03, -3.1390e-03],\n",
              "          [-1.8560e-03, -1.0401e-02, -9.3488e-03,  ...,  3.1985e-03,\n",
              "           -3.7209e-03, -8.3435e-03]],\n",
              "\n",
              "         [[ 6.6907e-03,  1.7227e-02,  1.9247e-02,  ...,  4.2839e-03,\n",
              "            7.1751e-03,  1.7379e-02],\n",
              "          [ 1.6756e-02,  7.3749e-03,  6.7237e-03,  ...,  7.3929e-03,\n",
              "            4.3154e-03,  1.5110e-02],\n",
              "          [ 5.1926e-03, -4.5330e-03,  7.2729e-04,  ...,  2.9510e-03,\n",
              "           -5.4404e-03,  2.5176e-03],\n",
              "          ...,\n",
              "          [ 1.7352e-03,  1.7289e-03, -1.6310e-04,  ..., -5.6454e-04,\n",
              "            1.3860e-04,  6.2221e-03],\n",
              "          [ 1.4792e-02,  7.0108e-03,  4.3179e-03,  ...,  8.3683e-03,\n",
              "            9.8235e-03,  1.5341e-02],\n",
              "          [ 3.0803e-03,  1.0729e-04, -1.8243e-03,  ...,  8.4596e-03,\n",
              "            5.9243e-03,  5.3154e-03]],\n",
              "\n",
              "         [[-7.6856e-03, -2.1747e-03,  2.6094e-03,  ...,  1.4197e-03,\n",
              "           -6.6948e-03,  4.2769e-03],\n",
              "          [ 2.3897e-03, -1.0364e-02, -6.6801e-03,  ..., -2.7704e-03,\n",
              "           -1.2474e-02, -1.6584e-03],\n",
              "          [-1.6527e-04, -8.9129e-03, -2.2917e-03,  ...,  5.6196e-05,\n",
              "           -1.0679e-02, -5.3556e-03],\n",
              "          ...,\n",
              "          [-5.8398e-03, -6.4363e-03,  6.9651e-04,  ...,  3.6970e-03,\n",
              "           -4.5615e-03,  1.0402e-03],\n",
              "          [-7.1429e-03, -1.3804e-02, -8.5376e-03,  ...,  7.6773e-04,\n",
              "           -7.1068e-03,  6.7471e-04],\n",
              "          [-1.5812e-02, -1.8286e-02, -1.4123e-02,  ..., -1.1106e-03,\n",
              "           -1.5369e-02, -8.4585e-03]]]])"
            ]
          },
          "execution_count": 335,
          "metadata": {},
          "output_type": "execute_result"
        }
      ],
      "source": [
        "state_dict[\"vit.embeddings.patch_embeddings.projection.weight\"] # веса первой свёртки"
      ]
    },
    {
      "cell_type": "code",
      "execution_count": 336,
      "metadata": {},
      "outputs": [],
      "source": [
        "r = state_dict[\"vit.embeddings.patch_embeddings.projection.weight\"][:,0:1,:,:] # берём канал, отвечающий за RED канал\n",
        "g = state_dict[\"vit.embeddings.patch_embeddings.projection.weight\"][:,1:2,:,:] # берём канал, отвечающий за GREEN канал\n",
        "b = state_dict[\"vit.embeddings.patch_embeddings.projection.weight\"][:,2:3,:,:] # берём канал, отвечающий за BLUE канал\n",
        "# [:,i:i+1,:,:] означает — взять всё с нулевой оси out_channels; взять канал под номером i из in_channels; взять полные ядра"
      ]
    },
    {
      "cell_type": "code",
      "execution_count": 337,
      "metadata": {},
      "outputs": [
        {
          "data": {
            "text/plain": [
              "torch.Size([768, 1, 16, 16])"
            ]
          },
          "execution_count": 337,
          "metadata": {},
          "output_type": "execute_result"
        }
      ],
      "source": [
        "# 0.299∙Red + 0.587∙Green + 0.114∙Blue\n",
        "state_dict[\"vit.embeddings.patch_embeddings.projection.weight\"] = 0.299*r + 0.587*g + 0.114*b # обновляем веса для свёртки\n",
        "state_dict[\"vit.embeddings.patch_embeddings.projection.weight\"].shape # размерность новых весов для свёртки "
      ]
    },
    {
      "cell_type": "code",
      "execution_count": 338,
      "metadata": {},
      "outputs": [
        {
          "data": {
            "text/plain": [
              "Conv2d(3, 768, kernel_size=(16, 16), stride=(16, 16))"
            ]
          },
          "execution_count": 338,
          "metadata": {},
          "output_type": "execute_result"
        }
      ],
      "source": [
        "model.vit.embeddings.patch_embeddings.projection # текущий свёрточный слой"
      ]
    },
    {
      "cell_type": "code",
      "execution_count": 339,
      "metadata": {},
      "outputs": [
        {
          "data": {
            "text/plain": [
              "Conv2d(1, 768, kernel_size=(16, 16), stride=(16, 16))"
            ]
          },
          "execution_count": 339,
          "metadata": {},
          "output_type": "execute_result"
        }
      ],
      "source": [
        "model.vit.embeddings.patch_embeddings.projection = torch.nn.Conv2d(in_channels=1, out_channels=768, kernel_size=(16,16), stride=(16, 16)) # изменяем свёрточный слой у модели, чтобы на вход был один канал\n",
        "model.vit.embeddings.patch_embeddings.projection # у изменённого слоя теперь только один входной канал"
      ]
    },
    {
      "cell_type": "code",
      "execution_count": 340,
      "metadata": {},
      "outputs": [
        {
          "data": {
            "text/plain": [
              "<All keys matched successfully>"
            ]
          },
          "execution_count": 340,
          "metadata": {},
          "output_type": "execute_result"
        }
      ],
      "source": [
        "model.load_state_dict(state_dict) # загружаем пересчитанные веса в модель (смещение не меняли)"
      ]
    },
    {
      "cell_type": "code",
      "execution_count": 369,
      "metadata": {},
      "outputs": [],
      "source": [
        "model.config.num_channels = 1 # ставим в конфиге число ожидаемых каналов, равное 1 (вместо 3)\n",
        "model.vit.embeddings.patch_embeddings.num_channels = 1 # ставим у вложенного слоя число ожидаемых каналов, равное 1 (вместо 3)"
      ]
    },
    {
      "cell_type": "code",
      "execution_count": 370,
      "metadata": {},
      "outputs": [],
      "source": [
        "# torch.save(model.state_dict(), models_path+\"model_finetuned_state_dict_gray.pth\") # сохраняем полученный state_dict для grayscale модели в файл model_finetuned_state_dict_gray.pth, что лежит по пути models_path\n",
        "# torch.save(model, models_path+\"model_finetuned_gray.pth\") # сохраняем саму модель, потому что ViTForImageClassification требует config для создания"
      ]
    },
    {
      "cell_type": "markdown",
      "metadata": {},
      "source": [
        "## Проверка работы модели на grayscale изображениях"
      ]
    },
    {
      "cell_type": "code",
      "execution_count": 371,
      "metadata": {},
      "outputs": [
        {
          "data": {
            "text/plain": [
              "<sklearn.metrics._plot.confusion_matrix.ConfusionMatrixDisplay at 0x28538013a00>"
            ]
          },
          "execution_count": 371,
          "metadata": {},
          "output_type": "execute_result"
        },
        {
          "data": {
            "image/png": "[encoded data removed]",
            "text/plain": [
              "<Figure size 432x288 with 2 Axes>"
            ]
          },
          "metadata": {
            "needs_background": "light"
          },
          "output_type": "display_data"
        }
      ],
      "source": [
        "labels_true_gray, labels_pred_gray = model_predict(model=model, loader=loader_test_processed_gray, device=device, finetuned=True) # получаем предсказания модели и настоящие таргеты\n",
        "confusion_matrix_finetuned_gray = confusion_matrix(y_true=labels_true_gray, y_pred=labels_pred_gray) # считаем confusion matrix для трёх классов на fine-tuned модели\n",
        "ConfusionMatrixDisplay(confusion_matrix=confusion_matrix_finetuned_gray, display_labels=[\"Bicycle\", \"Motorcycle\", \"Background\"]).plot() # вывод Confusion Matrix"
      ]
    },
    {
      "cell_type": "markdown",
      "metadata": {},
      "source": [
        "* Качество предсказаний при переходе на grayscale ухудшилось, элементы из классов Motorcycle и Background стали чаще предсказываться как Bicycle.\n",
        "\n",
        "**Вывод — цвет был важен для работы модели.**"
      ]
    }
  ],
  "metadata": {
    "accelerator": "GPU",
    "colab": {
      "gpuType": "T4",
      "provenance": []
    },
    "kernelspec": {
      "display_name": "gpu",
      "language": "python",
      "name": "gpu"
    },
    "language_info": {
      "codemirror_mode": {
        "name": "ipython",
        "version": 3
      },
      "file_extension": ".py",
      "mimetype": "text/x-python",
      "name": "python",
      "nbconvert_exporter": "python",
      "pygments_lexer": "ipython3",
      "version": "3.9.12"
    }
  },
  "nbformat": 4,
  "nbformat_minor": 0
}
