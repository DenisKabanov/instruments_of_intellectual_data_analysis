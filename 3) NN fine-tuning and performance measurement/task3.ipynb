{
 "cells": [
  {
   "cell_type": "markdown",
   "metadata": {},
   "source": [
    "# Задание"
   ]
  },
  {
   "cell_type": "markdown",
   "metadata": {},
   "source": [
    "1) Натренировать нейронную сеть, отличающую классы bicycle, motorcycle, background (всё, что не велосипед и не мотоцикл). (6 баллов)\n",
    "    * Можно использовать претренированную модель, но нужно ее дообучить.\n",
    "    * Не должно быть багов (обратите внимание на дисбаланс классов).\n",
    "2) Провести анализ результатов (confusion матрица, зависимость точности от внешних условий, сравнение моделей, анализ метрик, ...). (1-2 балла в зависимости от полноты анализа)\n",
    "3) Сравнить производительность в разных рантаймах: onnxruntime, tensorrt, tvm, tflite, pytorch-keras, openvino... (0.5 балла за каждый фреймворк)\n",
    "4) Продемонстрировать манипуляцию весами: трансформировать первый слой, чтобы количество входных каналов в первой свертке было не 3, а 1 с минимальной потерей точности. То есть, сетка должна работать на грейскейле. (1 балл)"
   ]
  },
  {
   "cell_type": "markdown",
   "metadata": {},
   "source": [
    "## Настройки/Гиперпараметры/Импорты"
   ]
  },
  {
   "cell_type": "code",
   "execution_count": 34,
   "metadata": {},
   "outputs": [],
   "source": [
    "import torchvision # для работы (скачивания, преобразования...) с картинками (датасетом)\n",
    "import matplotlib.pyplot as plt # для вывода графиков/картинок\n",
    "\n",
    "import torch # для работы с тензорами и моделями"
   ]
  },
  {
   "cell_type": "code",
   "execution_count": 59,
   "metadata": {},
   "outputs": [],
   "source": [
    "dtype = torch.float64"
   ]
  },
  {
   "cell_type": "markdown",
   "metadata": {},
   "source": [
    "# Подготовка датасета и модели"
   ]
  },
  {
   "cell_type": "markdown",
   "metadata": {},
   "source": [
    "## Датасет"
   ]
  },
  {
   "cell_type": "markdown",
   "metadata": {},
   "source": [
    "CIFAR-100 — датасет, состоящий из 60 000 изображений, поделенных на 100 классов. В обучающей выборке присутствуют 50 000 изображений, по 500 сэмплов для каждого класса. Тогда как в тестовой — 10 000 по 100 сэмплов.\n",
    "\n",
    "Каждое изображение имеет размерность (3, 32, 32) ~ (Channels, Height, Width)."
   ]
  },
  {
   "cell_type": "markdown",
   "metadata": {},
   "source": [
    "Классы (labels) датасета:\n"
   ]
  },
  {
   "cell_type": "code",
   "execution_count": 56,
   "metadata": {},
   "outputs": [
    {
     "name": "stdout",
     "output_type": "stream",
     "text": [
      "Класс 0: apple\n",
      "Класс 1: aquarium_fish\n",
      "Класс 2: baby\n",
      "Класс 3: bear\n",
      "Класс 4: beaver\n",
      "Класс 5: bed\n",
      "Класс 6: bee\n",
      "Класс 7: beetle\n",
      "Класс 8: bicycle\n",
      "Класс 9: bottle\n",
      "Класс 10: bowl\n",
      "Класс 11: boy\n",
      "Класс 12: bridge\n",
      "Класс 13: bus\n",
      "Класс 14: butterfly\n",
      "Класс 15: camel\n",
      "Класс 16: can\n",
      "Класс 17: castle\n",
      "Класс 18: caterpillar\n",
      "Класс 19: cattle\n",
      "Класс 20: chair\n",
      "Класс 21: chimpanzee\n",
      "Класс 22: clock\n",
      "Класс 23: cloud\n",
      "Класс 24: cockroach\n",
      "Класс 25: couch\n",
      "Класс 26: crab\n",
      "Класс 27: crocodile\n",
      "Класс 28: cup\n",
      "Класс 29: dinosaur\n",
      "Класс 30: dolphin\n",
      "Класс 31: elephant\n",
      "Класс 32: flatfish\n",
      "Класс 33: forest\n",
      "Класс 34: fox\n",
      "Класс 35: girl\n",
      "Класс 36: hamster\n",
      "Класс 37: house\n",
      "Класс 38: kangaroo\n",
      "Класс 39: keyboard\n",
      "Класс 40: lamp\n",
      "Класс 41: lawn_mower\n",
      "Класс 42: leopard\n",
      "Класс 43: lion\n",
      "Класс 44: lizard\n",
      "Класс 45: lobster\n",
      "Класс 46: man\n",
      "Класс 47: maple_tree\n",
      "Класс 48: motorcycle\n",
      "Класс 49: mountain\n",
      "Класс 50: mouse\n",
      "Класс 51: mushroom\n",
      "Класс 52: oak_tree\n",
      "Класс 53: orange\n",
      "Класс 54: orchid\n",
      "Класс 55: otter\n",
      "Класс 56: palm_tree\n",
      "Класс 57: pear\n",
      "Класс 58: pickup_truck\n",
      "Класс 59: pine_tree\n",
      "Класс 60: plain\n",
      "Класс 61: plate\n",
      "Класс 62: poppy\n",
      "Класс 63: porcupine\n",
      "Класс 64: possum\n",
      "Класс 65: rabbit\n",
      "Класс 66: raccoon\n",
      "Класс 67: ray\n",
      "Класс 68: road\n",
      "Класс 69: rocket\n",
      "Класс 70: rose\n",
      "Класс 71: sea\n",
      "Класс 72: seal\n",
      "Класс 73: shark\n",
      "Класс 74: shrew\n",
      "Класс 75: skunk\n",
      "Класс 76: skyscraper\n",
      "Класс 77: snail\n",
      "Класс 78: snake\n",
      "Класс 79: spider\n",
      "Класс 80: squirrel\n",
      "Класс 81: streetcar\n",
      "Класс 82: sunflower\n",
      "Класс 83: sweet_pepper\n",
      "Класс 84: table\n",
      "Класс 85: tank\n",
      "Класс 86: telephone\n",
      "Класс 87: television\n",
      "Класс 88: tiger\n",
      "Класс 89: tractor\n",
      "Класс 90: train\n",
      "Класс 91: trout\n",
      "Класс 92: tulip\n",
      "Класс 93: turtle\n",
      "Класс 94: wardrobe\n",
      "Класс 95: whale\n",
      "Класс 96: willow_tree\n",
      "Класс 97: wolf\n",
      "Класс 98: woman\n",
      "Класс 99: worm\n"
     ]
    }
   ],
   "source": [
    "classes = [\"apple\",  \"aquarium_fish\", \"baby\", \"bear\", \"beaver\", \"bed\", \"bee\", \"beetle\", \"bicycle\", \"bottle\", \"bowl\", \"boy\", \"bridge\", \"bus\", \"butterfly\", \"camel\", \"can\", \"castle\", \"caterpillar\", \"cattle\", \"chair\", \"chimpanzee\", \"clock\", \"cloud\", \"cockroach\", \"couch\", \"crab\", \"crocodile\", \"cup\", \"dinosaur\", \"dolphin\", \"elephant\", \"flatfish\", \"forest\", \"fox\", \"girl\", \"hamster\", \"house\", \"kangaroo\", \"keyboard\", \"lamp\", \"lawn_mower\", \"leopard\", \"lion\", \"lizard\", \"lobster\", \"man\", \"maple_tree\", \"motorcycle\", \"mountain\", \"mouse\", \"mushroom\", \"oak_tree\", \"orange\", \"orchid\", \"otter\", \"palm_tree\", \"pear\", \"pickup_truck\", \"pine_tree\", \"plain\", \"plate\", \"poppy\", \"porcupine\", \"possum\", \"rabbit\", \"raccoon\", \"ray\", \"road\", \"rocket\", \"rose\", \"sea\", \"seal\", \"shark\", \"shrew\", \"skunk\", \"skyscraper\", \"snail\", \"snake\", \"spider\", \"squirrel\", \"streetcar\", \"sunflower\", \"sweet_pepper\", \"table\", \"tank\", \"telephone\", \"television\", \"tiger\", \"tractor\", \"train\", \"trout\", \"tulip\", \"turtle\", \"wardrobe\", \"whale\", \"willow_tree\", \"wolf\", \"woman\", \"worm\"]\n",
    "for i in range (len(classes)):\n",
    "    print(f\"Класс {i}: {classes[i]}\")"
   ]
  },
  {
   "cell_type": "markdown",
   "metadata": {},
   "source": [
    "**Нужные нам классы находятся под индексами 8 (bicycle) и 48 (motorcycle), всё остальное будем считать за \"background\".**"
   ]
  },
  {
   "cell_type": "code",
   "execution_count": 100,
   "metadata": {},
   "outputs": [
    {
     "name": "stdout",
     "output_type": "stream",
     "text": [
      "Files already downloaded and verified\n",
      "Files already downloaded and verified\n"
     ]
    }
   ],
   "source": [
    "# преобразования над датасетом\n",
    "transforms = torchvision.transforms.Compose([ # Compose объединяет несколько преобразований вместе, чтобы они выполнялись \"последовательно\"\n",
    "                                             torchvision.transforms.ToTensor(), # преобразование PIL изображения (или ndarray формата (Height x Width x Channels)) в tensor (типа float со значениями в области [0.0, 1.0], если такая трансформация поддерживается (см описание ToTensor))\n",
    "                                             torchvision.transforms.Normalize(mean=(0.5071, 0.4867, 0.4408), std=(0.2675, 0.2565, 0.2761)) # нормализация каналов (в датасете три канала) к указанным среднему значению и стандартному отклонению (цифры подобраны под датасет)\n",
    "])\n",
    "\n",
    "# датасет для обучения\n",
    "data_train = torchvision.datasets.CIFAR100(root=\"./data\", # путь, откуда брать/куда сохранять датасет\n",
    "                                           train=True, # скачиание обучающей части датасета\n",
    "                                           download=True, # скачивать ли датасет, если его нет в root пути\n",
    "                                        #    transform=transforms # функция, принимающая на вход PIL Image и преобразовывающая его\n",
    "                                          )\n",
    "\n",
    "# загрузчик данных для обучения\n",
    "loader_train = torch.utils.data.DataLoader(dataset=data_train, # указание датасета для DataLoader\n",
    "                                           batch_size=20, # размер батчка (число сэмплов, что будет возвращать DataLoader за раз) (градиент усредняется по батчу, ускоряется обработка датасета, но слегка замедляется обработка сэмпла)\n",
    "                                           num_workers=5, # число используемых ядер процессора для ускорения обработки данных\n",
    "                                           pin_memory=True # нужно ли заранее аллоцировать память под объект на GPU (лучше так, чем возвращать CUDA tensors при multi-process loading)\n",
    "                                           )\n",
    "\n",
    "# аналогично для тестирования\n",
    "data_test = torchvision.datasets.CIFAR100(root=\"./data\", # путь, откуда брать/куда сохранять датасет\n",
    "                                          train=False, # скачиание обучающей части датасета\n",
    "                                          download=True, # скачивать ли датасет, если его нет в root пути\n",
    "                                        #   transform=transforms # функция, принимающая на вход PIL Image и преобразовывающая его\n",
    "                                         )\n",
    "\n",
    "loader_test = torch.utils.data.DataLoader(dataset=data_test, # указание датасета для DataLoader\n",
    "                                          batch_size=20, # размер батчка (число сэмплов, что будет возвращать DataLoader за раз) (градиент усредняется по батчу, ускоряется обработка датасета, но слегка замедляется обработка сэмпла)\n",
    "                                          num_workers=5, # число используемых ядер процессора для ускорения обработки данных\n",
    "                                          pin_memory=True # нужно ли заранее аллоцировать память под объект на GPU (лучше так, чем возвращать CUDA tensors при multi-process loading)\n",
    "                                         )"
   ]
  },
  {
   "cell_type": "code",
   "execution_count": 119,
   "metadata": {},
   "outputs": [],
   "source": [
    "image = None\n",
    "for sample, label in data_train:\n",
    "    if label == 8:\n",
    "        image = sample"
   ]
  },
  {
   "cell_type": "code",
   "execution_count": 120,
   "metadata": {},
   "outputs": [
    {
     "data": {
      "image/png": "[encoded data removed]",
      "text/plain": [
       "<PIL.Image.Image image mode=RGB size=32x32>"
      ]
     },
     "execution_count": 120,
     "metadata": {},
     "output_type": "execute_result"
    }
   ],
   "source": [
    "image"
   ]
  },
  {
   "cell_type": "code",
   "execution_count": 103,
   "metadata": {},
   "outputs": [
    {
     "data": {
      "image/png": "[encoded data removed]",
      "text/plain": [
       "<PIL.Image.Image image mode=RGB size=32x32>"
      ]
     },
     "execution_count": 103,
     "metadata": {},
     "output_type": "execute_result"
    }
   ],
   "source": [
    "data_train[0][0]"
   ]
  },
  {
   "cell_type": "code",
   "execution_count": 55,
   "metadata": {},
   "outputs": [
    {
     "name": "stderr",
     "output_type": "stream",
     "text": [
      "Clipping input data to the valid range for imshow with RGB data ([0..1] for floats or [0..255] for integers).\n"
     ]
    },
    {
     "data": {
      "image/png": "[encoded data removed]",
      "text/plain": [
       "<Figure size 432x288 with 1 Axes>"
      ]
     },
     "metadata": {
      "needs_background": "light"
     },
     "output_type": "display_data"
    }
   ],
   "source": [
    "plt.imshow(data_train[0][0].permute(1, 2, 0)) # построение изображения\n",
    "# .permute(1, 2, 0) меняет местами размерности, на первое место выходит Height, второе — Width, третье — Channels, так как shape(3, 32, 32) ~ (Channels, Height, Width) не воспринимается\n",
    "# операция схожа с reshape, но permute просто меняет местами индексы, гарантируя, что обращение с соответствующей перестановкой индексов вернёт тот же элемент (что был бы без permute и перестановки индексов)\n",
    "\n",
    "plt.show() # вывод изображения"
   ]
  },
  {
   "cell_type": "markdown",
   "metadata": {},
   "source": [
    "## Модель"
   ]
  },
  {
   "cell_type": "code",
   "execution_count": null,
   "metadata": {},
   "outputs": [],
   "source": [
    "# model = timm.create_model(\"hf_hub:edadaltocg/resnet50_cifar100\", pretrained=True) # shape mismatch conv1.weight: copying a param with shape torch.Size([64, 3, 3, 3]) from checkpoint, the shape in current model is torch.Size([64, 3, 7, 7])."
   ]
  },
  {
   "cell_type": "code",
   "execution_count": null,
   "metadata": {},
   "outputs": [],
   "source": [
    "# model = timm.create_model(\"hf_hub:daveni/upside_down_classifier\", pretrained=True) # KeyError: 'architecture'"
   ]
  },
  {
   "cell_type": "code",
   "execution_count": 122,
   "metadata": {},
   "outputs": [],
   "source": [
    "from transformers import ViTFeatureExtractor, ViTModel, ViTForImageClassification, ViTImageProcessor\n",
    "from PIL import Image\n",
    "import requests\n",
    "\n",
    "# url = 'http://images.cocodataset.org/val2017/000000039769.jpg'\n",
    "# image = Image.open(requests.get(url, stream=True).raw)\n",
    "\n",
    "# image = data_train[0][0] # корова\n",
    "\n",
    "image = None\n",
    "for sample, label in data_train:\n",
    "    if label == 8:\n",
    "        image = sample\n",
    "\n",
    "# feature_extractor = ViTFeatureExtractor.from_pretrained('google/vit-base-patch16-224-in21k')\n",
    "feature_extractor = ViTImageProcessor.from_pretrained('google/vit-base-patch16-224-in21k')\n",
    "\n",
    "# model = ViTModel.from_pretrained('edumunozsala/vit_base-224-in21k-ft-cifar100')\n",
    "model = ViTForImageClassification.from_pretrained('edumunozsala/vit_base-224-in21k-ft-cifar100')\n",
    "inputs = feature_extractor(images=image, return_tensors=\"pt\")\n",
    "\n",
    "outputs = model(**inputs)\n",
    "# last_hidden_states = outputs.last_hidden_state"
   ]
  },
  {
   "cell_type": "code",
   "execution_count": 123,
   "metadata": {},
   "outputs": [
    {
     "data": {
      "text/plain": [
       "tensor(8)"
      ]
     },
     "execution_count": 123,
     "metadata": {},
     "output_type": "execute_result"
    }
   ],
   "source": [
    "torch.argmax(outputs.logits[0])"
   ]
  },
  {
   "cell_type": "markdown",
   "metadata": {},
   "source": [
    "# 1) Fine-tuning нейронной сети под задачу"
   ]
  },
  {
   "cell_type": "markdown",
   "metadata": {},
   "source": [
    "Как вариант решения проблемы дисбаланса классов — увеличим вес нужных классов при подсчёте loss функции, чтобы ошибка в них сильнее отзывалась в модели. Например — увеличим их вес в 20 раз."
   ]
  },
  {
   "cell_type": "code",
   "execution_count": 71,
   "metadata": {},
   "outputs": [
    {
     "data": {
      "text/plain": [
       "tensor([ 1.,  1.,  1.,  1.,  1.,  1.,  1.,  1., 20.,  1.,  1.,  1.,  1.,  1.,\n",
       "         1.,  1.,  1.,  1.,  1.,  1.,  1.,  1.,  1.,  1.,  1.,  1.,  1.,  1.,\n",
       "         1.,  1.,  1.,  1.,  1.,  1.,  1.,  1.,  1.,  1.,  1.,  1.,  1.,  1.,\n",
       "         1.,  1.,  1.,  1.,  1.,  1., 20.,  1.,  1.,  1.,  1.,  1.,  1.,  1.,\n",
       "         1.,  1.,  1.,  1.,  1.,  1.,  1.,  1.,  1.,  1.,  1.,  1.,  1.,  1.,\n",
       "         1.,  1.,  1.,  1.,  1.,  1.,  1.,  1.,  1.,  1.,  1.,  1.,  1.,  1.,\n",
       "         1.,  1.,  1.,  1.,  1.,  1.,  1.,  1.,  1.,  1.,  1.,  1.,  1.,  1.,\n",
       "         1.,  1.], dtype=torch.float64)"
      ]
     },
     "execution_count": 71,
     "metadata": {},
     "output_type": "execute_result"
    }
   ],
   "source": [
    "loss_weights = torch.ones(size=(100,), dtype=dtype) # вектор с весами для \n",
    "loss_weights[8] = 20.0\n",
    "loss_weights[48] = 20.0\n",
    "loss_weights"
   ]
  },
  {
   "cell_type": "code",
   "execution_count": null,
   "metadata": {},
   "outputs": [],
   "source": [
    "loss_function = torch.nn.CrossEntropyLoss(weight=loss_weights) # создаём функцию для подсчёта loss с указанием \"особых\" весов классов\n",
    "# loss - кросс-энтропия (перекрёстная энтропия)\n",
    "# CrossEntropyLoss на вход ожидает вероятность класса для всех k классов\n",
    "# то есть массив с вероятностями для каждой из четырёх категорий новостей"
   ]
  },
  {
   "cell_type": "markdown",
   "metadata": {},
   "source": [
    "# 2) Анализ результатов"
   ]
  },
  {
   "cell_type": "code",
   "execution_count": null,
   "metadata": {},
   "outputs": [],
   "source": []
  },
  {
   "cell_type": "markdown",
   "metadata": {},
   "source": [
    "# 3) Сравнение производительности"
   ]
  },
  {
   "cell_type": "code",
   "execution_count": null,
   "metadata": {},
   "outputs": [],
   "source": []
  },
  {
   "cell_type": "markdown",
   "metadata": {},
   "source": [
    "# 4) Манипуляция с весами"
   ]
  },
  {
   "cell_type": "code",
   "execution_count": null,
   "metadata": {},
   "outputs": [],
   "source": []
  }
 ],
 "metadata": {
  "kernelspec": {
   "display_name": "gpu",
   "language": "python",
   "name": "gpu"
  },
  "language_info": {
   "codemirror_mode": {
    "name": "ipython",
    "version": 3
   },
   "file_extension": ".py",
   "mimetype": "text/x-python",
   "name": "python",
   "nbconvert_exporter": "python",
   "pygments_lexer": "ipython3",
   "version": "3.9.12"
  }
 },
 "nbformat": 4,
 "nbformat_minor": 2
}
