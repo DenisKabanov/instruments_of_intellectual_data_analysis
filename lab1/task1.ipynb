{
 "cells": [
  {
   "cell_type": "markdown",
   "metadata": {},
   "source": [
    "# Задание: \n",
    "Для каждого кадра с камеры 1 нужно найти соответствующий (ближайший по времени) кадр с камеры 2. \n",
    "* Камеры записывают в формате (номер кадра, время его захвата) ~ (frame, timestamp).\n",
    "* Камеры могут делать запись с разной частотой кадров в секунду и наличием шума (несоответствии времени кадра ожидаемому времени)."
   ]
  },
  {
   "cell_type": "markdown",
   "metadata": {},
   "source": [
    "## Настройки/Гиперпараметры/Импорты"
   ]
  },
  {
   "cell_type": "code",
   "execution_count": 1,
   "metadata": {},
   "outputs": [],
   "source": [
    "import time # для подсчёта времени работы\n",
    "import numpy as np # для быстрой работы с массивами\n",
    "from multiprocessing import Pool # для параллельного запуска (нужны процессы, а не потоки из multithreading/concurrent.futures)\n",
    "from numba import njit # импорт компилятора для ускорения питона"
   ]
  },
  {
   "cell_type": "code",
   "execution_count": 2,
   "metadata": {},
   "outputs": [],
   "source": [
    "cores_number = 2 # число ядер, на которые будет распараллеливаться выполнение кода\n",
    "runs = 5 # число запусков для усреднения времени"
   ]
  },
  {
   "cell_type": "markdown",
   "metadata": {},
   "source": [
    "## Вспомогательные функции"
   ]
  },
  {
   "cell_type": "code",
   "execution_count": 3,
   "metadata": {},
   "outputs": [],
   "source": [
    "def make_timestamps(fps: int, st_ts: float, fn_ts: float) -> np.ndarray: # функция генерации записей с камеры\n",
    "    \"\"\"\n",
    "    Создаёт np.array timestamps (массив времени записи кадра). \n",
    "    Этот массив дискретизирован по fps, но не равномерно.\n",
    "    Возвращаемые timestamps отсортированы и уникальны.\\n\n",
    "    Parameters:\n",
    "        * fps: среднее число кадров в секунду\n",
    "        * st_ts: первый timestamp в последовательности (время первого кадра)\n",
    "        * fn_ts: первый timestamp в последовательности (время последнего кадра) \\n\n",
    "    Returns:\n",
    "        * np.ndarray: сгенерированные timestamps (массивы времени записи кадра)\n",
    "    \"\"\"\n",
    "    timestamps = np.linspace(st_ts, fn_ts, int((fn_ts - st_ts) * fps)) # создаём временные записи из равномерного распределения\n",
    "    timestamps += np.random.randn(len(timestamps)) # зашумляем кадры\n",
    "    timestamps = np.unique(np.sort(timestamps)) # сортируем кадры по времени и оставляем только уникальные\n",
    "    return timestamps"
   ]
  },
  {
   "cell_type": "code",
   "execution_count": 4,
   "metadata": {},
   "outputs": [],
   "source": [
    "def calc_average_time(alg, data, runs: int=100) -> (float, np.ndarray): # функция для подсчёта среднего времени работы алгоритма\n",
    "    \"\"\"\n",
    "    Функция для подсчёта среднего времени работы алгоритма.\\n\n",
    "    Parameters:\n",
    "        * alg: алгоритм для тестирования\n",
    "        * data: данные на вход алгоритма\n",
    "        * runs: число запусков для усреднения времени\n",
    "    Returns:\n",
    "        * float: среднее время работы\n",
    "        * np.ndarray: получившийся ответ\n",
    "    \"\"\"\n",
    "    time_start = time.perf_counter() # замеряем время начала\n",
    "    for i in range(runs): # делаем runs запусков\n",
    "        answer = alg(*data) # вызываем алгоритм (*data для развёртывания переданных данных для алгоритма, если они в list-like формате)\n",
    "        print(i, (time.perf_counter() - time_start)/(i+1)) # вывод среднего времени i-ой итерации (i+1 из-за нумерации с нуля)\n",
    "    time_average = (time.perf_counter() - time_start) / runs # считаем среднее время\n",
    "    return time_average, answer # возвращаем среднее время и получившийся ответ"
   ]
  },
  {
   "cell_type": "code",
   "execution_count": 5,
   "metadata": {},
   "outputs": [],
   "source": [
    "# generate timestamps for the first camera\n",
    "# timestamps1 = make_timestamps(30, time.time() - 100, time.time() + 300 * 2) # не 3600 (60 секунд * 60 минут), а лишь (10 * 60) = 10 минут\n",
    "# generate timestamps for the second camera\n",
    "# timestamps2 = make_timestamps(60, time.time() + 200, time.time() + 300 * 2.5) # не 3600 (60 секунд * 60 минут), а лишь (10 * 60) = 10 минут\n",
    "\n",
    "timestamps1 = make_timestamps(30, time.time() - 100, time.time() + 900 * 2) # не 3600 (60 секунд * 60 минут), а лишь (10 * 60) = 10 минут\n",
    "timestamps2 = make_timestamps(60, time.time() + 200, time.time() + 900 * 2.5) # не 3600 (60 секунд * 60 минут), а лишь (10 * 60) = 10 минут"
   ]
  },
  {
   "cell_type": "code",
   "execution_count": 6,
   "metadata": {},
   "outputs": [
    {
     "data": {
      "text/plain": [
       "(57000,)"
      ]
     },
     "execution_count": 6,
     "metadata": {},
     "output_type": "execute_result"
    }
   ],
   "source": [
    "timestamps1.shape"
   ]
  },
  {
   "cell_type": "markdown",
   "metadata": {},
   "source": [
    "## Варианты решения"
   ]
  },
  {
   "cell_type": "markdown",
   "metadata": {},
   "source": [
    "### 1) Глупо считаем разницу во времени между i-м кадром с первой камеры и всеми кадрами со второй камеры. В ответ записываем номер кадра со второй камеры с наименьшим модулем разности времени."
   ]
  },
  {
   "cell_type": "code",
   "execution_count": 7,
   "metadata": {},
   "outputs": [],
   "source": [
    "@njit #====================== использовать ли numba компилятор для функции ============================\n",
    "def match_timestamps_naive(timestamps1: np.ndarray, timestamps2: np.ndarray) -> np.ndarray: \n",
    "# так как в задании первая камера пишет в ~30 fps -> размер первого массива n; вторая камера пишет в ~60 fps -> размер второго массива 2n; сокращаем на константы и получаем n\n",
    "# делаем для каждого элемента первого массива: - O(n)\n",
    "#   из всех элементов второго массива вычитается элемент первого массива (считаем delta) за O(2n) ~ O(n)\n",
    "#   в получившихся delta ищем наименьший элемент за O(2n) ~ O(n)\n",
    "# итоговая сложность: O(размер_первого_массива * (размер_второго_массива + размер_второго_массива)) = O(n*(2n+2n)) = O(4n^2) ~ O(n^2)\n",
    "    frames_count = timestamps1.shape[0] # число кадров на камере 1\n",
    "    correspondence = np.zeros(frames_count, dtype=np.int32) # создаём массив под номера кадров с типом int32 для уменьшения потребляемой памяти\n",
    "\n",
    "    #===================== вариант с циклом в np.arange ================================================\n",
    "    # for frame in np.arange(frames_count): # идём по номерам кадров с первой камеры\n",
    "    #--------------------- вариант с циклом в enumerate ------------------------------------------------\n",
    "    for frame, frame_time in enumerate(timestamps1): # идём по кадрам\n",
    "    #===================================================================================================\n",
    "        #===================== вариант с сохранением delta =============================================\n",
    "        # deltas = np.absolute(timestamps2 - timestamps1[frame]) # считаем разницу между временами\n",
    "        # correspondence[frame] = deltas.argmin() # берём номер кадра с наименьшей разницей\n",
    "        #--------------------- вариант без сохранения delta --------------------------------------------\n",
    "        correspondence[frame] = np.absolute(timestamps2 - frame_time).argmin() # цикл с enumerate\n",
    "        # correspondence[frame] = np.absolute(timestamps2 - timestamps1[frame]).argmin() # цикл с np.arange\n",
    "        #===============================================================================================\n",
    "\n",
    "    return correspondence"
   ]
  },
  {
   "cell_type": "code",
   "execution_count": 8,
   "metadata": {},
   "outputs": [
    {
     "name": "stdout",
     "output_type": "stream",
     "text": [
      "0 16.7280714\n",
      "1 16.088027750000002\n",
      "2 16.68221266666667\n",
      "3 16.507550925\n",
      "4 16.37149692\n"
     ]
    }
   ],
   "source": [
    "true_time, true_answer = calc_average_time(match_timestamps_naive, (timestamps1, timestamps2), runs=runs) # без njit, цикл в np.arange\n",
    "# время работы либо 20 секунд, либо 70 и почему — не понятно \n",
    "# мб хеширование у ipynb файлов, так как уже замечалась странная работа с multiprocessing в notebook с функциями из того же notebook; в .py скрипте такое не наблюдается"
   ]
  },
  {
   "cell_type": "markdown",
   "metadata": {},
   "source": [
    "<pre>\n",
    "- naive no njit + np.arange ~ 20.0 - 70.0 секунд\n",
    "- naive no njit + enumerate ~ 18.0 - 19.0 секунд\n",
    "- naive njit    + np.arange ~ 15.5 - 15.8 секунд\n",
    "- naive njit    + enumerate ~ 15.0 - 15.7 секунд\n",
    "</pre>"
   ]
  },
  {
   "cell_type": "markdown",
   "metadata": {},
   "source": [
    "### 2) Параллельная версия первого алгоритма"
   ]
  },
  {
   "cell_type": "code",
   "execution_count": 9,
   "metadata": {},
   "outputs": [],
   "source": [
    "from func import match_timestamps_naive # импорт функции, так как в notebook multiprocessing навсегда зависает при вызове функции из этого же notebook (???)"
   ]
  },
  {
   "cell_type": "code",
   "execution_count": 10,
   "metadata": {},
   "outputs": [],
   "source": [
    "def match_timestamps_naive_parallel(timestamps1: np.ndarray, timestamps2: np.ndarray, func, cores_number: int) -> np.ndarray: \n",
    "# так как в задании первая камера пишет в ~30 fps -> размер первого массива n; вторая камера пишет в ~60 fps -> размер второго массива 2n; сокращаем на константы и получаем n\n",
    "# делаем для каждого элемента первого массива с распараллеливанием: - O(n/cores_number)\n",
    "#   из всех элементов второго массива вычитается элемент первого массива (считаем delta) за O(2n) ~ O(n)\n",
    "#   в получившихся delta ищем наименьший элемент за O(2n) ~ O(n)\n",
    "# итоговая сложность: O(размер_первого_массива / число_ядер * (размер_второго_массива + размер_второго_массива)) = O(n/cores_number*(2n+2n)) = O(4/cores_number*n^2) ~ O(n^2/cores_number)\n",
    "    frames_count = timestamps1.shape[0] # число кадров с первой камеры\n",
    "    with Pool(cores_number) as p: # запускаем cores_number процессов\n",
    "        correspondence = np.concatenate(p.starmap(match_timestamps_naive, [(timestamps1[int(i*frames_count/cores_number):int((i+1)*frames_count/cores_number)], timestamps2) for i in np.arange(cores_number)]), dtype=np.int32)\n",
    "        #  - каждому процессу отправляем равную часть кадров с первой камеры и все кадры со второй\n",
    "        #  - конкатенируем вернувшиеся из процессов массивы с индексами\n",
    "        # не обязательно передавать chunksize, так как распараллеливание уже идёт по кейсам/инпутам для функций\n",
    "        # dtype=np.int32 для уменьшения потребляемой памяти и ускорения работы\n",
    "\n",
    "    return correspondence"
   ]
  },
  {
   "cell_type": "code",
   "execution_count": 11,
   "metadata": {},
   "outputs": [
    {
     "name": "stdout",
     "output_type": "stream",
     "text": [
      "0 10.6483499\n",
      "1 11.165950449999997\n",
      "2 11.167743366666665\n",
      "3 11.054101725000002\n",
      "4 10.969213000000002\n"
     ]
    }
   ],
   "source": [
    "time_naive_parallel, answer_naive_parallel = calc_average_time(match_timestamps_naive_parallel, (timestamps1, timestamps2, match_timestamps_naive, cores_number), runs=runs) # подсчёт среднего времени (с njit и enumerate циклом)\n",
    "# время примерно 40 секунд (если считать, что непараллельная версия выполняется за 70, то всё ок)"
   ]
  },
  {
   "cell_type": "code",
   "execution_count": 12,
   "metadata": {},
   "outputs": [
    {
     "data": {
      "text/plain": [
       "True"
      ]
     },
     "execution_count": 12,
     "metadata": {},
     "output_type": "execute_result"
    }
   ],
   "source": [
    "np.all(answer_naive_parallel==true_answer) # проверка, что параллельная функция отработала корректно"
   ]
  },
  {
   "cell_type": "markdown",
   "metadata": {},
   "source": [
    "<pre>\n",
    "- parallel naive no njit + np.arange ~ 40.0 - 41.0 секунд\n",
    "- parallel naive no njit + enumerate ~ 41.0 - 43.0 секунд\n",
    "- parallel naive njit    + np.arange ~ 11.2 - 12.0 секунд\n",
    "- parallel naive njit    + enumerate ~ 10.0 - 11.2 секунд\n",
    "</pre>"
   ]
  },
  {
   "cell_type": "markdown",
   "metadata": {},
   "source": [
    "### 3) Идём по последовательности кадров с первой камеры, запоминанием найденное соответствие со второй (номер delta, после которого разница во времени начинают увеличиваться). На следующем шаге по кадрам на второй камере начинаем идти с найденного соответствия на предыдущем шаге (так как кадры отсортированы в порядке неубывания - нет смысла рассматривать кадры, что заведомо имеют большую delta из-за увеличения времени на первой камере)."
   ]
  },
  {
   "cell_type": "code",
   "execution_count": 18,
   "metadata": {},
   "outputs": [],
   "source": [
    "@njit #====================== использовать ли numba компилятор для функции ============================\n",
    "def match_timestamps_iterated(timestamps1: np.ndarray, timestamps2: np.ndarray, cam2_frame: int=0) -> np.ndarray: \n",
    "# так как в задании первая камера пишет в ~30 fps -> размер первого массива n; вторая камера пишет в ~60 fps -> размер второго массива 2n; сокращаем на константы и получаем n\n",
    "\n",
    "# ищем начальный кадр для второй камеры - O(2n), однако реальная сложность меньше, так как cam2_frame уже найден эвристически с учётом числа кадров на первой и второй камере\n",
    "# делаем для каждого элемента (времени) с первой камеры: - O(n)\n",
    "#   вычитаем из соответствующего времени кадра второй камеры значение времени кадра с первой камеры - O(2n) в худшем случае, O(2) ~ O(1) в среднем, так как кадры распределены равномерно \n",
    "#       если дельта уменьшилась - переходим к следующему кадру на второй камере и так далее, пока дельта уменьшается\n",
    "#       если дельта не уменьшилась - возвращаем предыдущий кадр, как самый близкий по времени\n",
    "# итоговая сложность: O(размер_второго_массива + размер_первого_массива * размер_второго_массива) ~ [в среднем] ~ O(размер_второго_массива + размер_первого_массива * 1) ~ O(n)\n",
    "\n",
    "    frames_count = timestamps1.shape[0] # число кадров на камере 1\n",
    "    max_frame = timestamps2.shape[0] - 1 # максимальный номер кадра, что может соответствовать кадру с первой камеры (-1 из-за индексации с нуля)\n",
    "    correspondence = np.zeros(frames_count, dtype=np.int32) # создаём массив под номера кадров с типом int32 для уменьшения потребляемой памяти\n",
    "\n",
    "    if 0 > cam2_frame or cam2_frame > max_frame: # защита от дурака с cam2_frame\n",
    "        cam2_frame = 0 # зануление начального кадра второй камеры\n",
    "\n",
    "    # подбираем кадр на второй камере, с которого будем начинать (эвристически уже передали ожидаемый cam2_frame, нужно его лишь правильно сместить, если он \"обогнал\" кадры с камеры 1)\n",
    "    delta = np.abs(timestamps2[cam2_frame] - timestamps1[0]) # текущая разность времени\n",
    "    while np.abs(timestamps2[max(0, cam2_frame-1)] - timestamps1[0]) < delta: # если дельта уменьшается при предыдущем кадре, то переходим на него (условие — строго меньше, так как времена всех кадров уникальны)\n",
    "        cam2_frame -= 1 # переходим на предыдущий кадр (без max, так как при нуле мы бы сюда не зашли в цикл)\n",
    "        delta = np.abs(timestamps2[cam2_frame] - timestamps1[0]) # обновляем текущее значение delta (без max, так как при нуле мы бы не зашли в цикл)\n",
    "    # после этого цикла мы либо находимся на оптимальном соответствии первого кадра первой камеры с кадром со второй камеры, либо оптимум — далее по времени (но не раньше!)\n",
    "\n",
    "    for frame in np.arange(frames_count): # идём по номерам кадров с первой камеры\n",
    "        delta = np.abs(timestamps2[cam2_frame] - timestamps1[frame]) # текущая разность времени\n",
    "        while np.abs(timestamps2[min(cam2_frame+1, max_frame)] - timestamps1[frame]) < delta: # если при переходе на следующий кадр дельта (разница времени) уменьшилась, то обновляем delta и соответствующий кадр на второй камере \n",
    "            cam2_frame += 1 # переходим на следующий кадр\n",
    "            delta = np.abs(timestamps2[cam2_frame] - timestamps1[frame])  # обновляем delta\n",
    "        correspondence[frame] = cam2_frame # если дельта перестала уменьшаеться — записываем найденный кадр\n",
    "\n",
    "    return correspondence"
   ]
  },
  {
   "cell_type": "code",
   "execution_count": 19,
   "metadata": {},
   "outputs": [],
   "source": [
    "answer_iterated = match_timestamps_iterated(timestamps1, timestamps2)"
   ]
  },
  {
   "cell_type": "markdown",
   "metadata": {},
   "source": [
    "### 4) Параллельная реализация третьего алгоритма"
   ]
  },
  {
   "cell_type": "markdown",
   "metadata": {},
   "source": []
  }
 ],
 "metadata": {
  "kernelspec": {
   "display_name": "gpu",
   "language": "python",
   "name": "python3"
  },
  "language_info": {
   "codemirror_mode": {
    "name": "ipython",
    "version": 3
   },
   "file_extension": ".py",
   "mimetype": "text/x-python",
   "name": "python",
   "nbconvert_exporter": "python",
   "pygments_lexer": "ipython3",
   "version": "3.9.12"
  }
 },
 "nbformat": 4,
 "nbformat_minor": 2
}
